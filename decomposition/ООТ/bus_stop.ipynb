{
 "cells": [
  {
   "cell_type": "code",
   "execution_count": 1,
   "id": "b4d2f172",
   "metadata": {},
   "outputs": [],
   "source": [
    "import pandas as pd\n",
    "\n",
    "%matplotlib inline\n",
    "import matplotlib.pyplot as plt\n",
    "import seaborn as sns\n",
    "import plotly.graph_objs as go\n",
    "import numpy as np\n",
    "from pandas import read_excel"
   ]
  },
  {
   "cell_type": "code",
   "execution_count": 2,
   "id": "fc0a5ee0",
   "metadata": {},
   "outputs": [],
   "source": [
    "df = pd.read_csv('./assignments_from_pool_bus_stop.tsv', sep=\"\\t\")\n"
   ]
  },
  {
   "cell_type": "code",
   "execution_count": 3,
   "id": "d6f230f7",
   "metadata": {},
   "outputs": [],
   "source": [
    "df = df.drop(columns=['GOLDEN:result', 'HINT:text', 'HINT:default_language'])\n"
   ]
  },
  {
   "cell_type": "code",
   "execution_count": 4,
   "id": "fa76ee05",
   "metadata": {},
   "outputs": [
    {
     "name": "stdout",
     "output_type": "stream",
     "text": [
      "<class 'pandas.core.frame.DataFrame'>\n",
      "RangeIndex: 558 entries, 0 to 557\n",
      "Data columns (total 5 columns):\n",
      " #   Column                Non-Null Count  Dtype \n",
      "---  ------                --------------  ----- \n",
      " 0   INPUT:image           558 non-null    object\n",
      " 1   INPUT:label           558 non-null    object\n",
      " 2   INPUT:task-id         558 non-null    int64 \n",
      " 3   OUTPUT:result         558 non-null    object\n",
      " 4   ASSIGNMENT:worker_id  558 non-null    object\n",
      "dtypes: int64(1), object(4)\n",
      "memory usage: 21.9+ KB\n"
     ]
    }
   ],
   "source": [
    "df.info()\n",
    "\n"
   ]
  },
  {
   "cell_type": "code",
   "execution_count": 5,
   "id": "c9c49a83",
   "metadata": {},
   "outputs": [
    {
     "data": {
      "text/html": [
       "<div>\n",
       "<style scoped>\n",
       "    .dataframe tbody tr th:only-of-type {\n",
       "        vertical-align: middle;\n",
       "    }\n",
       "\n",
       "    .dataframe tbody tr th {\n",
       "        vertical-align: top;\n",
       "    }\n",
       "\n",
       "    .dataframe thead th {\n",
       "        text-align: right;\n",
       "    }\n",
       "</style>\n",
       "<table border=\"1\" class=\"dataframe\">\n",
       "  <thead>\n",
       "    <tr style=\"text-align: right;\">\n",
       "      <th></th>\n",
       "      <th>INPUT:image</th>\n",
       "      <th>INPUT:label</th>\n",
       "      <th>INPUT:task-id</th>\n",
       "      <th>OUTPUT:result</th>\n",
       "      <th>ASSIGNMENT:worker_id</th>\n",
       "    </tr>\n",
       "  </thead>\n",
       "  <tbody>\n",
       "    <tr>\n",
       "      <th>0</th>\n",
       "      <td>http://sdcimages.s3.yandex.net/nirvana/79972b4...</td>\n",
       "      <td>pedestrian</td>\n",
       "      <td>44</td>\n",
       "      <td>no</td>\n",
       "      <td>cd8a71fb8b9e2c828070404f9fb7ddf3</td>\n",
       "    </tr>\n",
       "    <tr>\n",
       "      <th>1</th>\n",
       "      <td>http://sdcimages.s3.yandex.net/nirvana/1535805...</td>\n",
       "      <td>no_stop</td>\n",
       "      <td>121</td>\n",
       "      <td>no</td>\n",
       "      <td>cd8a71fb8b9e2c828070404f9fb7ddf3</td>\n",
       "    </tr>\n",
       "    <tr>\n",
       "      <th>2</th>\n",
       "      <td>http://sdcimages.s3.yandex.net/nirvana/18db674...</td>\n",
       "      <td>no_stop</td>\n",
       "      <td>108</td>\n",
       "      <td>no</td>\n",
       "      <td>cd8a71fb8b9e2c828070404f9fb7ddf3</td>\n",
       "    </tr>\n",
       "    <tr>\n",
       "      <th>3</th>\n",
       "      <td>http://sdcimages.s3.yandex.net/nirvana/a5d42c2...</td>\n",
       "      <td>no_stop</td>\n",
       "      <td>106</td>\n",
       "      <td>no</td>\n",
       "      <td>cd8a71fb8b9e2c828070404f9fb7ddf3</td>\n",
       "    </tr>\n",
       "    <tr>\n",
       "      <th>4</th>\n",
       "      <td>http://sdcimages.s3.yandex.net/nirvana/2720c79...</td>\n",
       "      <td>give_way</td>\n",
       "      <td>232</td>\n",
       "      <td>no</td>\n",
       "      <td>cd8a71fb8b9e2c828070404f9fb7ddf3</td>\n",
       "    </tr>\n",
       "  </tbody>\n",
       "</table>\n",
       "</div>"
      ],
      "text/plain": [
       "                                         INPUT:image INPUT:label  \\\n",
       "0  http://sdcimages.s3.yandex.net/nirvana/79972b4...  pedestrian   \n",
       "1  http://sdcimages.s3.yandex.net/nirvana/1535805...     no_stop   \n",
       "2  http://sdcimages.s3.yandex.net/nirvana/18db674...     no_stop   \n",
       "3  http://sdcimages.s3.yandex.net/nirvana/a5d42c2...     no_stop   \n",
       "4  http://sdcimages.s3.yandex.net/nirvana/2720c79...    give_way   \n",
       "\n",
       "   INPUT:task-id OUTPUT:result              ASSIGNMENT:worker_id  \n",
       "0             44            no  cd8a71fb8b9e2c828070404f9fb7ddf3  \n",
       "1            121            no  cd8a71fb8b9e2c828070404f9fb7ddf3  \n",
       "2            108            no  cd8a71fb8b9e2c828070404f9fb7ddf3  \n",
       "3            106            no  cd8a71fb8b9e2c828070404f9fb7ddf3  \n",
       "4            232            no  cd8a71fb8b9e2c828070404f9fb7ddf3  "
      ]
     },
     "execution_count": 5,
     "metadata": {},
     "output_type": "execute_result"
    }
   ],
   "source": [
    " df.head()"
   ]
  },
  {
   "cell_type": "code",
   "execution_count": 6,
   "id": "782a9cf4",
   "metadata": {},
   "outputs": [],
   "source": [
    "#Создаю столбец с подсчетом ошибок, где правильный ответ уступи дорогу\n",
    "x =df[df['INPUT:label'] == 'bus_stop']\n",
    "x = x.fillna(0)\n",
    "def f(row):\n",
    "    if row['INPUT:label'] == row['OUTPUT:result']:\n",
    "        val = 0\n",
    "    else:\n",
    "        val = 1\n",
    "    return val\n",
    "\n",
    "x['result'] = x.apply(f, axis=1)"
   ]
  },
  {
   "cell_type": "code",
   "execution_count": 7,
   "id": "2f23957b",
   "metadata": {},
   "outputs": [
    {
     "data": {
      "text/plain": [
       "1.4184397163120568"
      ]
     },
     "execution_count": 7,
     "metadata": {},
     "output_type": "execute_result"
    }
   ],
   "source": [
    "# кол-во ошибок %\n",
    "x['result'].mean() *100"
   ]
  },
  {
   "cell_type": "code",
   "execution_count": 8,
   "id": "bb3863d0",
   "metadata": {},
   "outputs": [
    {
     "data": {
      "text/html": [
       "<div>\n",
       "<style scoped>\n",
       "    .dataframe tbody tr th:only-of-type {\n",
       "        vertical-align: middle;\n",
       "    }\n",
       "\n",
       "    .dataframe tbody tr th {\n",
       "        vertical-align: top;\n",
       "    }\n",
       "\n",
       "    .dataframe thead th {\n",
       "        text-align: right;\n",
       "    }\n",
       "</style>\n",
       "<table border=\"1\" class=\"dataframe\">\n",
       "  <thead>\n",
       "    <tr style=\"text-align: right;\">\n",
       "      <th></th>\n",
       "      <th>INPUT:image</th>\n",
       "      <th>INPUT:label</th>\n",
       "      <th>INPUT:task-id</th>\n",
       "      <th>OUTPUT:result</th>\n",
       "      <th>ASSIGNMENT:worker_id</th>\n",
       "      <th>result</th>\n",
       "    </tr>\n",
       "  </thead>\n",
       "  <tbody>\n",
       "    <tr>\n",
       "      <th>8</th>\n",
       "      <td>http://sdcimages.s3.yandex.net/nirvana/283529e...</td>\n",
       "      <td>bus_stop</td>\n",
       "      <td>59</td>\n",
       "      <td>bus_stop</td>\n",
       "      <td>cd8a71fb8b9e2c828070404f9fb7ddf3</td>\n",
       "      <td>0</td>\n",
       "    </tr>\n",
       "    <tr>\n",
       "      <th>10</th>\n",
       "      <td>http://sdcimages.s3.yandex.net/nirvana/7a6b1bb...</td>\n",
       "      <td>bus_stop</td>\n",
       "      <td>52</td>\n",
       "      <td>bus_stop</td>\n",
       "      <td>cd8a71fb8b9e2c828070404f9fb7ddf3</td>\n",
       "      <td>0</td>\n",
       "    </tr>\n",
       "    <tr>\n",
       "      <th>11</th>\n",
       "      <td>http://sdcimages.s3.yandex.net/nirvana/0d3b0f5...</td>\n",
       "      <td>bus_stop</td>\n",
       "      <td>87</td>\n",
       "      <td>bus_stop</td>\n",
       "      <td>cd8a71fb8b9e2c828070404f9fb7ddf3</td>\n",
       "      <td>0</td>\n",
       "    </tr>\n",
       "    <tr>\n",
       "      <th>14</th>\n",
       "      <td>http://sdcimages.s3.yandex.net/nirvana/c23235f...</td>\n",
       "      <td>bus_stop</td>\n",
       "      <td>58</td>\n",
       "      <td>bus_stop</td>\n",
       "      <td>0cf44e5957dd560030a3da754ce46c62</td>\n",
       "      <td>0</td>\n",
       "    </tr>\n",
       "    <tr>\n",
       "      <th>18</th>\n",
       "      <td>http://sdcimages.s3.yandex.net/nirvana/509cd09...</td>\n",
       "      <td>bus_stop</td>\n",
       "      <td>98</td>\n",
       "      <td>bus_stop</td>\n",
       "      <td>0cf44e5957dd560030a3da754ce46c62</td>\n",
       "      <td>0</td>\n",
       "    </tr>\n",
       "  </tbody>\n",
       "</table>\n",
       "</div>"
      ],
      "text/plain": [
       "                                          INPUT:image INPUT:label  \\\n",
       "8   http://sdcimages.s3.yandex.net/nirvana/283529e...    bus_stop   \n",
       "10  http://sdcimages.s3.yandex.net/nirvana/7a6b1bb...    bus_stop   \n",
       "11  http://sdcimages.s3.yandex.net/nirvana/0d3b0f5...    bus_stop   \n",
       "14  http://sdcimages.s3.yandex.net/nirvana/c23235f...    bus_stop   \n",
       "18  http://sdcimages.s3.yandex.net/nirvana/509cd09...    bus_stop   \n",
       "\n",
       "    INPUT:task-id OUTPUT:result              ASSIGNMENT:worker_id  result  \n",
       "8              59      bus_stop  cd8a71fb8b9e2c828070404f9fb7ddf3       0  \n",
       "10             52      bus_stop  cd8a71fb8b9e2c828070404f9fb7ddf3       0  \n",
       "11             87      bus_stop  cd8a71fb8b9e2c828070404f9fb7ddf3       0  \n",
       "14             58      bus_stop  0cf44e5957dd560030a3da754ce46c62       0  \n",
       "18             98      bus_stop  0cf44e5957dd560030a3da754ce46c62       0  "
      ]
     },
     "execution_count": 8,
     "metadata": {},
     "output_type": "execute_result"
    }
   ],
   "source": [
    "x.head()"
   ]
  },
  {
   "cell_type": "code",
   "execution_count": null,
   "id": "4a572f28",
   "metadata": {},
   "outputs": [],
   "source": []
  },
  {
   "cell_type": "code",
   "execution_count": 9,
   "id": "b8874068",
   "metadata": {},
   "outputs": [
    {
     "name": "stdout",
     "output_type": "stream",
     "text": [
      "INPUT:image             145\n",
      "INPUT:label             145\n",
      "INPUT:task-id           145\n",
      "OUTPUT:result           145\n",
      "ASSIGNMENT:worker_id    145\n",
      "dtype: int64 INPUT:image             141\n",
      "INPUT:label             141\n",
      "INPUT:task-id           141\n",
      "OUTPUT:result           141\n",
      "ASSIGNMENT:worker_id    141\n",
      "dtype: int64 INPUT:image             False\n",
      "INPUT:label             False\n",
      "INPUT:task-id           False\n",
      "OUTPUT:result           False\n",
      "ASSIGNMENT:worker_id    False\n",
      "dtype: bool\n"
     ]
    }
   ],
   "source": [
    "# Проверяю, что количество ответов \"main_road\" совпадает с количеством правильных ответов\n",
    "ans = df[df['OUTPUT:result'] == 'bus_stop'].count()\n",
    "label = df[df['INPUT:label'] == 'bus_stop'].count()\n",
    "print(ans, label, ans == label)"
   ]
  },
  {
   "cell_type": "code",
   "execution_count": 10,
   "id": "fa1d3f36",
   "metadata": {},
   "outputs": [],
   "source": [
    "# Убираю задачи, которые толокеры уже отметили \"give_way\"\n",
    "df_task = df[(df['OUTPUT:result'] != 'bus_stop')]"
   ]
  },
  {
   "cell_type": "code",
   "execution_count": 11,
   "id": "7d6317c0",
   "metadata": {},
   "outputs": [
    {
     "name": "stdout",
     "output_type": "stream",
     "text": [
      "(413, 5)\n"
     ]
    }
   ],
   "source": [
    "print(df_task.shape)"
   ]
  },
  {
   "cell_type": "code",
   "execution_count": 12,
   "id": "d9d27327",
   "metadata": {},
   "outputs": [],
   "source": [
    "#Убираем перекрытие\n",
    "df_task = df_task.drop_duplicates(subset=['INPUT:image'])"
   ]
  },
  {
   "cell_type": "code",
   "execution_count": 13,
   "id": "fb0d4a43",
   "metadata": {},
   "outputs": [],
   "source": [
    "#убираем лишние столбцы\n",
    "df_task = df_task.drop(columns=['OUTPUT:result', 'ASSIGNMENT:worker_id'])"
   ]
  },
  {
   "cell_type": "code",
   "execution_count": 14,
   "id": "1cf3ba7a",
   "metadata": {},
   "outputs": [
    {
     "name": "stdout",
     "output_type": "stream",
     "text": [
      "(141, 3)\n"
     ]
    }
   ],
   "source": [
    "print(df_task.shape)"
   ]
  },
  {
   "cell_type": "code",
   "execution_count": 15,
   "id": "d76b7185",
   "metadata": {},
   "outputs": [],
   "source": [
    "#сохранения в tsv\n",
    "#df_task.to_csv('task_3.csv', sep=\"\\t\", index=False)"
   ]
  },
  {
   "cell_type": "code",
   "execution_count": 16,
   "id": "8380f68f",
   "metadata": {},
   "outputs": [],
   "source": [
    "#сохранения в xlsx\n",
    "#df.to_excel('./task_3.xlsx')"
   ]
  },
  {
   "cell_type": "code",
   "execution_count": null,
   "id": "563e6e42",
   "metadata": {},
   "outputs": [],
   "source": []
  },
  {
   "cell_type": "code",
   "execution_count": null,
   "id": "9a228161",
   "metadata": {},
   "outputs": [],
   "source": []
  },
  {
   "cell_type": "code",
   "execution_count": null,
   "id": "08634183",
   "metadata": {},
   "outputs": [],
   "source": []
  }
 ],
 "metadata": {
  "kernelspec": {
   "display_name": "Python 3 (ipykernel)",
   "language": "python",
   "name": "python3"
  },
  "language_info": {
   "codemirror_mode": {
    "name": "ipython",
    "version": 3
   },
   "file_extension": ".py",
   "mimetype": "text/x-python",
   "name": "python",
   "nbconvert_exporter": "python",
   "pygments_lexer": "ipython3",
   "version": "3.9.13"
  }
 },
 "nbformat": 4,
 "nbformat_minor": 5
}

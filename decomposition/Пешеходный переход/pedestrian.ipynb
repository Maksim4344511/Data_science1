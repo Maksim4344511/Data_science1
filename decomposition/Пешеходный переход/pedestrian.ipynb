{
 "cells": [
  {
   "cell_type": "code",
   "execution_count": 1,
   "id": "b4d2f172",
   "metadata": {},
   "outputs": [],
   "source": [
    "import pandas as pd\n",
    "\n",
    "%matplotlib inline\n",
    "import matplotlib.pyplot as plt\n",
    "import seaborn as sns\n",
    "import plotly.graph_objs as go\n",
    "import numpy as np\n",
    "from pandas import read_excel"
   ]
  },
  {
   "cell_type": "code",
   "execution_count": 2,
   "id": "fc0a5ee0",
   "metadata": {},
   "outputs": [],
   "source": [
    "df = pd.read_csv('./assignments_from_pool_pedestrian.tsv', sep=\"\\t\")\n"
   ]
  },
  {
   "cell_type": "code",
   "execution_count": 3,
   "id": "d6f230f7",
   "metadata": {},
   "outputs": [],
   "source": [
    "df = df.drop(columns=['GOLDEN:result', 'HINT:text', 'HINT:default_language'])\n"
   ]
  },
  {
   "cell_type": "code",
   "execution_count": 4,
   "id": "fa76ee05",
   "metadata": {},
   "outputs": [
    {
     "name": "stdout",
     "output_type": "stream",
     "text": [
      "<class 'pandas.core.frame.DataFrame'>\n",
      "RangeIndex: 567 entries, 0 to 566\n",
      "Data columns (total 5 columns):\n",
      " #   Column                Non-Null Count  Dtype \n",
      "---  ------                --------------  ----- \n",
      " 0   INPUT:image           567 non-null    object\n",
      " 1   INPUT:label           567 non-null    object\n",
      " 2   INPUT:task-id         567 non-null    int64 \n",
      " 3   OUTPUT:result         567 non-null    object\n",
      " 4   ASSIGNMENT:worker_id  567 non-null    object\n",
      "dtypes: int64(1), object(4)\n",
      "memory usage: 22.3+ KB\n"
     ]
    }
   ],
   "source": [
    "df.info()\n",
    "\n"
   ]
  },
  {
   "cell_type": "code",
   "execution_count": 5,
   "id": "c9c49a83",
   "metadata": {},
   "outputs": [
    {
     "data": {
      "text/html": [
       "<div>\n",
       "<style scoped>\n",
       "    .dataframe tbody tr th:only-of-type {\n",
       "        vertical-align: middle;\n",
       "    }\n",
       "\n",
       "    .dataframe tbody tr th {\n",
       "        vertical-align: top;\n",
       "    }\n",
       "\n",
       "    .dataframe thead th {\n",
       "        text-align: right;\n",
       "    }\n",
       "</style>\n",
       "<table border=\"1\" class=\"dataframe\">\n",
       "  <thead>\n",
       "    <tr style=\"text-align: right;\">\n",
       "      <th></th>\n",
       "      <th>INPUT:image</th>\n",
       "      <th>INPUT:label</th>\n",
       "      <th>INPUT:task-id</th>\n",
       "      <th>OUTPUT:result</th>\n",
       "      <th>ASSIGNMENT:worker_id</th>\n",
       "    </tr>\n",
       "  </thead>\n",
       "  <tbody>\n",
       "    <tr>\n",
       "      <th>0</th>\n",
       "      <td>http://sdcimages.s3.yandex.net/nirvana/356642d...</td>\n",
       "      <td>no_stop</td>\n",
       "      <td>138</td>\n",
       "      <td>no</td>\n",
       "      <td>4e22b78677918a79bb65b9900559bc89</td>\n",
       "    </tr>\n",
       "    <tr>\n",
       "      <th>1</th>\n",
       "      <td>http://sdcimages.s3.yandex.net/nirvana/f4432d6...</td>\n",
       "      <td>pedestrian</td>\n",
       "      <td>21</td>\n",
       "      <td>pedestrian</td>\n",
       "      <td>4e22b78677918a79bb65b9900559bc89</td>\n",
       "    </tr>\n",
       "    <tr>\n",
       "      <th>2</th>\n",
       "      <td>http://sdcimages.s3.yandex.net/nirvana/0515089...</td>\n",
       "      <td>give_way</td>\n",
       "      <td>234</td>\n",
       "      <td>no</td>\n",
       "      <td>4e22b78677918a79bb65b9900559bc89</td>\n",
       "    </tr>\n",
       "    <tr>\n",
       "      <th>3</th>\n",
       "      <td>http://sdcimages.s3.yandex.net/nirvana/f1917f0...</td>\n",
       "      <td>bus_stop</td>\n",
       "      <td>57</td>\n",
       "      <td>no</td>\n",
       "      <td>4e22b78677918a79bb65b9900559bc89</td>\n",
       "    </tr>\n",
       "    <tr>\n",
       "      <th>4</th>\n",
       "      <td>http://sdcimages.s3.yandex.net/nirvana/f779a9a...</td>\n",
       "      <td>give_way</td>\n",
       "      <td>235</td>\n",
       "      <td>no</td>\n",
       "      <td>4e22b78677918a79bb65b9900559bc89</td>\n",
       "    </tr>\n",
       "  </tbody>\n",
       "</table>\n",
       "</div>"
      ],
      "text/plain": [
       "                                         INPUT:image INPUT:label  \\\n",
       "0  http://sdcimages.s3.yandex.net/nirvana/356642d...     no_stop   \n",
       "1  http://sdcimages.s3.yandex.net/nirvana/f4432d6...  pedestrian   \n",
       "2  http://sdcimages.s3.yandex.net/nirvana/0515089...    give_way   \n",
       "3  http://sdcimages.s3.yandex.net/nirvana/f1917f0...    bus_stop   \n",
       "4  http://sdcimages.s3.yandex.net/nirvana/f779a9a...    give_way   \n",
       "\n",
       "   INPUT:task-id OUTPUT:result              ASSIGNMENT:worker_id  \n",
       "0            138            no  4e22b78677918a79bb65b9900559bc89  \n",
       "1             21    pedestrian  4e22b78677918a79bb65b9900559bc89  \n",
       "2            234            no  4e22b78677918a79bb65b9900559bc89  \n",
       "3             57            no  4e22b78677918a79bb65b9900559bc89  \n",
       "4            235            no  4e22b78677918a79bb65b9900559bc89  "
      ]
     },
     "execution_count": 5,
     "metadata": {},
     "output_type": "execute_result"
    }
   ],
   "source": [
    " df.head()"
   ]
  },
  {
   "cell_type": "code",
   "execution_count": 6,
   "id": "782a9cf4",
   "metadata": {},
   "outputs": [],
   "source": [
    "#Создаю столбец с подсчетом ошибок, где правильный ответ уступи дорогу\n",
    "x =df[df['INPUT:label'] == 'pedestrian']\n",
    "x = x.fillna(0)\n",
    "def f(row):\n",
    "    if row['INPUT:label'] == row['OUTPUT:result']:\n",
    "        val = 0\n",
    "    else:\n",
    "        val = 1\n",
    "    return val\n",
    "\n",
    "x['result'] = x.apply(f, axis=1)"
   ]
  },
  {
   "cell_type": "code",
   "execution_count": 7,
   "id": "2f23957b",
   "metadata": {},
   "outputs": [
    {
     "data": {
      "text/plain": [
       "0.7092198581560284"
      ]
     },
     "execution_count": 7,
     "metadata": {},
     "output_type": "execute_result"
    }
   ],
   "source": [
    "# кол-во ошибок %\n",
    "x['result'].mean() *100"
   ]
  },
  {
   "cell_type": "code",
   "execution_count": 8,
   "id": "bb3863d0",
   "metadata": {},
   "outputs": [
    {
     "data": {
      "text/html": [
       "<div>\n",
       "<style scoped>\n",
       "    .dataframe tbody tr th:only-of-type {\n",
       "        vertical-align: middle;\n",
       "    }\n",
       "\n",
       "    .dataframe tbody tr th {\n",
       "        vertical-align: top;\n",
       "    }\n",
       "\n",
       "    .dataframe thead th {\n",
       "        text-align: right;\n",
       "    }\n",
       "</style>\n",
       "<table border=\"1\" class=\"dataframe\">\n",
       "  <thead>\n",
       "    <tr style=\"text-align: right;\">\n",
       "      <th></th>\n",
       "      <th>INPUT:image</th>\n",
       "      <th>INPUT:label</th>\n",
       "      <th>INPUT:task-id</th>\n",
       "      <th>OUTPUT:result</th>\n",
       "      <th>ASSIGNMENT:worker_id</th>\n",
       "      <th>result</th>\n",
       "    </tr>\n",
       "  </thead>\n",
       "  <tbody>\n",
       "    <tr>\n",
       "      <th>1</th>\n",
       "      <td>http://sdcimages.s3.yandex.net/nirvana/f4432d6...</td>\n",
       "      <td>pedestrian</td>\n",
       "      <td>21</td>\n",
       "      <td>pedestrian</td>\n",
       "      <td>4e22b78677918a79bb65b9900559bc89</td>\n",
       "      <td>0</td>\n",
       "    </tr>\n",
       "    <tr>\n",
       "      <th>5</th>\n",
       "      <td>http://sdcimages.s3.yandex.net/nirvana/1bbe7da...</td>\n",
       "      <td>pedestrian</td>\n",
       "      <td>31</td>\n",
       "      <td>pedestrian</td>\n",
       "      <td>4e22b78677918a79bb65b9900559bc89</td>\n",
       "      <td>0</td>\n",
       "    </tr>\n",
       "    <tr>\n",
       "      <th>8</th>\n",
       "      <td>http://sdcimages.s3.yandex.net/nirvana/36d9a38...</td>\n",
       "      <td>pedestrian</td>\n",
       "      <td>50</td>\n",
       "      <td>pedestrian</td>\n",
       "      <td>4e22b78677918a79bb65b9900559bc89</td>\n",
       "      <td>0</td>\n",
       "    </tr>\n",
       "    <tr>\n",
       "      <th>15</th>\n",
       "      <td>http://sdcimages.s3.yandex.net/nirvana/2379b6a...</td>\n",
       "      <td>pedestrian</td>\n",
       "      <td>34</td>\n",
       "      <td>pedestrian</td>\n",
       "      <td>4e775ee80af2c543b5d9c6ab48092dfa</td>\n",
       "      <td>0</td>\n",
       "    </tr>\n",
       "    <tr>\n",
       "      <th>19</th>\n",
       "      <td>http://sdcimages.s3.yandex.net/nirvana/313af59...</td>\n",
       "      <td>pedestrian</td>\n",
       "      <td>12</td>\n",
       "      <td>pedestrian</td>\n",
       "      <td>4e775ee80af2c543b5d9c6ab48092dfa</td>\n",
       "      <td>0</td>\n",
       "    </tr>\n",
       "  </tbody>\n",
       "</table>\n",
       "</div>"
      ],
      "text/plain": [
       "                                          INPUT:image INPUT:label  \\\n",
       "1   http://sdcimages.s3.yandex.net/nirvana/f4432d6...  pedestrian   \n",
       "5   http://sdcimages.s3.yandex.net/nirvana/1bbe7da...  pedestrian   \n",
       "8   http://sdcimages.s3.yandex.net/nirvana/36d9a38...  pedestrian   \n",
       "15  http://sdcimages.s3.yandex.net/nirvana/2379b6a...  pedestrian   \n",
       "19  http://sdcimages.s3.yandex.net/nirvana/313af59...  pedestrian   \n",
       "\n",
       "    INPUT:task-id OUTPUT:result              ASSIGNMENT:worker_id  result  \n",
       "1              21    pedestrian  4e22b78677918a79bb65b9900559bc89       0  \n",
       "5              31    pedestrian  4e22b78677918a79bb65b9900559bc89       0  \n",
       "8              50    pedestrian  4e22b78677918a79bb65b9900559bc89       0  \n",
       "15             34    pedestrian  4e775ee80af2c543b5d9c6ab48092dfa       0  \n",
       "19             12    pedestrian  4e775ee80af2c543b5d9c6ab48092dfa       0  "
      ]
     },
     "execution_count": 8,
     "metadata": {},
     "output_type": "execute_result"
    }
   ],
   "source": [
    "x.head()"
   ]
  },
  {
   "cell_type": "code",
   "execution_count": null,
   "id": "4a572f28",
   "metadata": {},
   "outputs": [],
   "source": []
  },
  {
   "cell_type": "code",
   "execution_count": 9,
   "id": "b8874068",
   "metadata": {},
   "outputs": [
    {
     "name": "stdout",
     "output_type": "stream",
     "text": [
      "INPUT:image             140\n",
      "INPUT:label             140\n",
      "INPUT:task-id           140\n",
      "OUTPUT:result           140\n",
      "ASSIGNMENT:worker_id    140\n",
      "dtype: int64 INPUT:image             141\n",
      "INPUT:label             141\n",
      "INPUT:task-id           141\n",
      "OUTPUT:result           141\n",
      "ASSIGNMENT:worker_id    141\n",
      "dtype: int64 INPUT:image             False\n",
      "INPUT:label             False\n",
      "INPUT:task-id           False\n",
      "OUTPUT:result           False\n",
      "ASSIGNMENT:worker_id    False\n",
      "dtype: bool\n"
     ]
    }
   ],
   "source": [
    "# Проверяю, что количество ответов \"main_road\" совпадает с количеством правильных ответов\n",
    "ans = df[df['OUTPUT:result'] == 'pedestrian'].count()\n",
    "label = df[df['INPUT:label'] == 'pedestrian'].count()\n",
    "print(ans, label, ans == label)"
   ]
  },
  {
   "cell_type": "code",
   "execution_count": 10,
   "id": "fa1d3f36",
   "metadata": {},
   "outputs": [],
   "source": [
    "# Убираю задачи, которые толокеры уже отметили \"give_way\"\n",
    "df_task = df[(df['OUTPUT:result'] != 'pedestrian')]"
   ]
  },
  {
   "cell_type": "code",
   "execution_count": 11,
   "id": "7d6317c0",
   "metadata": {},
   "outputs": [
    {
     "name": "stdout",
     "output_type": "stream",
     "text": [
      "(427, 5)\n"
     ]
    }
   ],
   "source": [
    "print(df_task.shape)"
   ]
  },
  {
   "cell_type": "code",
   "execution_count": 12,
   "id": "d9d27327",
   "metadata": {},
   "outputs": [],
   "source": [
    "#Убираем перекрытие\n",
    "df_task = df_task.drop_duplicates(subset=['INPUT:image'])"
   ]
  },
  {
   "cell_type": "code",
   "execution_count": 13,
   "id": "fb0d4a43",
   "metadata": {},
   "outputs": [],
   "source": [
    "#убираем лишние столбцы\n",
    "df_task = df_task.drop(columns=['OUTPUT:result', 'ASSIGNMENT:worker_id'])"
   ]
  },
  {
   "cell_type": "code",
   "execution_count": 14,
   "id": "1cf3ba7a",
   "metadata": {},
   "outputs": [
    {
     "name": "stdout",
     "output_type": "stream",
     "text": [
      "(143, 3)\n"
     ]
    }
   ],
   "source": [
    "print(df_task.shape)"
   ]
  },
  {
   "cell_type": "code",
   "execution_count": 15,
   "id": "d76b7185",
   "metadata": {},
   "outputs": [],
   "source": [
    "#сохранения в tsv\n",
    "#df_task.to_csv('task_3.csv', sep=\"\\t\", index=False)"
   ]
  },
  {
   "cell_type": "code",
   "execution_count": 16,
   "id": "8380f68f",
   "metadata": {},
   "outputs": [],
   "source": [
    "#сохранения в xlsx\n",
    "#df.to_excel('./task_3.xlsx')"
   ]
  },
  {
   "cell_type": "code",
   "execution_count": null,
   "id": "563e6e42",
   "metadata": {},
   "outputs": [],
   "source": []
  },
  {
   "cell_type": "code",
   "execution_count": null,
   "id": "9a228161",
   "metadata": {},
   "outputs": [],
   "source": []
  },
  {
   "cell_type": "code",
   "execution_count": null,
   "id": "08634183",
   "metadata": {},
   "outputs": [],
   "source": []
  }
 ],
 "metadata": {
  "kernelspec": {
   "display_name": "Python 3 (ipykernel)",
   "language": "python",
   "name": "python3"
  },
  "language_info": {
   "codemirror_mode": {
    "name": "ipython",
    "version": 3
   },
   "file_extension": ".py",
   "mimetype": "text/x-python",
   "name": "python",
   "nbconvert_exporter": "python",
   "pygments_lexer": "ipython3",
   "version": "3.9.13"
  }
 },
 "nbformat": 4,
 "nbformat_minor": 5
}

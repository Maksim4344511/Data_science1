{
 "cells": [
  {
   "cell_type": "code",
   "execution_count": 1,
   "id": "b4d2f172",
   "metadata": {},
   "outputs": [],
   "source": [
    "import pandas as pd\n",
    "\n",
    "%matplotlib inline\n",
    "import matplotlib.pyplot as plt\n",
    "import seaborn as sns\n",
    "import plotly.graph_objs as go\n",
    "import numpy as np\n",
    "from pandas import read_excel"
   ]
  },
  {
   "cell_type": "code",
   "execution_count": 2,
   "id": "fc0a5ee0",
   "metadata": {},
   "outputs": [],
   "source": [
    "df = pd.read_csv('./assignments_from_pool_no_stop.tsv', sep=\"\\t\")\n"
   ]
  },
  {
   "cell_type": "code",
   "execution_count": 3,
   "id": "d6f230f7",
   "metadata": {},
   "outputs": [],
   "source": [
    "df = df.drop(columns=['GOLDEN:result', 'HINT:text', 'HINT:default_language'])\n"
   ]
  },
  {
   "cell_type": "code",
   "execution_count": 4,
   "id": "fa76ee05",
   "metadata": {},
   "outputs": [
    {
     "name": "stdout",
     "output_type": "stream",
     "text": [
      "<class 'pandas.core.frame.DataFrame'>\n",
      "RangeIndex: 564 entries, 0 to 563\n",
      "Data columns (total 6 columns):\n",
      " #   Column                Non-Null Count  Dtype \n",
      "---  ------                --------------  ----- \n",
      " 0   INPUT:image           564 non-null    object\n",
      " 1   INPUT:label           564 non-null    object\n",
      " 2   INPUT:task-id         564 non-null    int64 \n",
      " 3   OUTPUT:result         564 non-null    object\n",
      " 4   ASSIGNMENT:link       564 non-null    object\n",
      " 5   ASSIGNMENT:worker_id  564 non-null    object\n",
      "dtypes: int64(1), object(5)\n",
      "memory usage: 26.6+ KB\n"
     ]
    }
   ],
   "source": [
    "df.info()\n",
    "\n"
   ]
  },
  {
   "cell_type": "code",
   "execution_count": 5,
   "id": "c9c49a83",
   "metadata": {},
   "outputs": [
    {
     "data": {
      "text/html": [
       "<div>\n",
       "<style scoped>\n",
       "    .dataframe tbody tr th:only-of-type {\n",
       "        vertical-align: middle;\n",
       "    }\n",
       "\n",
       "    .dataframe tbody tr th {\n",
       "        vertical-align: top;\n",
       "    }\n",
       "\n",
       "    .dataframe thead th {\n",
       "        text-align: right;\n",
       "    }\n",
       "</style>\n",
       "<table border=\"1\" class=\"dataframe\">\n",
       "  <thead>\n",
       "    <tr style=\"text-align: right;\">\n",
       "      <th></th>\n",
       "      <th>INPUT:image</th>\n",
       "      <th>INPUT:label</th>\n",
       "      <th>INPUT:task-id</th>\n",
       "      <th>OUTPUT:result</th>\n",
       "      <th>ASSIGNMENT:link</th>\n",
       "      <th>ASSIGNMENT:worker_id</th>\n",
       "    </tr>\n",
       "  </thead>\n",
       "  <tbody>\n",
       "    <tr>\n",
       "      <th>0</th>\n",
       "      <td>http://sdcimages.s3.yandex.net/nirvana/9fa0540...</td>\n",
       "      <td>bus_stop</td>\n",
       "      <td>93</td>\n",
       "      <td>no</td>\n",
       "      <td>https://toloka.yandex.ru/task/37376892/00023a5...</td>\n",
       "      <td>a7032ff1b9c5d82ee95c91307a9bcb82</td>\n",
       "    </tr>\n",
       "    <tr>\n",
       "      <th>1</th>\n",
       "      <td>http://sdcimages.s3.yandex.net/nirvana/e673fda...</td>\n",
       "      <td>bus_stop</td>\n",
       "      <td>79</td>\n",
       "      <td>no</td>\n",
       "      <td>https://toloka.yandex.ru/task/37376892/00023a5...</td>\n",
       "      <td>a7032ff1b9c5d82ee95c91307a9bcb82</td>\n",
       "    </tr>\n",
       "    <tr>\n",
       "      <th>2</th>\n",
       "      <td>http://sdcimages.s3.yandex.net/nirvana/468a64a...</td>\n",
       "      <td>bus_stop</td>\n",
       "      <td>83</td>\n",
       "      <td>no</td>\n",
       "      <td>https://toloka.yandex.ru/task/37376892/00023a5...</td>\n",
       "      <td>a7032ff1b9c5d82ee95c91307a9bcb82</td>\n",
       "    </tr>\n",
       "    <tr>\n",
       "      <th>3</th>\n",
       "      <td>http://sdcimages.s3.yandex.net/nirvana/4f14cdf...</td>\n",
       "      <td>give_way</td>\n",
       "      <td>246</td>\n",
       "      <td>no</td>\n",
       "      <td>https://toloka.yandex.ru/task/37376892/00023a5...</td>\n",
       "      <td>a7032ff1b9c5d82ee95c91307a9bcb82</td>\n",
       "    </tr>\n",
       "    <tr>\n",
       "      <th>4</th>\n",
       "      <td>http://sdcimages.s3.yandex.net/nirvana/7e6cec2...</td>\n",
       "      <td>bus_stop</td>\n",
       "      <td>69</td>\n",
       "      <td>no</td>\n",
       "      <td>https://toloka.yandex.ru/task/37376892/00023a5...</td>\n",
       "      <td>a7032ff1b9c5d82ee95c91307a9bcb82</td>\n",
       "    </tr>\n",
       "  </tbody>\n",
       "</table>\n",
       "</div>"
      ],
      "text/plain": [
       "                                         INPUT:image INPUT:label  \\\n",
       "0  http://sdcimages.s3.yandex.net/nirvana/9fa0540...    bus_stop   \n",
       "1  http://sdcimages.s3.yandex.net/nirvana/e673fda...    bus_stop   \n",
       "2  http://sdcimages.s3.yandex.net/nirvana/468a64a...    bus_stop   \n",
       "3  http://sdcimages.s3.yandex.net/nirvana/4f14cdf...    give_way   \n",
       "4  http://sdcimages.s3.yandex.net/nirvana/7e6cec2...    bus_stop   \n",
       "\n",
       "   INPUT:task-id OUTPUT:result  \\\n",
       "0             93            no   \n",
       "1             79            no   \n",
       "2             83            no   \n",
       "3            246            no   \n",
       "4             69            no   \n",
       "\n",
       "                                     ASSIGNMENT:link  \\\n",
       "0  https://toloka.yandex.ru/task/37376892/00023a5...   \n",
       "1  https://toloka.yandex.ru/task/37376892/00023a5...   \n",
       "2  https://toloka.yandex.ru/task/37376892/00023a5...   \n",
       "3  https://toloka.yandex.ru/task/37376892/00023a5...   \n",
       "4  https://toloka.yandex.ru/task/37376892/00023a5...   \n",
       "\n",
       "               ASSIGNMENT:worker_id  \n",
       "0  a7032ff1b9c5d82ee95c91307a9bcb82  \n",
       "1  a7032ff1b9c5d82ee95c91307a9bcb82  \n",
       "2  a7032ff1b9c5d82ee95c91307a9bcb82  \n",
       "3  a7032ff1b9c5d82ee95c91307a9bcb82  \n",
       "4  a7032ff1b9c5d82ee95c91307a9bcb82  "
      ]
     },
     "execution_count": 5,
     "metadata": {},
     "output_type": "execute_result"
    }
   ],
   "source": [
    " df.head()"
   ]
  },
  {
   "cell_type": "code",
   "execution_count": 6,
   "id": "782a9cf4",
   "metadata": {},
   "outputs": [],
   "source": [
    "#Создаю столбец с подсчетом ошибок, где правильный ответ уступи дорогу\n",
    "x =df[df['INPUT:label'] == 'no_stop']\n",
    "x = x.fillna(0)\n",
    "def f(row):\n",
    "    if row['INPUT:label'] == row['OUTPUT:result']:\n",
    "        val = 0\n",
    "    else:\n",
    "        val = 1\n",
    "    return val\n",
    "\n",
    "x['result'] = x.apply(f, axis=1)"
   ]
  },
  {
   "cell_type": "code",
   "execution_count": 7,
   "id": "2f23957b",
   "metadata": {},
   "outputs": [
    {
     "data": {
      "text/plain": [
       "0.7246376811594203"
      ]
     },
     "execution_count": 7,
     "metadata": {},
     "output_type": "execute_result"
    }
   ],
   "source": [
    "# кол-во ошибок %\n",
    "x['result'].mean() *100"
   ]
  },
  {
   "cell_type": "code",
   "execution_count": 8,
   "id": "bb3863d0",
   "metadata": {},
   "outputs": [
    {
     "data": {
      "text/html": [
       "<div>\n",
       "<style scoped>\n",
       "    .dataframe tbody tr th:only-of-type {\n",
       "        vertical-align: middle;\n",
       "    }\n",
       "\n",
       "    .dataframe tbody tr th {\n",
       "        vertical-align: top;\n",
       "    }\n",
       "\n",
       "    .dataframe thead th {\n",
       "        text-align: right;\n",
       "    }\n",
       "</style>\n",
       "<table border=\"1\" class=\"dataframe\">\n",
       "  <thead>\n",
       "    <tr style=\"text-align: right;\">\n",
       "      <th></th>\n",
       "      <th>INPUT:image</th>\n",
       "      <th>INPUT:label</th>\n",
       "      <th>INPUT:task-id</th>\n",
       "      <th>OUTPUT:result</th>\n",
       "      <th>ASSIGNMENT:link</th>\n",
       "      <th>ASSIGNMENT:worker_id</th>\n",
       "      <th>result</th>\n",
       "    </tr>\n",
       "  </thead>\n",
       "  <tbody>\n",
       "    <tr>\n",
       "      <th>5</th>\n",
       "      <td>http://sdcimages.s3.yandex.net/nirvana/18db674...</td>\n",
       "      <td>no_stop</td>\n",
       "      <td>108</td>\n",
       "      <td>no_stop</td>\n",
       "      <td>https://toloka.yandex.ru/task/37376892/00023a5...</td>\n",
       "      <td>a7032ff1b9c5d82ee95c91307a9bcb82</td>\n",
       "      <td>0</td>\n",
       "    </tr>\n",
       "    <tr>\n",
       "      <th>6</th>\n",
       "      <td>http://sdcimages.s3.yandex.net/nirvana/4a96de1...</td>\n",
       "      <td>no_stop</td>\n",
       "      <td>113</td>\n",
       "      <td>no_stop</td>\n",
       "      <td>https://toloka.yandex.ru/task/37376892/00023a5...</td>\n",
       "      <td>a7032ff1b9c5d82ee95c91307a9bcb82</td>\n",
       "      <td>0</td>\n",
       "    </tr>\n",
       "    <tr>\n",
       "      <th>12</th>\n",
       "      <td>http://sdcimages.s3.yandex.net/nirvana/72636be...</td>\n",
       "      <td>no_stop</td>\n",
       "      <td>122</td>\n",
       "      <td>no_stop</td>\n",
       "      <td>https://toloka.yandex.ru/task/37376892/00023a5...</td>\n",
       "      <td>a7032ff1b9c5d82ee95c91307a9bcb82</td>\n",
       "      <td>0</td>\n",
       "    </tr>\n",
       "    <tr>\n",
       "      <th>15</th>\n",
       "      <td>http://sdcimages.s3.yandex.net/nirvana/5d2baff...</td>\n",
       "      <td>no_stop</td>\n",
       "      <td>143</td>\n",
       "      <td>no_stop</td>\n",
       "      <td>https://toloka.yandex.ru/task/37376892/00023a5...</td>\n",
       "      <td>752af47e67858b4e4ee3a2f2cdd2a929</td>\n",
       "      <td>0</td>\n",
       "    </tr>\n",
       "    <tr>\n",
       "      <th>22</th>\n",
       "      <td>http://sdcimages.s3.yandex.net/nirvana/18db674...</td>\n",
       "      <td>no_stop</td>\n",
       "      <td>108</td>\n",
       "      <td>no</td>\n",
       "      <td>https://toloka.yandex.ru/task/37376892/00023a5...</td>\n",
       "      <td>752af47e67858b4e4ee3a2f2cdd2a929</td>\n",
       "      <td>1</td>\n",
       "    </tr>\n",
       "  </tbody>\n",
       "</table>\n",
       "</div>"
      ],
      "text/plain": [
       "                                          INPUT:image INPUT:label  \\\n",
       "5   http://sdcimages.s3.yandex.net/nirvana/18db674...     no_stop   \n",
       "6   http://sdcimages.s3.yandex.net/nirvana/4a96de1...     no_stop   \n",
       "12  http://sdcimages.s3.yandex.net/nirvana/72636be...     no_stop   \n",
       "15  http://sdcimages.s3.yandex.net/nirvana/5d2baff...     no_stop   \n",
       "22  http://sdcimages.s3.yandex.net/nirvana/18db674...     no_stop   \n",
       "\n",
       "    INPUT:task-id OUTPUT:result  \\\n",
       "5             108       no_stop   \n",
       "6             113       no_stop   \n",
       "12            122       no_stop   \n",
       "15            143       no_stop   \n",
       "22            108            no   \n",
       "\n",
       "                                      ASSIGNMENT:link  \\\n",
       "5   https://toloka.yandex.ru/task/37376892/00023a5...   \n",
       "6   https://toloka.yandex.ru/task/37376892/00023a5...   \n",
       "12  https://toloka.yandex.ru/task/37376892/00023a5...   \n",
       "15  https://toloka.yandex.ru/task/37376892/00023a5...   \n",
       "22  https://toloka.yandex.ru/task/37376892/00023a5...   \n",
       "\n",
       "                ASSIGNMENT:worker_id  result  \n",
       "5   a7032ff1b9c5d82ee95c91307a9bcb82       0  \n",
       "6   a7032ff1b9c5d82ee95c91307a9bcb82       0  \n",
       "12  a7032ff1b9c5d82ee95c91307a9bcb82       0  \n",
       "15  752af47e67858b4e4ee3a2f2cdd2a929       0  \n",
       "22  752af47e67858b4e4ee3a2f2cdd2a929       1  "
      ]
     },
     "execution_count": 8,
     "metadata": {},
     "output_type": "execute_result"
    }
   ],
   "source": [
    "x.head()"
   ]
  },
  {
   "cell_type": "code",
   "execution_count": null,
   "id": "4a572f28",
   "metadata": {},
   "outputs": [],
   "source": []
  },
  {
   "cell_type": "code",
   "execution_count": 9,
   "id": "b8874068",
   "metadata": {},
   "outputs": [
    {
     "name": "stdout",
     "output_type": "stream",
     "text": [
      "INPUT:image             137\n",
      "INPUT:label             137\n",
      "INPUT:task-id           137\n",
      "OUTPUT:result           137\n",
      "ASSIGNMENT:link         137\n",
      "ASSIGNMENT:worker_id    137\n",
      "dtype: int64 INPUT:image             138\n",
      "INPUT:label             138\n",
      "INPUT:task-id           138\n",
      "OUTPUT:result           138\n",
      "ASSIGNMENT:link         138\n",
      "ASSIGNMENT:worker_id    138\n",
      "dtype: int64 INPUT:image             False\n",
      "INPUT:label             False\n",
      "INPUT:task-id           False\n",
      "OUTPUT:result           False\n",
      "ASSIGNMENT:link         False\n",
      "ASSIGNMENT:worker_id    False\n",
      "dtype: bool\n"
     ]
    }
   ],
   "source": [
    "# Проверяю, что количество ответов \"main_road\" совпадает с количеством правильных ответов\n",
    "ans = df[df['OUTPUT:result'] == 'no_stop'].count()\n",
    "label = df[df['INPUT:label'] == 'no_stop'].count()\n",
    "print(ans, label, ans == label)"
   ]
  },
  {
   "cell_type": "code",
   "execution_count": 10,
   "id": "fa1d3f36",
   "metadata": {},
   "outputs": [],
   "source": [
    "# Убираю задачи, которые толокеры уже отметили \"give_way\"\n",
    "df_task = df[(df['OUTPUT:result'] != 'no_stop')]"
   ]
  },
  {
   "cell_type": "code",
   "execution_count": 11,
   "id": "7d6317c0",
   "metadata": {},
   "outputs": [
    {
     "name": "stdout",
     "output_type": "stream",
     "text": [
      "(427, 6)\n"
     ]
    }
   ],
   "source": [
    "print(df_task.shape)"
   ]
  },
  {
   "cell_type": "code",
   "execution_count": 12,
   "id": "d9d27327",
   "metadata": {},
   "outputs": [],
   "source": [
    "#Убираем перекрытие\n",
    "df_task = df_task.drop_duplicates(subset=['INPUT:image'])"
   ]
  },
  {
   "cell_type": "code",
   "execution_count": 13,
   "id": "fb0d4a43",
   "metadata": {},
   "outputs": [],
   "source": [
    "#убираем лишние столбцы\n",
    "df_task = df_task.drop(columns=['OUTPUT:result', 'ASSIGNMENT:worker_id'])"
   ]
  },
  {
   "cell_type": "code",
   "execution_count": 14,
   "id": "1cf3ba7a",
   "metadata": {},
   "outputs": [
    {
     "name": "stdout",
     "output_type": "stream",
     "text": [
      "(143, 4)\n"
     ]
    }
   ],
   "source": [
    "print(df_task.shape)"
   ]
  },
  {
   "cell_type": "code",
   "execution_count": 15,
   "id": "d76b7185",
   "metadata": {},
   "outputs": [],
   "source": [
    "#сохранения в tsv\n",
    "df_task.to_csv('task_3.csv', sep=\"\\t\", index=False)"
   ]
  },
  {
   "cell_type": "code",
   "execution_count": 16,
   "id": "8380f68f",
   "metadata": {},
   "outputs": [],
   "source": [
    "#сохранения в xlsx\n",
    "df.to_excel('./task_3.xlsx')"
   ]
  },
  {
   "cell_type": "code",
   "execution_count": null,
   "id": "563e6e42",
   "metadata": {},
   "outputs": [],
   "source": []
  },
  {
   "cell_type": "code",
   "execution_count": null,
   "id": "9a228161",
   "metadata": {},
   "outputs": [],
   "source": []
  },
  {
   "cell_type": "code",
   "execution_count": null,
   "id": "08634183",
   "metadata": {},
   "outputs": [],
   "source": []
  }
 ],
 "metadata": {
  "kernelspec": {
   "display_name": "Python 3 (ipykernel)",
   "language": "python",
   "name": "python3"
  },
  "language_info": {
   "codemirror_mode": {
    "name": "ipython",
    "version": 3
   },
   "file_extension": ".py",
   "mimetype": "text/x-python",
   "name": "python",
   "nbconvert_exporter": "python",
   "pygments_lexer": "ipython3",
   "version": "3.9.13"
  }
 },
 "nbformat": 4,
 "nbformat_minor": 5
}

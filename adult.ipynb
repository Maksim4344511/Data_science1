{
 "cells": [
  {
   "cell_type": "code",
   "execution_count": 1,
   "id": "8a9c08ff",
   "metadata": {},
   "outputs": [],
   "source": [
    "import pandas as pd\n",
    "import numpy as np"
   ]
  },
  {
   "cell_type": "code",
   "execution_count": 2,
   "id": "7ba961ae",
   "metadata": {},
   "outputs": [
    {
     "data": {
      "text/html": [
       "<div>\n",
       "<style scoped>\n",
       "    .dataframe tbody tr th:only-of-type {\n",
       "        vertical-align: middle;\n",
       "    }\n",
       "\n",
       "    .dataframe tbody tr th {\n",
       "        vertical-align: top;\n",
       "    }\n",
       "\n",
       "    .dataframe thead th {\n",
       "        text-align: right;\n",
       "    }\n",
       "</style>\n",
       "<table border=\"1\" class=\"dataframe\">\n",
       "  <thead>\n",
       "    <tr style=\"text-align: right;\">\n",
       "      <th></th>\n",
       "      <th>age</th>\n",
       "      <th>workclass</th>\n",
       "      <th>fnlwgt</th>\n",
       "      <th>education</th>\n",
       "      <th>education-num</th>\n",
       "      <th>marital-status</th>\n",
       "      <th>occupation</th>\n",
       "      <th>relationship</th>\n",
       "      <th>race</th>\n",
       "      <th>sex</th>\n",
       "      <th>capital-gain</th>\n",
       "      <th>capital-loss</th>\n",
       "      <th>hours-per-week</th>\n",
       "      <th>native-country</th>\n",
       "      <th>salary</th>\n",
       "    </tr>\n",
       "  </thead>\n",
       "  <tbody>\n",
       "    <tr>\n",
       "      <th>0</th>\n",
       "      <td>39</td>\n",
       "      <td>State-gov</td>\n",
       "      <td>77516</td>\n",
       "      <td>Bachelors</td>\n",
       "      <td>13</td>\n",
       "      <td>Never-married</td>\n",
       "      <td>Adm-clerical</td>\n",
       "      <td>Not-in-family</td>\n",
       "      <td>White</td>\n",
       "      <td>Male</td>\n",
       "      <td>2174</td>\n",
       "      <td>0</td>\n",
       "      <td>40</td>\n",
       "      <td>United-States</td>\n",
       "      <td>&lt;=50K</td>\n",
       "    </tr>\n",
       "    <tr>\n",
       "      <th>1</th>\n",
       "      <td>50</td>\n",
       "      <td>Self-emp-not-inc</td>\n",
       "      <td>83311</td>\n",
       "      <td>Bachelors</td>\n",
       "      <td>13</td>\n",
       "      <td>Married-civ-spouse</td>\n",
       "      <td>Exec-managerial</td>\n",
       "      <td>Husband</td>\n",
       "      <td>White</td>\n",
       "      <td>Male</td>\n",
       "      <td>0</td>\n",
       "      <td>0</td>\n",
       "      <td>13</td>\n",
       "      <td>United-States</td>\n",
       "      <td>&lt;=50K</td>\n",
       "    </tr>\n",
       "    <tr>\n",
       "      <th>2</th>\n",
       "      <td>38</td>\n",
       "      <td>Private</td>\n",
       "      <td>215646</td>\n",
       "      <td>HS-grad</td>\n",
       "      <td>9</td>\n",
       "      <td>Divorced</td>\n",
       "      <td>Handlers-cleaners</td>\n",
       "      <td>Not-in-family</td>\n",
       "      <td>White</td>\n",
       "      <td>Male</td>\n",
       "      <td>0</td>\n",
       "      <td>0</td>\n",
       "      <td>40</td>\n",
       "      <td>United-States</td>\n",
       "      <td>&lt;=50K</td>\n",
       "    </tr>\n",
       "    <tr>\n",
       "      <th>3</th>\n",
       "      <td>53</td>\n",
       "      <td>Private</td>\n",
       "      <td>234721</td>\n",
       "      <td>11th</td>\n",
       "      <td>7</td>\n",
       "      <td>Married-civ-spouse</td>\n",
       "      <td>Handlers-cleaners</td>\n",
       "      <td>Husband</td>\n",
       "      <td>Black</td>\n",
       "      <td>Male</td>\n",
       "      <td>0</td>\n",
       "      <td>0</td>\n",
       "      <td>40</td>\n",
       "      <td>United-States</td>\n",
       "      <td>&lt;=50K</td>\n",
       "    </tr>\n",
       "    <tr>\n",
       "      <th>4</th>\n",
       "      <td>28</td>\n",
       "      <td>Private</td>\n",
       "      <td>338409</td>\n",
       "      <td>Bachelors</td>\n",
       "      <td>13</td>\n",
       "      <td>Married-civ-spouse</td>\n",
       "      <td>Prof-specialty</td>\n",
       "      <td>Wife</td>\n",
       "      <td>Black</td>\n",
       "      <td>Female</td>\n",
       "      <td>0</td>\n",
       "      <td>0</td>\n",
       "      <td>40</td>\n",
       "      <td>Cuba</td>\n",
       "      <td>&lt;=50K</td>\n",
       "    </tr>\n",
       "  </tbody>\n",
       "</table>\n",
       "</div>"
      ],
      "text/plain": [
       "   age         workclass  fnlwgt  education  education-num  \\\n",
       "0   39         State-gov   77516  Bachelors             13   \n",
       "1   50  Self-emp-not-inc   83311  Bachelors             13   \n",
       "2   38           Private  215646    HS-grad              9   \n",
       "3   53           Private  234721       11th              7   \n",
       "4   28           Private  338409  Bachelors             13   \n",
       "\n",
       "       marital-status         occupation   relationship   race     sex  \\\n",
       "0       Never-married       Adm-clerical  Not-in-family  White    Male   \n",
       "1  Married-civ-spouse    Exec-managerial        Husband  White    Male   \n",
       "2            Divorced  Handlers-cleaners  Not-in-family  White    Male   \n",
       "3  Married-civ-spouse  Handlers-cleaners        Husband  Black    Male   \n",
       "4  Married-civ-spouse     Prof-specialty           Wife  Black  Female   \n",
       "\n",
       "   capital-gain  capital-loss  hours-per-week native-country salary  \n",
       "0          2174             0              40  United-States  <=50K  \n",
       "1             0             0              13  United-States  <=50K  \n",
       "2             0             0              40  United-States  <=50K  \n",
       "3             0             0              40  United-States  <=50K  \n",
       "4             0             0              40           Cuba  <=50K  "
      ]
     },
     "execution_count": 2,
     "metadata": {},
     "output_type": "execute_result"
    }
   ],
   "source": [
    "data = pd.read_csv(\"./adult.data.csv\")\n",
    "data.head()"
   ]
  },
  {
   "cell_type": "code",
   "execution_count": 3,
   "id": "e1f5dcd7",
   "metadata": {},
   "outputs": [
    {
     "data": {
      "text/plain": [
       "Male      21790\n",
       "Female    10771\n",
       "Name: sex, dtype: int64"
      ]
     },
     "execution_count": 3,
     "metadata": {},
     "output_type": "execute_result"
    }
   ],
   "source": [
    "#Сколько мужчин и женщин (признак sex) представлено в этом наборе данных?\n",
    "data['sex'].value_counts()\n"
   ]
  },
  {
   "cell_type": "code",
   "execution_count": 4,
   "id": "b8469f98",
   "metadata": {},
   "outputs": [
    {
     "data": {
      "text/plain": [
       "36.85823043357163"
      ]
     },
     "execution_count": 4,
     "metadata": {},
     "output_type": "execute_result"
    }
   ],
   "source": [
    "#2. Каков средний возраст (признак age) женщин?\n",
    "data[data['sex']=='Female']['age'].mean()"
   ]
  },
  {
   "cell_type": "code",
   "execution_count": 5,
   "id": "490ff443",
   "metadata": {},
   "outputs": [
    {
     "data": {
      "text/plain": [
       "age               0.004207\n",
       "workclass         0.004207\n",
       "fnlwgt            0.004207\n",
       "education         0.004207\n",
       "education-num     0.004207\n",
       "marital-status    0.004207\n",
       "occupation        0.004207\n",
       "relationship      0.004207\n",
       "race              0.004207\n",
       "sex               0.004207\n",
       "capital-gain      0.004207\n",
       "capital-loss      0.004207\n",
       "hours-per-week    0.004207\n",
       "native-country    0.004207\n",
       "salary            0.004207\n",
       "dtype: float64"
      ]
     },
     "execution_count": 5,
     "metadata": {},
     "output_type": "execute_result"
    }
   ],
   "source": [
    "#Какова доля граждан Германии (признак native-country)?\n",
    "data[data['native-country'] =='Germany'].count() / data.count()"
   ]
  },
  {
   "cell_type": "code",
   "execution_count": 6,
   "id": "4d54e59d",
   "metadata": {},
   "outputs": [
    {
     "data": {
      "text/plain": [
       "44.24984058155847"
      ]
     },
     "execution_count": 6,
     "metadata": {},
     "output_type": "execute_result"
    }
   ],
   "source": [
    "#4-5. Каковы средние значения и среднеквадратичные отклонения возраста тех, кто получает более 50K в год (признак salary) и тех, кто получает менее 50K в год?\n",
    "# Средний возраст с зп больше 50к\n",
    "data['age'][data['salary'] == '>50K'].mean()"
   ]
  },
  {
   "cell_type": "code",
   "execution_count": 7,
   "id": "e7116068",
   "metadata": {},
   "outputs": [
    {
     "data": {
      "text/plain": [
       "36.78373786407767"
      ]
     },
     "execution_count": 7,
     "metadata": {},
     "output_type": "execute_result"
    }
   ],
   "source": [
    "# Средний возраст с зп меньше 50к\n",
    "data['age'][data['salary'] == '<=50K'].mean()"
   ]
  },
  {
   "cell_type": "code",
   "execution_count": 8,
   "id": "60242b28",
   "metadata": {},
   "outputs": [
    {
     "data": {
      "text/plain": [
       "10.518356927661575"
      ]
     },
     "execution_count": 8,
     "metadata": {},
     "output_type": "execute_result"
    }
   ],
   "source": [
    "#Стандартное откл возраста с зп > 50к\n",
    "np.std(data['age'][data['salary'] == '>50K'], axis = 0)"
   ]
  },
  {
   "cell_type": "code",
   "execution_count": 9,
   "id": "94e8ab9f",
   "metadata": {},
   "outputs": [
    {
     "data": {
      "text/plain": [
       "14.019804910115214"
      ]
     },
     "execution_count": 9,
     "metadata": {},
     "output_type": "execute_result"
    }
   ],
   "source": [
    "#Стандартное откл возраста с зп < 50r\n",
    "np.std(data['age'][data['salary'] == '<=50K'], axis = 0)"
   ]
  },
  {
   "cell_type": "code",
   "execution_count": 10,
   "id": "c189e416",
   "metadata": {},
   "outputs": [
    {
     "data": {
      "text/plain": [
       "False"
      ]
     },
     "execution_count": 10,
     "metadata": {},
     "output_type": "execute_result"
    }
   ],
   "source": [
    "#Правда ли, что люди, которые получают больше 50k, имеют как минимум высшее образование? (признак education – Bachelors, Prof-school, Assoc-acdm, Assoc-voc, Masters или Doctorate)\n",
    "ed1 = data[(data['salary'] == '>50K') & (data['education'] == 'Bachelors')].count()\n",
    "ed2 = data[(data['salary'] == '>50K') & (data['education'] == 'Prof-school')].count()\n",
    "ed3 = data[(data['salary'] == '>50K') & (data['education'] == 'Assoc-acdm')].count()\n",
    "ed4 = data[(data['salary'] == '>50K') & (data['education'] == 'Assoc-voc')].count()\n",
    "ed5 = data[(data['salary'] == '>50K') & (data['education'] == 'Masters')].count()\n",
    "ed6 = data[(data['salary'] == '>50K') & (data['education'] == 'Doctorate')].count()\n",
    "ed = ed1['salary' ] + ed2['salary'] + ed3['salary'] + ed4['salary'] + ed5['salary'] + ed6['salary']\n",
    "data['salary' ].count() - ed == 0"
   ]
  },
  {
   "cell_type": "code",
   "execution_count": 11,
   "id": "7dc79b4f",
   "metadata": {},
   "outputs": [
    {
     "data": {
      "text/plain": [
       "False"
      ]
     },
     "execution_count": 11,
     "metadata": {},
     "output_type": "execute_result"
    }
   ],
   "source": [
    "# Через множество выглядит лучше \n",
    "set(data[data['salary'] == '>50K']['education']) == {\n",
    " 'Assoc-acdm',\n",
    " 'Assoc-voc',\n",
    " 'Bachelors',\n",
    " 'Doctorate',\n",
    " 'Masters',\n",
    " 'Prof-school'}"
   ]
  },
  {
   "cell_type": "code",
   "execution_count": 12,
   "id": "ae854661",
   "metadata": {},
   "outputs": [
    {
     "data": {
      "text/html": [
       "<div>\n",
       "<style scoped>\n",
       "    .dataframe tbody tr th:only-of-type {\n",
       "        vertical-align: middle;\n",
       "    }\n",
       "\n",
       "    .dataframe tbody tr th {\n",
       "        vertical-align: top;\n",
       "    }\n",
       "\n",
       "    .dataframe thead tr th {\n",
       "        text-align: left;\n",
       "    }\n",
       "\n",
       "    .dataframe thead tr:last-of-type th {\n",
       "        text-align: right;\n",
       "    }\n",
       "</style>\n",
       "<table border=\"1\" class=\"dataframe\">\n",
       "  <thead>\n",
       "    <tr>\n",
       "      <th></th>\n",
       "      <th></th>\n",
       "      <th colspan=\"4\" halign=\"left\">age</th>\n",
       "    </tr>\n",
       "    <tr>\n",
       "      <th></th>\n",
       "      <th></th>\n",
       "      <th>amin</th>\n",
       "      <th>amax</th>\n",
       "      <th>mean</th>\n",
       "      <th>std</th>\n",
       "    </tr>\n",
       "    <tr>\n",
       "      <th>race</th>\n",
       "      <th>sex</th>\n",
       "      <th></th>\n",
       "      <th></th>\n",
       "      <th></th>\n",
       "      <th></th>\n",
       "    </tr>\n",
       "  </thead>\n",
       "  <tbody>\n",
       "    <tr>\n",
       "      <th rowspan=\"2\" valign=\"top\">Amer-Indian-Eskimo</th>\n",
       "      <th>Female</th>\n",
       "      <td>17</td>\n",
       "      <td>80</td>\n",
       "      <td>37.117647</td>\n",
       "      <td>13.114991</td>\n",
       "    </tr>\n",
       "    <tr>\n",
       "      <th>Male</th>\n",
       "      <td>17</td>\n",
       "      <td>82</td>\n",
       "      <td>37.208333</td>\n",
       "      <td>12.049563</td>\n",
       "    </tr>\n",
       "    <tr>\n",
       "      <th rowspan=\"2\" valign=\"top\">Asian-Pac-Islander</th>\n",
       "      <th>Female</th>\n",
       "      <td>17</td>\n",
       "      <td>75</td>\n",
       "      <td>35.089595</td>\n",
       "      <td>12.300845</td>\n",
       "    </tr>\n",
       "    <tr>\n",
       "      <th>Male</th>\n",
       "      <td>18</td>\n",
       "      <td>90</td>\n",
       "      <td>39.073593</td>\n",
       "      <td>12.883944</td>\n",
       "    </tr>\n",
       "    <tr>\n",
       "      <th rowspan=\"2\" valign=\"top\">Black</th>\n",
       "      <th>Female</th>\n",
       "      <td>17</td>\n",
       "      <td>90</td>\n",
       "      <td>37.854019</td>\n",
       "      <td>12.637197</td>\n",
       "    </tr>\n",
       "    <tr>\n",
       "      <th>Male</th>\n",
       "      <td>17</td>\n",
       "      <td>90</td>\n",
       "      <td>37.682600</td>\n",
       "      <td>12.882612</td>\n",
       "    </tr>\n",
       "    <tr>\n",
       "      <th rowspan=\"2\" valign=\"top\">Other</th>\n",
       "      <th>Female</th>\n",
       "      <td>17</td>\n",
       "      <td>74</td>\n",
       "      <td>31.678899</td>\n",
       "      <td>11.631599</td>\n",
       "    </tr>\n",
       "    <tr>\n",
       "      <th>Male</th>\n",
       "      <td>17</td>\n",
       "      <td>77</td>\n",
       "      <td>34.654321</td>\n",
       "      <td>11.355531</td>\n",
       "    </tr>\n",
       "    <tr>\n",
       "      <th rowspan=\"2\" valign=\"top\">White</th>\n",
       "      <th>Female</th>\n",
       "      <td>17</td>\n",
       "      <td>90</td>\n",
       "      <td>36.811618</td>\n",
       "      <td>14.329093</td>\n",
       "    </tr>\n",
       "    <tr>\n",
       "      <th>Male</th>\n",
       "      <td>17</td>\n",
       "      <td>90</td>\n",
       "      <td>39.652498</td>\n",
       "      <td>13.436029</td>\n",
       "    </tr>\n",
       "  </tbody>\n",
       "</table>\n",
       "</div>"
      ],
      "text/plain": [
       "                           age                           \n",
       "                          amin amax       mean        std\n",
       "race               sex                                   \n",
       "Amer-Indian-Eskimo Female   17   80  37.117647  13.114991\n",
       "                   Male     17   82  37.208333  12.049563\n",
       "Asian-Pac-Islander Female   17   75  35.089595  12.300845\n",
       "                   Male     18   90  39.073593  12.883944\n",
       "Black              Female   17   90  37.854019  12.637197\n",
       "                   Male     17   90  37.682600  12.882612\n",
       "Other              Female   17   74  31.678899  11.631599\n",
       "                   Male     17   77  34.654321  11.355531\n",
       "White              Female   17   90  36.811618  14.329093\n",
       "                   Male     17   90  39.652498  13.436029"
      ]
     },
     "execution_count": 12,
     "metadata": {},
     "output_type": "execute_result"
    }
   ],
   "source": [
    "# Выведите статистику возраста для каждой расы (признак race) и каждого пола. \n",
    "data.groupby(['race', 'sex'])[['age']].agg([np.min, np.max, np.mean, np.std,])"
   ]
  },
  {
   "cell_type": "code",
   "execution_count": 13,
   "id": "750f5d13",
   "metadata": {},
   "outputs": [
    {
     "data": {
      "text/html": [
       "<div>\n",
       "<style scoped>\n",
       "    .dataframe tbody tr th:only-of-type {\n",
       "        vertical-align: middle;\n",
       "    }\n",
       "\n",
       "    .dataframe tbody tr th {\n",
       "        vertical-align: top;\n",
       "    }\n",
       "\n",
       "    .dataframe thead th {\n",
       "        text-align: right;\n",
       "    }\n",
       "</style>\n",
       "<table border=\"1\" class=\"dataframe\">\n",
       "  <thead>\n",
       "    <tr style=\"text-align: right;\">\n",
       "      <th>marital-status</th>\n",
       "      <th>Divorced</th>\n",
       "      <th>Married-AF-spouse</th>\n",
       "      <th>Married-civ-spouse</th>\n",
       "      <th>Married-spouse-absent</th>\n",
       "      <th>Never-married</th>\n",
       "      <th>Separated</th>\n",
       "      <th>Widowed</th>\n",
       "    </tr>\n",
       "    <tr>\n",
       "      <th>salary</th>\n",
       "      <th></th>\n",
       "      <th></th>\n",
       "      <th></th>\n",
       "      <th></th>\n",
       "      <th></th>\n",
       "      <th></th>\n",
       "      <th></th>\n",
       "    </tr>\n",
       "  </thead>\n",
       "  <tbody>\n",
       "    <tr>\n",
       "      <th>&gt;50K</th>\n",
       "      <td>4.262984</td>\n",
       "      <td>0.060042</td>\n",
       "      <td>89.132393</td>\n",
       "      <td>0.345242</td>\n",
       "      <td>4.878415</td>\n",
       "      <td>0.735515</td>\n",
       "      <td>0.58541</td>\n",
       "    </tr>\n",
       "  </tbody>\n",
       "</table>\n",
       "</div>"
      ],
      "text/plain": [
       "marital-status  Divorced  Married-AF-spouse  Married-civ-spouse  \\\n",
       "salary                                                            \n",
       ">50K            4.262984           0.060042           89.132393   \n",
       "\n",
       "marital-status  Married-spouse-absent  Never-married  Separated  Widowed  \n",
       "salary                                                                    \n",
       ">50K                         0.345242       4.878415   0.735515  0.58541  "
      ]
     },
     "execution_count": 13,
     "metadata": {},
     "output_type": "execute_result"
    }
   ],
   "source": [
    "#Среди кого больше доля зарабатывающих много (>50K) это неправильно\n",
    "data_male = data[(data['sex'] == 'Male') & (data['salary'] == '>50K')]\n",
    "\n",
    "pd.crosstab(data_male['salary'], data_male['marital-status'], normalize=True) * 100 \n",
    "\n",
    "# Себе на будующее, это неправильно, это соотношении богатых по признаку."
   ]
  },
  {
   "cell_type": "code",
   "execution_count": 87,
   "id": "0c09dda7",
   "metadata": {},
   "outputs": [
    {
     "name": "stdout",
     "output_type": "stream",
     "text": [
      "[7552, 697] [7576, 5965]\n",
      "Доля женатых с з/п больше 50к 0.4405139945351156\n",
      "Доля неженатых с з/п больше 50к 0.08449509031397745\n"
     ]
    }
   ],
   "source": [
    "#Среди кого больше доля зарабатывающих много (>50K) Правильное решение\n",
    "#data_male[1] - заработок >50к\n",
    "#data_male[0] - заработок <=50к\n",
    "marrieds = [0, 0]  #женатые [заработок >50к, заработок <50к]  \n",
    "no_marrieds = [0, 0]  #неженатые [заработок >50к, заработок <50к] \n",
    "\n",
    "marital_status = set(data[data['salary'] == '>50K'] ['marital-status'])          \n",
    "for status in marital_status:\n",
    "    data_male = data[(data['sex'] == 'Male') & (data['marital-status'] == status)]['salary'].value_counts()\n",
    "    if (status[0:1] == 'M'):\n",
    "        marrieds[0] = marrieds[0] + data_male[0]\n",
    "        marrieds[1] = marrieds[1] + data_male[1]        \n",
    "        #print(data_male[0], data_male[1], marrieds[1])       \n",
    "    else:\n",
    "        no_marrieds[0] = no_marrieds[0] + data_male[0]\n",
    "        no_marrieds[1] = no_marrieds[1] + data_male[1]\n",
    "        \n",
    "print(no_marrieds, marrieds)     \n",
    "\n",
    "print('Доля женатых с з/п больше 50к', marrieds[1] / np.sum(marrieds))\n",
    "print('Доля неженатых с з/п больше 50к', no_marrieds[1] / np.sum(no_marrieds))\n",
    "\n"
   ]
  },
  {
   "cell_type": "code",
   "execution_count": null,
   "id": "44395d9f",
   "metadata": {
    "scrolled": true
   },
   "outputs": [],
   "source": [
    "\n",
    " "
   ]
  },
  {
   "cell_type": "code",
   "execution_count": null,
   "id": "189d419a",
   "metadata": {},
   "outputs": [],
   "source": []
  },
  {
   "cell_type": "code",
   "execution_count": null,
   "id": "9b61a882",
   "metadata": {},
   "outputs": [],
   "source": []
  }
 ],
 "metadata": {
  "kernelspec": {
   "display_name": "Python 3 (ipykernel)",
   "language": "python",
   "name": "python3"
  },
  "language_info": {
   "codemirror_mode": {
    "name": "ipython",
    "version": 3
   },
   "file_extension": ".py",
   "mimetype": "text/x-python",
   "name": "python",
   "nbconvert_exporter": "python",
   "pygments_lexer": "ipython3",
   "version": "3.9.13"
  }
 },
 "nbformat": 4,
 "nbformat_minor": 5
}

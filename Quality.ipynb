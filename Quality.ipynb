{
 "cells": [
  {
   "cell_type": "code",
   "execution_count": 1,
   "id": "b4d2f172",
   "metadata": {},
   "outputs": [],
   "source": [
    "import pandas as pd\n",
    "\n",
    "%matplotlib inline\n",
    "import matplotlib.pyplot as plt\n",
    "import seaborn as sns\n",
    "import plotly.graph_objs as go\n",
    "import numpy as np"
   ]
  },
  {
   "cell_type": "code",
   "execution_count": 2,
   "id": "fc0a5ee0",
   "metadata": {},
   "outputs": [],
   "source": [
    "df = pd.read_csv('./assignments_from_pool_Quality.tsv', sep=\"\\t\")"
   ]
  },
  {
   "cell_type": "code",
   "execution_count": 3,
   "id": "d6f230f7",
   "metadata": {},
   "outputs": [],
   "source": [
    "df = df.drop(columns=['GOLDEN:ad', 'GOLDEN:not_ad', 'GOLDEN:ban_insult_hard', 'GOLDEN:ban_shock_content', 'GOLDEN:ban_shock_content',\n",
    "'HINT:text', 'HINT:default_language'])\n"
   ]
  },
  {
   "cell_type": "code",
   "execution_count": 4,
   "id": "fa76ee05",
   "metadata": {},
   "outputs": [],
   "source": [
    "df = df.fillna(0)\n",
    "def f(row):\n",
    "    if row['OUTPUT:ad'] == 'yes':\n",
    "        val = 'ad'\n",
    "    elif row['OUTPUT:not_ad'] != 0:\n",
    "        val = 'not_ad'\n",
    "    elif row['OUTPUT:ban_insult_hard'] != 0:\n",
    "        val = 'ban_insult_hard'\n",
    "    elif row['OUTPUT:ban_shock_content'] != 0:\n",
    "        val = 'ban_shock_content'    \n",
    "    else:\n",
    "        val = ' '\n",
    "    return val\n",
    "\n",
    "df['OUTPUT:label'] = df.apply(f, axis=1)\n",
    "\n"
   ]
  },
  {
   "cell_type": "code",
   "execution_count": 5,
   "id": "c9c49a83",
   "metadata": {},
   "outputs": [
    {
     "data": {
      "text/html": [
       "<div>\n",
       "<style scoped>\n",
       "    .dataframe tbody tr th:only-of-type {\n",
       "        vertical-align: middle;\n",
       "    }\n",
       "\n",
       "    .dataframe tbody tr th {\n",
       "        vertical-align: top;\n",
       "    }\n",
       "\n",
       "    .dataframe thead th {\n",
       "        text-align: right;\n",
       "    }\n",
       "</style>\n",
       "<table border=\"1\" class=\"dataframe\">\n",
       "  <thead>\n",
       "    <tr style=\"text-align: right;\">\n",
       "      <th></th>\n",
       "      <th>INPUT:label</th>\n",
       "      <th>INPUT:comment</th>\n",
       "      <th>INPUT:task-id</th>\n",
       "      <th>OUTPUT:ad</th>\n",
       "      <th>OUTPUT:not_ad</th>\n",
       "      <th>OUTPUT:ban_insult_hard</th>\n",
       "      <th>OUTPUT:ban_shock_content</th>\n",
       "      <th>ASSIGNMENT:worker_id</th>\n",
       "      <th>OUTPUT:label</th>\n",
       "    </tr>\n",
       "  </thead>\n",
       "  <tbody>\n",
       "    <tr>\n",
       "      <th>0</th>\n",
       "      <td>ban_shock_content</td>\n",
       "      <td>Суд вынес приговор по громкому делу «черных ри...</td>\n",
       "      <td>323</td>\n",
       "      <td>no</td>\n",
       "      <td>True</td>\n",
       "      <td>0</td>\n",
       "      <td>0</td>\n",
       "      <td>15d552b5b026032afd7b3956fa0ad66b</td>\n",
       "      <td>not_ad</td>\n",
       "    </tr>\n",
       "    <tr>\n",
       "      <th>1</th>\n",
       "      <td>ad</td>\n",
       "      <td>Индивидуальные панели от livolotouch.ru. - Реа...</td>\n",
       "      <td>105</td>\n",
       "      <td>yes</td>\n",
       "      <td>0</td>\n",
       "      <td>0</td>\n",
       "      <td>0</td>\n",
       "      <td>15d552b5b026032afd7b3956fa0ad66b</td>\n",
       "      <td>ad</td>\n",
       "    </tr>\n",
       "    <tr>\n",
       "      <th>2</th>\n",
       "      <td>ad</td>\n",
       "      <td>Уютная атмосфера DailyKalyan. Спокойная музыка...</td>\n",
       "      <td>186</td>\n",
       "      <td>yes</td>\n",
       "      <td>0</td>\n",
       "      <td>0</td>\n",
       "      <td>0</td>\n",
       "      <td>15d552b5b026032afd7b3956fa0ad66b</td>\n",
       "      <td>ad</td>\n",
       "    </tr>\n",
       "    <tr>\n",
       "      <th>3</th>\n",
       "      <td>ad</td>\n",
       "      <td>Заточка инструмента. Дорогие соседи! Предлагае...</td>\n",
       "      <td>138</td>\n",
       "      <td>yes</td>\n",
       "      <td>0</td>\n",
       "      <td>0</td>\n",
       "      <td>0</td>\n",
       "      <td>15d552b5b026032afd7b3956fa0ad66b</td>\n",
       "      <td>ad</td>\n",
       "    </tr>\n",
       "    <tr>\n",
       "      <th>4</th>\n",
       "      <td>ad</td>\n",
       "      <td>Привет! мы помогаем Вам продавать на торговой ...</td>\n",
       "      <td>142</td>\n",
       "      <td>yes</td>\n",
       "      <td>0</td>\n",
       "      <td>0</td>\n",
       "      <td>0</td>\n",
       "      <td>15d552b5b026032afd7b3956fa0ad66b</td>\n",
       "      <td>ad</td>\n",
       "    </tr>\n",
       "  </tbody>\n",
       "</table>\n",
       "</div>"
      ],
      "text/plain": [
       "         INPUT:label                                      INPUT:comment  \\\n",
       "0  ban_shock_content  Суд вынес приговор по громкому делу «черных ри...   \n",
       "1                 ad  Индивидуальные панели от livolotouch.ru. - Реа...   \n",
       "2                 ad  Уютная атмосфера DailyKalyan. Спокойная музыка...   \n",
       "3                 ad  Заточка инструмента. Дорогие соседи! Предлагае...   \n",
       "4                 ad  Привет! мы помогаем Вам продавать на торговой ...   \n",
       "\n",
       "   INPUT:task-id OUTPUT:ad OUTPUT:not_ad OUTPUT:ban_insult_hard  \\\n",
       "0            323        no          True                      0   \n",
       "1            105       yes             0                      0   \n",
       "2            186       yes             0                      0   \n",
       "3            138       yes             0                      0   \n",
       "4            142       yes             0                      0   \n",
       "\n",
       "  OUTPUT:ban_shock_content              ASSIGNMENT:worker_id OUTPUT:label  \n",
       "0                        0  15d552b5b026032afd7b3956fa0ad66b       not_ad  \n",
       "1                        0  15d552b5b026032afd7b3956fa0ad66b           ad  \n",
       "2                        0  15d552b5b026032afd7b3956fa0ad66b           ad  \n",
       "3                        0  15d552b5b026032afd7b3956fa0ad66b           ad  \n",
       "4                        0  15d552b5b026032afd7b3956fa0ad66b           ad  "
      ]
     },
     "execution_count": 5,
     "metadata": {},
     "output_type": "execute_result"
    }
   ],
   "source": [
    "df.nunique ()\n",
    "df.head()"
   ]
  },
  {
   "cell_type": "code",
   "execution_count": null,
   "id": "782a9cf4",
   "metadata": {},
   "outputs": [],
   "source": []
  },
  {
   "cell_type": "code",
   "execution_count": 6,
   "id": "71bf76ef",
   "metadata": {},
   "outputs": [],
   "source": [
    "df = df.drop(columns=['OUTPUT:ad', 'OUTPUT:not_ad', 'OUTPUT:ban_insult_hard', 'OUTPUT:ban_shock_content'])"
   ]
  },
  {
   "cell_type": "code",
   "execution_count": 7,
   "id": "326796d5",
   "metadata": {},
   "outputs": [
    {
     "data": {
      "text/plain": [
       "INPUT:label               4\n",
       "INPUT:comment           500\n",
       "INPUT:task-id           500\n",
       "ASSIGNMENT:worker_id     63\n",
       "OUTPUT:label              4\n",
       "dtype: int64"
      ]
     },
     "execution_count": 7,
     "metadata": {},
     "output_type": "execute_result"
    }
   ],
   "source": [
    "df.nunique ()"
   ]
  },
  {
   "cell_type": "code",
   "execution_count": 8,
   "id": "530b1b79",
   "metadata": {},
   "outputs": [],
   "source": [
    "#сохранения в tsv\n",
    "df.to_csv('Quality.tsv', sep=\"\\t\", index=False)"
   ]
  },
  {
   "cell_type": "code",
   "execution_count": 9,
   "id": "339ecf41",
   "metadata": {},
   "outputs": [
    {
     "data": {
      "text/plain": [
       "1201"
      ]
     },
     "execution_count": 9,
     "metadata": {},
     "output_type": "execute_result"
    }
   ],
   "source": [
    "df[df['INPUT:label'] == df['OUTPUT:label']].count()[0]"
   ]
  },
  {
   "cell_type": "code",
   "execution_count": 10,
   "id": "a347e323",
   "metadata": {},
   "outputs": [
    {
     "data": {
      "text/plain": [
       "443"
      ]
     },
     "execution_count": 10,
     "metadata": {},
     "output_type": "execute_result"
    }
   ],
   "source": [
    "df[df['INPUT:label'] != df['OUTPUT:label']].count()[0]"
   ]
  },
  {
   "cell_type": "code",
   "execution_count": 11,
   "id": "2f23957b",
   "metadata": {},
   "outputs": [
    {
     "data": {
      "text/plain": [
       "0.29533333333333334"
      ]
     },
     "execution_count": 11,
     "metadata": {},
     "output_type": "execute_result"
    }
   ],
   "source": [
    "# 29% неправильных ответов\n",
    "df[df['INPUT:label'] != df['OUTPUT:label']].count()[0] / 1500"
   ]
  },
  {
   "cell_type": "code",
   "execution_count": null,
   "id": "bb3863d0",
   "metadata": {},
   "outputs": [],
   "source": []
  },
  {
   "cell_type": "code",
   "execution_count": 12,
   "id": "4a572f28",
   "metadata": {},
   "outputs": [
    {
     "data": {
      "image/png": "[encoded data removed]",
      "text/plain": [
       "<Figure size 1000x500 with 1 Axes>"
      ]
     },
     "metadata": {},
     "output_type": "display_data"
    }
   ],
   "source": [
    "#При добавлении контроля качества процент ошибок снизился 29% (443), но по прежнему высок. Возможно, нужнжо уменьшить количество заданий на странице, и изменить инструкцию\n",
    "# \n",
    "_, axes = plt.subplots(1, sharey=True, figsize=(10,5))\n",
    "\n",
    "\n",
    "sns.countplot(x='INPUT:label', hue='OUTPUT:label', data=df);"
   ]
  },
  {
   "cell_type": "code",
   "execution_count": null,
   "id": "fa1d3f36",
   "metadata": {},
   "outputs": [],
   "source": []
  }
 ],
 "metadata": {
  "kernelspec": {
   "display_name": "Python 3 (ipykernel)",
   "language": "python",
   "name": "python3"
  },
  "language_info": {
   "codemirror_mode": {
    "name": "ipython",
    "version": 3
   },
   "file_extension": ".py",
   "mimetype": "text/x-python",
   "name": "python",
   "nbconvert_exporter": "python",
   "pygments_lexer": "ipython3",
   "version": "3.9.13"
  }
 },
 "nbformat": 4,
 "nbformat_minor": 5
}

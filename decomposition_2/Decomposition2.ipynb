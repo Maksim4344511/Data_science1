{
 "cells": [
  {
   "cell_type": "code",
   "execution_count": 1,
   "id": "b4d2f172",
   "metadata": {},
   "outputs": [],
   "source": [
    "import pandas as pd\n",
    "\n",
    "%matplotlib inline\n",
    "import matplotlib.pyplot as plt\n",
    "import seaborn as sns\n",
    "import plotly.graph_objs as go\n",
    "import numpy as np\n",
    "from pandas import read_excel"
   ]
  },
  {
   "cell_type": "code",
   "execution_count": 2,
   "id": "fc0a5ee0",
   "metadata": {},
   "outputs": [],
   "source": [
    "df = pd.read_csv('./Decomp_1.tsv', sep=\"\\t\")\n"
   ]
  },
  {
   "cell_type": "code",
   "execution_count": 3,
   "id": "d6f230f7",
   "metadata": {},
   "outputs": [],
   "source": [
    "df = df.drop(columns=['GOLDEN:result', 'HINT:text', 'HINT:default_language'])"
   ]
  },
  {
   "cell_type": "code",
   "execution_count": 4,
   "id": "fa76ee05",
   "metadata": {},
   "outputs": [],
   "source": [
    "#добавил данные с результатами\n",
    "de = read_excel('roadSigns_1.xlsx')"
   ]
  },
  {
   "cell_type": "code",
   "execution_count": 5,
   "id": "c9c49a83",
   "metadata": {},
   "outputs": [
    {
     "data": {
      "text/html": [
       "<div>\n",
       "<style scoped>\n",
       "    .dataframe tbody tr th:only-of-type {\n",
       "        vertical-align: middle;\n",
       "    }\n",
       "\n",
       "    .dataframe tbody tr th {\n",
       "        vertical-align: top;\n",
       "    }\n",
       "\n",
       "    .dataframe thead th {\n",
       "        text-align: right;\n",
       "    }\n",
       "</style>\n",
       "<table border=\"1\" class=\"dataframe\">\n",
       "  <thead>\n",
       "    <tr style=\"text-align: right;\">\n",
       "      <th></th>\n",
       "      <th>INPUT:image</th>\n",
       "      <th>OUTPUT:result</th>\n",
       "      <th>ASSIGNMENT:worker_id</th>\n",
       "      <th>INPUT:label</th>\n",
       "      <th>INPUT:task-id</th>\n",
       "    </tr>\n",
       "  </thead>\n",
       "  <tbody>\n",
       "    <tr>\n",
       "      <th>0</th>\n",
       "      <td>http://sdcimages.s3.yandex.net/nirvana/5868dfc...</td>\n",
       "      <td>pedestrian</td>\n",
       "      <td>040267dc3213d9bb136605f74e9fd81f</td>\n",
       "      <td>no_stop</td>\n",
       "      <td>131</td>\n",
       "    </tr>\n",
       "    <tr>\n",
       "      <th>1</th>\n",
       "      <td>http://sdcimages.s3.yandex.net/nirvana/5868dfc...</td>\n",
       "      <td>no_stop</td>\n",
       "      <td>419c035390638e54057fefdb02dd2814</td>\n",
       "      <td>no_stop</td>\n",
       "      <td>131</td>\n",
       "    </tr>\n",
       "    <tr>\n",
       "      <th>2</th>\n",
       "      <td>http://sdcimages.s3.yandex.net/nirvana/5868dfc...</td>\n",
       "      <td>no_stop</td>\n",
       "      <td>8179b955d7706457ac3698566f59d9cf</td>\n",
       "      <td>no_stop</td>\n",
       "      <td>131</td>\n",
       "    </tr>\n",
       "    <tr>\n",
       "      <th>3</th>\n",
       "      <td>http://sdcimages.s3.yandex.net/nirvana/84d7947...</td>\n",
       "      <td>pedestrian</td>\n",
       "      <td>040267dc3213d9bb136605f74e9fd81f</td>\n",
       "      <td>no_stop</td>\n",
       "      <td>137</td>\n",
       "    </tr>\n",
       "    <tr>\n",
       "      <th>4</th>\n",
       "      <td>http://sdcimages.s3.yandex.net/nirvana/84d7947...</td>\n",
       "      <td>no_stop</td>\n",
       "      <td>419c035390638e54057fefdb02dd2814</td>\n",
       "      <td>no_stop</td>\n",
       "      <td>137</td>\n",
       "    </tr>\n",
       "    <tr>\n",
       "      <th>...</th>\n",
       "      <td>...</td>\n",
       "      <td>...</td>\n",
       "      <td>...</td>\n",
       "      <td>...</td>\n",
       "      <td>...</td>\n",
       "    </tr>\n",
       "    <tr>\n",
       "      <th>673</th>\n",
       "      <td>http://sdcimages.s3.yandex.net/nirvana/a32a065...</td>\n",
       "      <td>no_stop</td>\n",
       "      <td>1442435d91d56394f486ded242b61332</td>\n",
       "      <td>no_stop</td>\n",
       "      <td>104</td>\n",
       "    </tr>\n",
       "    <tr>\n",
       "      <th>674</th>\n",
       "      <td>http://sdcimages.s3.yandex.net/nirvana/a32a065...</td>\n",
       "      <td>no_stop</td>\n",
       "      <td>9525a461cb742096fe0b0f2bd0c89cd9</td>\n",
       "      <td>no_stop</td>\n",
       "      <td>104</td>\n",
       "    </tr>\n",
       "    <tr>\n",
       "      <th>675</th>\n",
       "      <td>http://sdcimages.s3.yandex.net/nirvana/f1917f0...</td>\n",
       "      <td>bus_stop</td>\n",
       "      <td>8c54a484fc400b6ba9e7933791b9a4ed</td>\n",
       "      <td>bus_stop</td>\n",
       "      <td>57</td>\n",
       "    </tr>\n",
       "    <tr>\n",
       "      <th>676</th>\n",
       "      <td>http://sdcimages.s3.yandex.net/nirvana/f1917f0...</td>\n",
       "      <td>bus_stop</td>\n",
       "      <td>1442435d91d56394f486ded242b61332</td>\n",
       "      <td>bus_stop</td>\n",
       "      <td>57</td>\n",
       "    </tr>\n",
       "    <tr>\n",
       "      <th>677</th>\n",
       "      <td>http://sdcimages.s3.yandex.net/nirvana/f1917f0...</td>\n",
       "      <td>bus_stop</td>\n",
       "      <td>80e85325f66d6bb02a3fbc25d5904d86</td>\n",
       "      <td>bus_stop</td>\n",
       "      <td>57</td>\n",
       "    </tr>\n",
       "  </tbody>\n",
       "</table>\n",
       "<p>678 rows × 5 columns</p>\n",
       "</div>"
      ],
      "text/plain": [
       "                                           INPUT:image OUTPUT:result  \\\n",
       "0    http://sdcimages.s3.yandex.net/nirvana/5868dfc...    pedestrian   \n",
       "1    http://sdcimages.s3.yandex.net/nirvana/5868dfc...       no_stop   \n",
       "2    http://sdcimages.s3.yandex.net/nirvana/5868dfc...       no_stop   \n",
       "3    http://sdcimages.s3.yandex.net/nirvana/84d7947...    pedestrian   \n",
       "4    http://sdcimages.s3.yandex.net/nirvana/84d7947...       no_stop   \n",
       "..                                                 ...           ...   \n",
       "673  http://sdcimages.s3.yandex.net/nirvana/a32a065...       no_stop   \n",
       "674  http://sdcimages.s3.yandex.net/nirvana/a32a065...       no_stop   \n",
       "675  http://sdcimages.s3.yandex.net/nirvana/f1917f0...      bus_stop   \n",
       "676  http://sdcimages.s3.yandex.net/nirvana/f1917f0...      bus_stop   \n",
       "677  http://sdcimages.s3.yandex.net/nirvana/f1917f0...      bus_stop   \n",
       "\n",
       "                 ASSIGNMENT:worker_id INPUT:label  INPUT:task-id  \n",
       "0    040267dc3213d9bb136605f74e9fd81f     no_stop            131  \n",
       "1    419c035390638e54057fefdb02dd2814     no_stop            131  \n",
       "2    8179b955d7706457ac3698566f59d9cf     no_stop            131  \n",
       "3    040267dc3213d9bb136605f74e9fd81f     no_stop            137  \n",
       "4    419c035390638e54057fefdb02dd2814     no_stop            137  \n",
       "..                                ...         ...            ...  \n",
       "673  1442435d91d56394f486ded242b61332     no_stop            104  \n",
       "674  9525a461cb742096fe0b0f2bd0c89cd9     no_stop            104  \n",
       "675  8c54a484fc400b6ba9e7933791b9a4ed    bus_stop             57  \n",
       "676  1442435d91d56394f486ded242b61332    bus_stop             57  \n",
       "677  80e85325f66d6bb02a3fbc25d5904d86    bus_stop             57  \n",
       "\n",
       "[678 rows x 5 columns]"
      ]
     },
     "execution_count": 5,
     "metadata": {},
     "output_type": "execute_result"
    }
   ],
   "source": [
    "df = pd.merge(df, de, on=['INPUT:image'], how='inner')\n",
    "df"
   ]
  },
  {
   "cell_type": "code",
   "execution_count": 6,
   "id": "782a9cf4",
   "metadata": {},
   "outputs": [
    {
     "data": {
      "text/plain": [
       "main_road_main_road      134\n",
       "give_way_give_way        134\n",
       "pedestrian_pedestrian    133\n",
       "bus_stop_bus_stop        132\n",
       "no_stop_no_stop          131\n",
       "no_stop_pedestrian         3\n",
       "bus_stop_pedestrian        3\n",
       "main_road_pedestrian       2\n",
       "pedestrian_bus_stop        2\n",
       "main_road_give_way         2\n",
       "give_way_pedestrian        1\n",
       "no_stop_bus_stop           1\n",
       "dtype: int64"
      ]
     },
     "execution_count": 6,
     "metadata": {},
     "output_type": "execute_result"
    }
   ],
   "source": [
    "# Считаем TP, TN, FP, FN (по всем толокерам)\n",
    "(df['INPUT:label'] +'_'+ df['OUTPUT:result']).value_counts()"
   ]
  },
  {
   "cell_type": "code",
   "execution_count": 7,
   "id": "71bf76ef",
   "metadata": {},
   "outputs": [],
   "source": [
    "#Считаем результат по большинству ответов толокеров по каждой задаче, записываем в словарь w. Задача 'INPUT:image' и 'OUTPUT:result'\n",
    "w = {}\n",
    "N = 0\n",
    "for i in df['INPUT:image'].unique():\n",
    "    N += 1\n",
    "    #print(N, i)\n",
    "    #display(df[df['INPUT:image']== i]['OUTPUT:result'].value_counts())\n",
    "    w[i] = df[df['INPUT:image']== i]['OUTPUT:result'].value_counts().index[0]\n",
    "    #if df[df['INPUT:image']== i]['OUTPUT:result'].value_counts()[0] != 3:\n",
    "    #    break"
   ]
  },
  {
   "cell_type": "code",
   "execution_count": 8,
   "id": "326796d5",
   "metadata": {},
   "outputs": [],
   "source": [
    "# Создаем df2 без перекрытия \n",
    "df2 = df[['INPUT:image','INPUT:label']].drop_duplicates()"
   ]
  },
  {
   "cell_type": "code",
   "execution_count": 9,
   "id": "530b1b79",
   "metadata": {},
   "outputs": [],
   "source": [
    "# в df2 создаем столбец с разметкой толокеров, по большинству из словаря w\n",
    "df2['tolokers'] =df2['INPUT:image'].map(w)"
   ]
  },
  {
   "cell_type": "code",
   "execution_count": 10,
   "id": "339ecf41",
   "metadata": {},
   "outputs": [
    {
     "data": {
      "text/plain": [
       "no_stop - no_stop          45\n",
       "main_road - main_road      45\n",
       "bus_stop - bus_stop        45\n",
       "give_way - give_way        45\n",
       "pedestrian - pedestrian    45\n",
       "dtype: int64"
      ]
     },
     "execution_count": 10,
     "metadata": {},
     "output_type": "execute_result"
    }
   ],
   "source": [
    "# Считаем TP, TN, FP, FN (по всем уникальным задачам, используя большинство) \n",
    "(df2['INPUT:label'] +' - '+ df2['tolokers']).value_counts()"
   ]
  },
  {
   "cell_type": "code",
   "execution_count": null,
   "id": "a347e323",
   "metadata": {},
   "outputs": [],
   "source": []
  },
  {
   "cell_type": "code",
   "execution_count": null,
   "id": "2f23957b",
   "metadata": {},
   "outputs": [],
   "source": []
  },
  {
   "cell_type": "code",
   "execution_count": null,
   "id": "bb3863d0",
   "metadata": {},
   "outputs": [],
   "source": []
  },
  {
   "cell_type": "code",
   "execution_count": null,
   "id": "4a572f28",
   "metadata": {},
   "outputs": [],
   "source": []
  },
  {
   "cell_type": "code",
   "execution_count": null,
   "id": "b8874068",
   "metadata": {},
   "outputs": [],
   "source": []
  },
  {
   "cell_type": "code",
   "execution_count": null,
   "id": "fa1d3f36",
   "metadata": {},
   "outputs": [],
   "source": []
  },
  {
   "cell_type": "code",
   "execution_count": null,
   "id": "7d6317c0",
   "metadata": {},
   "outputs": [],
   "source": []
  },
  {
   "cell_type": "code",
   "execution_count": null,
   "id": "d9d27327",
   "metadata": {},
   "outputs": [],
   "source": []
  },
  {
   "cell_type": "code",
   "execution_count": null,
   "id": "fb0d4a43",
   "metadata": {},
   "outputs": [],
   "source": []
  },
  {
   "cell_type": "code",
   "execution_count": null,
   "id": "1cf3ba7a",
   "metadata": {},
   "outputs": [],
   "source": []
  },
  {
   "cell_type": "code",
   "execution_count": null,
   "id": "d76b7185",
   "metadata": {},
   "outputs": [],
   "source": []
  },
  {
   "cell_type": "code",
   "execution_count": null,
   "id": "8380f68f",
   "metadata": {},
   "outputs": [],
   "source": []
  },
  {
   "cell_type": "code",
   "execution_count": null,
   "id": "563e6e42",
   "metadata": {},
   "outputs": [],
   "source": []
  },
  {
   "cell_type": "code",
   "execution_count": null,
   "id": "9a228161",
   "metadata": {},
   "outputs": [],
   "source": []
  },
  {
   "cell_type": "code",
   "execution_count": null,
   "id": "08634183",
   "metadata": {},
   "outputs": [],
   "source": []
  }
 ],
 "metadata": {
  "kernelspec": {
   "display_name": "Python 3 (ipykernel)",
   "language": "python",
   "name": "python3"
  },
  "language_info": {
   "codemirror_mode": {
    "name": "ipython",
    "version": 3
   },
   "file_extension": ".py",
   "mimetype": "text/x-python",
   "name": "python",
   "nbconvert_exporter": "python",
   "pygments_lexer": "ipython3",
   "version": "3.9.13"
  }
 },
 "nbformat": 4,
 "nbformat_minor": 5
}

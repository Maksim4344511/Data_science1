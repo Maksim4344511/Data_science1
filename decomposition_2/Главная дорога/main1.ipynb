{
 "cells": [
  {
   "cell_type": "code",
   "execution_count": 1,
   "id": "b4d2f172",
   "metadata": {},
   "outputs": [],
   "source": [
    "import pandas as pd\n",
    "\n",
    "%matplotlib inline\n",
    "import matplotlib.pyplot as plt\n",
    "import seaborn as sns\n",
    "import plotly.graph_objs as go\n",
    "import numpy as np\n",
    "from pandas import read_excel"
   ]
  },
  {
   "cell_type": "code",
   "execution_count": 2,
   "id": "fc0a5ee0",
   "metadata": {},
   "outputs": [],
   "source": [
    "df = pd.read_csv('./assignments_from_pool_main.tsv', sep=\"\\t\")\n"
   ]
  },
  {
   "cell_type": "code",
   "execution_count": 3,
   "id": "d6f230f7",
   "metadata": {},
   "outputs": [],
   "source": [
    "df = df.drop(columns=['GOLDEN:result', 'HINT:text', 'HINT:default_language'])"
   ]
  },
  {
   "cell_type": "code",
   "execution_count": 4,
   "id": "fa76ee05",
   "metadata": {},
   "outputs": [
    {
     "data": {
      "text/html": [
       "<div>\n",
       "<style scoped>\n",
       "    .dataframe tbody tr th:only-of-type {\n",
       "        vertical-align: middle;\n",
       "    }\n",
       "\n",
       "    .dataframe tbody tr th {\n",
       "        vertical-align: top;\n",
       "    }\n",
       "\n",
       "    .dataframe thead th {\n",
       "        text-align: right;\n",
       "    }\n",
       "</style>\n",
       "<table border=\"1\" class=\"dataframe\">\n",
       "  <thead>\n",
       "    <tr style=\"text-align: right;\">\n",
       "      <th></th>\n",
       "      <th>INPUT:image</th>\n",
       "      <th>INPUT:label</th>\n",
       "      <th>INPUT:task-id</th>\n",
       "      <th>OUTPUT:result</th>\n",
       "      <th>ASSIGNMENT:worker_id</th>\n",
       "      <th>label</th>\n",
       "    </tr>\n",
       "  </thead>\n",
       "  <tbody>\n",
       "    <tr>\n",
       "      <th>0</th>\n",
       "      <td>http://sdcimages.s3.yandex.net/nirvana/36d9a38...</td>\n",
       "      <td>pedestrian</td>\n",
       "      <td>50</td>\n",
       "      <td>no</td>\n",
       "      <td>e9f266c9eebbe14c5118539bb7ca2772</td>\n",
       "      <td>no</td>\n",
       "    </tr>\n",
       "    <tr>\n",
       "      <th>1</th>\n",
       "      <td>http://sdcimages.s3.yandex.net/nirvana/a7f2827...</td>\n",
       "      <td>no_stop</td>\n",
       "      <td>150</td>\n",
       "      <td>no</td>\n",
       "      <td>e9f266c9eebbe14c5118539bb7ca2772</td>\n",
       "      <td>no</td>\n",
       "    </tr>\n",
       "    <tr>\n",
       "      <th>2</th>\n",
       "      <td>http://sdcimages.s3.yandex.net/nirvana/b4fec07...</td>\n",
       "      <td>bus_stop</td>\n",
       "      <td>63</td>\n",
       "      <td>no</td>\n",
       "      <td>e9f266c9eebbe14c5118539bb7ca2772</td>\n",
       "      <td>no</td>\n",
       "    </tr>\n",
       "    <tr>\n",
       "      <th>3</th>\n",
       "      <td>http://sdcimages.s3.yandex.net/nirvana/2eff6bd...</td>\n",
       "      <td>bus_stop</td>\n",
       "      <td>62</td>\n",
       "      <td>no</td>\n",
       "      <td>e9f266c9eebbe14c5118539bb7ca2772</td>\n",
       "      <td>no</td>\n",
       "    </tr>\n",
       "    <tr>\n",
       "      <th>4</th>\n",
       "      <td>http://sdcimages.s3.yandex.net/nirvana/edd3911...</td>\n",
       "      <td>main_road</td>\n",
       "      <td>194</td>\n",
       "      <td>main_road</td>\n",
       "      <td>e9f266c9eebbe14c5118539bb7ca2772</td>\n",
       "      <td>main_road</td>\n",
       "    </tr>\n",
       "    <tr>\n",
       "      <th>...</th>\n",
       "      <td>...</td>\n",
       "      <td>...</td>\n",
       "      <td>...</td>\n",
       "      <td>...</td>\n",
       "      <td>...</td>\n",
       "      <td>...</td>\n",
       "    </tr>\n",
       "    <tr>\n",
       "      <th>764</th>\n",
       "      <td>http://sdcimages.s3.yandex.net/nirvana/e361d46...</td>\n",
       "      <td>main_road</td>\n",
       "      <td>183</td>\n",
       "      <td>main_road</td>\n",
       "      <td>ce3e479b9803eec6db9ed9a15421520a</td>\n",
       "      <td>main_road</td>\n",
       "    </tr>\n",
       "    <tr>\n",
       "      <th>765</th>\n",
       "      <td>http://sdcimages.s3.yandex.net/nirvana/615ef57...</td>\n",
       "      <td>no_stop</td>\n",
       "      <td>128</td>\n",
       "      <td>no</td>\n",
       "      <td>284099af39be0b0a501dc316834d0aa8</td>\n",
       "      <td>no</td>\n",
       "    </tr>\n",
       "    <tr>\n",
       "      <th>766</th>\n",
       "      <td>http://sdcimages.s3.yandex.net/nirvana/dfa6fde...</td>\n",
       "      <td>pedestrian</td>\n",
       "      <td>38</td>\n",
       "      <td>no</td>\n",
       "      <td>284099af39be0b0a501dc316834d0aa8</td>\n",
       "      <td>no</td>\n",
       "    </tr>\n",
       "    <tr>\n",
       "      <th>767</th>\n",
       "      <td>http://sdcimages.s3.yandex.net/nirvana/aef1e11...</td>\n",
       "      <td>main_road</td>\n",
       "      <td>153</td>\n",
       "      <td>main_road</td>\n",
       "      <td>284099af39be0b0a501dc316834d0aa8</td>\n",
       "      <td>main_road</td>\n",
       "    </tr>\n",
       "    <tr>\n",
       "      <th>768</th>\n",
       "      <td>http://sdcimages.s3.yandex.net/nirvana/ae61eec...</td>\n",
       "      <td>give_way</td>\n",
       "      <td>225</td>\n",
       "      <td>no</td>\n",
       "      <td>284099af39be0b0a501dc316834d0aa8</td>\n",
       "      <td>no</td>\n",
       "    </tr>\n",
       "  </tbody>\n",
       "</table>\n",
       "<p>769 rows × 6 columns</p>\n",
       "</div>"
      ],
      "text/plain": [
       "                                           INPUT:image INPUT:label  \\\n",
       "0    http://sdcimages.s3.yandex.net/nirvana/36d9a38...  pedestrian   \n",
       "1    http://sdcimages.s3.yandex.net/nirvana/a7f2827...     no_stop   \n",
       "2    http://sdcimages.s3.yandex.net/nirvana/b4fec07...    bus_stop   \n",
       "3    http://sdcimages.s3.yandex.net/nirvana/2eff6bd...    bus_stop   \n",
       "4    http://sdcimages.s3.yandex.net/nirvana/edd3911...   main_road   \n",
       "..                                                 ...         ...   \n",
       "764  http://sdcimages.s3.yandex.net/nirvana/e361d46...   main_road   \n",
       "765  http://sdcimages.s3.yandex.net/nirvana/615ef57...     no_stop   \n",
       "766  http://sdcimages.s3.yandex.net/nirvana/dfa6fde...  pedestrian   \n",
       "767  http://sdcimages.s3.yandex.net/nirvana/aef1e11...   main_road   \n",
       "768  http://sdcimages.s3.yandex.net/nirvana/ae61eec...    give_way   \n",
       "\n",
       "     INPUT:task-id OUTPUT:result              ASSIGNMENT:worker_id      label  \n",
       "0               50            no  e9f266c9eebbe14c5118539bb7ca2772         no  \n",
       "1              150            no  e9f266c9eebbe14c5118539bb7ca2772         no  \n",
       "2               63            no  e9f266c9eebbe14c5118539bb7ca2772         no  \n",
       "3               62            no  e9f266c9eebbe14c5118539bb7ca2772         no  \n",
       "4              194     main_road  e9f266c9eebbe14c5118539bb7ca2772  main_road  \n",
       "..             ...           ...                               ...        ...  \n",
       "764            183     main_road  ce3e479b9803eec6db9ed9a15421520a  main_road  \n",
       "765            128            no  284099af39be0b0a501dc316834d0aa8         no  \n",
       "766             38            no  284099af39be0b0a501dc316834d0aa8         no  \n",
       "767            153     main_road  284099af39be0b0a501dc316834d0aa8  main_road  \n",
       "768            225            no  284099af39be0b0a501dc316834d0aa8         no  \n",
       "\n",
       "[769 rows x 6 columns]"
      ]
     },
     "execution_count": 4,
     "metadata": {},
     "output_type": "execute_result"
    }
   ],
   "source": [
    "# Словарь для значений правильных ответов, меняем все кроме 'give_way' на \"no\"\n",
    "d = {'pedestrian':'no','main_road':'main_road','no_stop':'no','bus_stop':'no','give_way':'no'}\n",
    "# Заменяем правльные ответы на 'no' и 'give_way'\n",
    "df['label'] = df['INPUT:label'].map(d)\n",
    "df"
   ]
  },
  {
   "cell_type": "code",
   "execution_count": 5,
   "id": "c9c49a83",
   "metadata": {},
   "outputs": [
    {
     "data": {
      "text/plain": [
       "no_no                  614\n",
       "main_road_main_road    155\n",
       "dtype: int64"
      ]
     },
     "execution_count": 5,
     "metadata": {},
     "output_type": "execute_result"
    }
   ],
   "source": [
    "# Считаем TP, TN, FP, FN (по всем толокерам)\n",
    "(df['label'] +'_'+ df['OUTPUT:result']).value_counts()"
   ]
  },
  {
   "cell_type": "code",
   "execution_count": 6,
   "id": "53bb2231",
   "metadata": {},
   "outputs": [
    {
     "name": "stdout",
     "output_type": "stream",
     "text": [
      "TP 155\n",
      "TN 614\n",
      "FP 0\n",
      "FN 0\n"
     ]
    }
   ],
   "source": [
    "TP = df[(df['label'] == 'main_road') & (df['OUTPUT:result'] == 'main_road')].count()[0]\n",
    "TN = df[(df['label'] == 'no') & (df['OUTPUT:result'] == 'no')].count()[0]\n",
    "FN = df[(df['label'] == 'main_road') & (df['OUTPUT:result'] == 'no')].count()[0]\n",
    "FP = df[(df['label'] == 'no') & (df['OUTPUT:result'] == 'main_road')].count()[0]\n",
    "print('TP', TP)\n",
    "print('TN', TN)\n",
    "print('FP', FP)\n",
    "print('FN', FN)"
   ]
  },
  {
   "cell_type": "code",
   "execution_count": 7,
   "id": "0633485b",
   "metadata": {},
   "outputs": [
    {
     "name": "stdout",
     "output_type": "stream",
     "text": [
      "Accuracy 1.0\n",
      "TPR 1.0\n",
      "FPR 0.0\n",
      "ROC_AUC 1.0\n"
     ]
    }
   ],
   "source": [
    "Accuracy = (TP + TN) / (TP + TN + FP + FN)\n",
    "Accuracy\n",
    "TPR = TP / (TP + FN)\n",
    "FPR = FP / (FP + TN)\n",
    "ROC_AUC = (1 + TPR - FPR)/2\n",
    "print(\"Accuracy\", Accuracy)\n",
    "print('TPR', TPR)\n",
    "print('FPR', FPR)\n",
    "print('ROC_AUC', ROC_AUC)"
   ]
  },
  {
   "cell_type": "code",
   "execution_count": 8,
   "id": "d7893f2f",
   "metadata": {},
   "outputs": [],
   "source": [
    "#df.groupby('INPUT:image')"
   ]
  },
  {
   "cell_type": "code",
   "execution_count": 9,
   "id": "f870af16",
   "metadata": {},
   "outputs": [
    {
     "data": {
      "text/plain": [
       "no    5\n",
       "Name: OUTPUT:result, dtype: int64"
      ]
     },
     "metadata": {},
     "output_type": "display_data"
    },
    {
     "data": {
      "text/plain": [
       "no    3\n",
       "Name: OUTPUT:result, dtype: int64"
      ]
     },
     "metadata": {},
     "output_type": "display_data"
    },
    {
     "data": {
      "text/plain": [
       "no    3\n",
       "Name: OUTPUT:result, dtype: int64"
      ]
     },
     "metadata": {},
     "output_type": "display_data"
    },
    {
     "data": {
      "text/plain": [
       "no    3\n",
       "Name: OUTPUT:result, dtype: int64"
      ]
     },
     "metadata": {},
     "output_type": "display_data"
    },
    {
     "data": {
      "text/plain": [
       "main_road    3\n",
       "Name: OUTPUT:result, dtype: int64"
      ]
     },
     "metadata": {},
     "output_type": "display_data"
    },
    {
     "data": {
      "text/plain": [
       "no    3\n",
       "Name: OUTPUT:result, dtype: int64"
      ]
     },
     "metadata": {},
     "output_type": "display_data"
    },
    {
     "data": {
      "text/plain": [
       "no    3\n",
       "Name: OUTPUT:result, dtype: int64"
      ]
     },
     "metadata": {},
     "output_type": "display_data"
    },
    {
     "data": {
      "text/plain": [
       "no    3\n",
       "Name: OUTPUT:result, dtype: int64"
      ]
     },
     "metadata": {},
     "output_type": "display_data"
    },
    {
     "data": {
      "text/plain": [
       "main_road    3\n",
       "Name: OUTPUT:result, dtype: int64"
      ]
     },
     "metadata": {},
     "output_type": "display_data"
    },
    {
     "data": {
      "text/plain": [
       "no    3\n",
       "Name: OUTPUT:result, dtype: int64"
      ]
     },
     "metadata": {},
     "output_type": "display_data"
    },
    {
     "data": {
      "text/plain": [
       "no    3\n",
       "Name: OUTPUT:result, dtype: int64"
      ]
     },
     "metadata": {},
     "output_type": "display_data"
    },
    {
     "data": {
      "text/plain": [
       "no    3\n",
       "Name: OUTPUT:result, dtype: int64"
      ]
     },
     "metadata": {},
     "output_type": "display_data"
    },
    {
     "data": {
      "text/plain": [
       "no    3\n",
       "Name: OUTPUT:result, dtype: int64"
      ]
     },
     "metadata": {},
     "output_type": "display_data"
    },
    {
     "data": {
      "text/plain": [
       "no    3\n",
       "Name: OUTPUT:result, dtype: int64"
      ]
     },
     "metadata": {},
     "output_type": "display_data"
    },
    {
     "data": {
      "text/plain": [
       "no    3\n",
       "Name: OUTPUT:result, dtype: int64"
      ]
     },
     "metadata": {},
     "output_type": "display_data"
    },
    {
     "data": {
      "text/plain": [
       "no    3\n",
       "Name: OUTPUT:result, dtype: int64"
      ]
     },
     "metadata": {},
     "output_type": "display_data"
    },
    {
     "data": {
      "text/plain": [
       "no    3\n",
       "Name: OUTPUT:result, dtype: int64"
      ]
     },
     "metadata": {},
     "output_type": "display_data"
    },
    {
     "data": {
      "text/plain": [
       "no    3\n",
       "Name: OUTPUT:result, dtype: int64"
      ]
     },
     "metadata": {},
     "output_type": "display_data"
    },
    {
     "data": {
      "text/plain": [
       "main_road    3\n",
       "Name: OUTPUT:result, dtype: int64"
      ]
     },
     "metadata": {},
     "output_type": "display_data"
    },
    {
     "data": {
      "text/plain": [
       "main_road    3\n",
       "Name: OUTPUT:result, dtype: int64"
      ]
     },
     "metadata": {},
     "output_type": "display_data"
    },
    {
     "data": {
      "text/plain": [
       "no    3\n",
       "Name: OUTPUT:result, dtype: int64"
      ]
     },
     "metadata": {},
     "output_type": "display_data"
    },
    {
     "data": {
      "text/plain": [
       "no    3\n",
       "Name: OUTPUT:result, dtype: int64"
      ]
     },
     "metadata": {},
     "output_type": "display_data"
    },
    {
     "data": {
      "text/plain": [
       "no    3\n",
       "Name: OUTPUT:result, dtype: int64"
      ]
     },
     "metadata": {},
     "output_type": "display_data"
    },
    {
     "data": {
      "text/plain": [
       "no    4\n",
       "Name: OUTPUT:result, dtype: int64"
      ]
     },
     "metadata": {},
     "output_type": "display_data"
    },
    {
     "data": {
      "text/plain": [
       "no    3\n",
       "Name: OUTPUT:result, dtype: int64"
      ]
     },
     "metadata": {},
     "output_type": "display_data"
    },
    {
     "data": {
      "text/plain": [
       "no    3\n",
       "Name: OUTPUT:result, dtype: int64"
      ]
     },
     "metadata": {},
     "output_type": "display_data"
    },
    {
     "data": {
      "text/plain": [
       "no    3\n",
       "Name: OUTPUT:result, dtype: int64"
      ]
     },
     "metadata": {},
     "output_type": "display_data"
    },
    {
     "data": {
      "text/plain": [
       "no    3\n",
       "Name: OUTPUT:result, dtype: int64"
      ]
     },
     "metadata": {},
     "output_type": "display_data"
    },
    {
     "data": {
      "text/plain": [
       "no    3\n",
       "Name: OUTPUT:result, dtype: int64"
      ]
     },
     "metadata": {},
     "output_type": "display_data"
    },
    {
     "data": {
      "text/plain": [
       "no    3\n",
       "Name: OUTPUT:result, dtype: int64"
      ]
     },
     "metadata": {},
     "output_type": "display_data"
    },
    {
     "data": {
      "text/plain": [
       "no    5\n",
       "Name: OUTPUT:result, dtype: int64"
      ]
     },
     "metadata": {},
     "output_type": "display_data"
    },
    {
     "data": {
      "text/plain": [
       "no    3\n",
       "Name: OUTPUT:result, dtype: int64"
      ]
     },
     "metadata": {},
     "output_type": "display_data"
    },
    {
     "data": {
      "text/plain": [
       "no    3\n",
       "Name: OUTPUT:result, dtype: int64"
      ]
     },
     "metadata": {},
     "output_type": "display_data"
    },
    {
     "data": {
      "text/plain": [
       "no    3\n",
       "Name: OUTPUT:result, dtype: int64"
      ]
     },
     "metadata": {},
     "output_type": "display_data"
    },
    {
     "data": {
      "text/plain": [
       "no    3\n",
       "Name: OUTPUT:result, dtype: int64"
      ]
     },
     "metadata": {},
     "output_type": "display_data"
    },
    {
     "data": {
      "text/plain": [
       "no    3\n",
       "Name: OUTPUT:result, dtype: int64"
      ]
     },
     "metadata": {},
     "output_type": "display_data"
    },
    {
     "data": {
      "text/plain": [
       "no    3\n",
       "Name: OUTPUT:result, dtype: int64"
      ]
     },
     "metadata": {},
     "output_type": "display_data"
    },
    {
     "data": {
      "text/plain": [
       "no    3\n",
       "Name: OUTPUT:result, dtype: int64"
      ]
     },
     "metadata": {},
     "output_type": "display_data"
    },
    {
     "data": {
      "text/plain": [
       "no    3\n",
       "Name: OUTPUT:result, dtype: int64"
      ]
     },
     "metadata": {},
     "output_type": "display_data"
    },
    {
     "data": {
      "text/plain": [
       "no    3\n",
       "Name: OUTPUT:result, dtype: int64"
      ]
     },
     "metadata": {},
     "output_type": "display_data"
    },
    {
     "data": {
      "text/plain": [
       "no    6\n",
       "Name: OUTPUT:result, dtype: int64"
      ]
     },
     "metadata": {},
     "output_type": "display_data"
    },
    {
     "data": {
      "text/plain": [
       "no    3\n",
       "Name: OUTPUT:result, dtype: int64"
      ]
     },
     "metadata": {},
     "output_type": "display_data"
    },
    {
     "data": {
      "text/plain": [
       "no    3\n",
       "Name: OUTPUT:result, dtype: int64"
      ]
     },
     "metadata": {},
     "output_type": "display_data"
    },
    {
     "data": {
      "text/plain": [
       "no    3\n",
       "Name: OUTPUT:result, dtype: int64"
      ]
     },
     "metadata": {},
     "output_type": "display_data"
    },
    {
     "data": {
      "text/plain": [
       "no    3\n",
       "Name: OUTPUT:result, dtype: int64"
      ]
     },
     "metadata": {},
     "output_type": "display_data"
    },
    {
     "data": {
      "text/plain": [
       "no    3\n",
       "Name: OUTPUT:result, dtype: int64"
      ]
     },
     "metadata": {},
     "output_type": "display_data"
    },
    {
     "data": {
      "text/plain": [
       "no    3\n",
       "Name: OUTPUT:result, dtype: int64"
      ]
     },
     "metadata": {},
     "output_type": "display_data"
    },
    {
     "data": {
      "text/plain": [
       "no    3\n",
       "Name: OUTPUT:result, dtype: int64"
      ]
     },
     "metadata": {},
     "output_type": "display_data"
    },
    {
     "data": {
      "text/plain": [
       "main_road    3\n",
       "Name: OUTPUT:result, dtype: int64"
      ]
     },
     "metadata": {},
     "output_type": "display_data"
    },
    {
     "data": {
      "text/plain": [
       "no    3\n",
       "Name: OUTPUT:result, dtype: int64"
      ]
     },
     "metadata": {},
     "output_type": "display_data"
    },
    {
     "data": {
      "text/plain": [
       "no    3\n",
       "Name: OUTPUT:result, dtype: int64"
      ]
     },
     "metadata": {},
     "output_type": "display_data"
    },
    {
     "data": {
      "text/plain": [
       "main_road    7\n",
       "Name: OUTPUT:result, dtype: int64"
      ]
     },
     "metadata": {},
     "output_type": "display_data"
    },
    {
     "data": {
      "text/plain": [
       "no    3\n",
       "Name: OUTPUT:result, dtype: int64"
      ]
     },
     "metadata": {},
     "output_type": "display_data"
    },
    {
     "data": {
      "text/plain": [
       "main_road    3\n",
       "Name: OUTPUT:result, dtype: int64"
      ]
     },
     "metadata": {},
     "output_type": "display_data"
    },
    {
     "data": {
      "text/plain": [
       "main_road    3\n",
       "Name: OUTPUT:result, dtype: int64"
      ]
     },
     "metadata": {},
     "output_type": "display_data"
    },
    {
     "data": {
      "text/plain": [
       "main_road    3\n",
       "Name: OUTPUT:result, dtype: int64"
      ]
     },
     "metadata": {},
     "output_type": "display_data"
    },
    {
     "data": {
      "text/plain": [
       "no    3\n",
       "Name: OUTPUT:result, dtype: int64"
      ]
     },
     "metadata": {},
     "output_type": "display_data"
    },
    {
     "data": {
      "text/plain": [
       "no    3\n",
       "Name: OUTPUT:result, dtype: int64"
      ]
     },
     "metadata": {},
     "output_type": "display_data"
    },
    {
     "data": {
      "text/plain": [
       "no    3\n",
       "Name: OUTPUT:result, dtype: int64"
      ]
     },
     "metadata": {},
     "output_type": "display_data"
    },
    {
     "data": {
      "text/plain": [
       "no    3\n",
       "Name: OUTPUT:result, dtype: int64"
      ]
     },
     "metadata": {},
     "output_type": "display_data"
    },
    {
     "data": {
      "text/plain": [
       "no    3\n",
       "Name: OUTPUT:result, dtype: int64"
      ]
     },
     "metadata": {},
     "output_type": "display_data"
    },
    {
     "data": {
      "text/plain": [
       "no    3\n",
       "Name: OUTPUT:result, dtype: int64"
      ]
     },
     "metadata": {},
     "output_type": "display_data"
    },
    {
     "data": {
      "text/plain": [
       "no    3\n",
       "Name: OUTPUT:result, dtype: int64"
      ]
     },
     "metadata": {},
     "output_type": "display_data"
    },
    {
     "data": {
      "text/plain": [
       "no    3\n",
       "Name: OUTPUT:result, dtype: int64"
      ]
     },
     "metadata": {},
     "output_type": "display_data"
    },
    {
     "data": {
      "text/plain": [
       "main_road    3\n",
       "Name: OUTPUT:result, dtype: int64"
      ]
     },
     "metadata": {},
     "output_type": "display_data"
    },
    {
     "data": {
      "text/plain": [
       "no    3\n",
       "Name: OUTPUT:result, dtype: int64"
      ]
     },
     "metadata": {},
     "output_type": "display_data"
    },
    {
     "data": {
      "text/plain": [
       "no    3\n",
       "Name: OUTPUT:result, dtype: int64"
      ]
     },
     "metadata": {},
     "output_type": "display_data"
    },
    {
     "data": {
      "text/plain": [
       "no    3\n",
       "Name: OUTPUT:result, dtype: int64"
      ]
     },
     "metadata": {},
     "output_type": "display_data"
    },
    {
     "data": {
      "text/plain": [
       "no    3\n",
       "Name: OUTPUT:result, dtype: int64"
      ]
     },
     "metadata": {},
     "output_type": "display_data"
    },
    {
     "data": {
      "text/plain": [
       "no    3\n",
       "Name: OUTPUT:result, dtype: int64"
      ]
     },
     "metadata": {},
     "output_type": "display_data"
    },
    {
     "data": {
      "text/plain": [
       "no    3\n",
       "Name: OUTPUT:result, dtype: int64"
      ]
     },
     "metadata": {},
     "output_type": "display_data"
    },
    {
     "data": {
      "text/plain": [
       "no    3\n",
       "Name: OUTPUT:result, dtype: int64"
      ]
     },
     "metadata": {},
     "output_type": "display_data"
    },
    {
     "data": {
      "text/plain": [
       "main_road    3\n",
       "Name: OUTPUT:result, dtype: int64"
      ]
     },
     "metadata": {},
     "output_type": "display_data"
    },
    {
     "data": {
      "text/plain": [
       "no    3\n",
       "Name: OUTPUT:result, dtype: int64"
      ]
     },
     "metadata": {},
     "output_type": "display_data"
    },
    {
     "data": {
      "text/plain": [
       "no    3\n",
       "Name: OUTPUT:result, dtype: int64"
      ]
     },
     "metadata": {},
     "output_type": "display_data"
    },
    {
     "data": {
      "text/plain": [
       "no    4\n",
       "Name: OUTPUT:result, dtype: int64"
      ]
     },
     "metadata": {},
     "output_type": "display_data"
    },
    {
     "data": {
      "text/plain": [
       "main_road    3\n",
       "Name: OUTPUT:result, dtype: int64"
      ]
     },
     "metadata": {},
     "output_type": "display_data"
    },
    {
     "data": {
      "text/plain": [
       "no    3\n",
       "Name: OUTPUT:result, dtype: int64"
      ]
     },
     "metadata": {},
     "output_type": "display_data"
    },
    {
     "data": {
      "text/plain": [
       "no    3\n",
       "Name: OUTPUT:result, dtype: int64"
      ]
     },
     "metadata": {},
     "output_type": "display_data"
    },
    {
     "data": {
      "text/plain": [
       "no    3\n",
       "Name: OUTPUT:result, dtype: int64"
      ]
     },
     "metadata": {},
     "output_type": "display_data"
    },
    {
     "data": {
      "text/plain": [
       "main_road    3\n",
       "Name: OUTPUT:result, dtype: int64"
      ]
     },
     "metadata": {},
     "output_type": "display_data"
    },
    {
     "data": {
      "text/plain": [
       "no    9\n",
       "Name: OUTPUT:result, dtype: int64"
      ]
     },
     "metadata": {},
     "output_type": "display_data"
    },
    {
     "data": {
      "text/plain": [
       "no    3\n",
       "Name: OUTPUT:result, dtype: int64"
      ]
     },
     "metadata": {},
     "output_type": "display_data"
    },
    {
     "data": {
      "text/plain": [
       "main_road    3\n",
       "Name: OUTPUT:result, dtype: int64"
      ]
     },
     "metadata": {},
     "output_type": "display_data"
    },
    {
     "data": {
      "text/plain": [
       "no    3\n",
       "Name: OUTPUT:result, dtype: int64"
      ]
     },
     "metadata": {},
     "output_type": "display_data"
    },
    {
     "data": {
      "text/plain": [
       "no    3\n",
       "Name: OUTPUT:result, dtype: int64"
      ]
     },
     "metadata": {},
     "output_type": "display_data"
    },
    {
     "data": {
      "text/plain": [
       "no    3\n",
       "Name: OUTPUT:result, dtype: int64"
      ]
     },
     "metadata": {},
     "output_type": "display_data"
    },
    {
     "data": {
      "text/plain": [
       "main_road    3\n",
       "Name: OUTPUT:result, dtype: int64"
      ]
     },
     "metadata": {},
     "output_type": "display_data"
    },
    {
     "data": {
      "text/plain": [
       "main_road    3\n",
       "Name: OUTPUT:result, dtype: int64"
      ]
     },
     "metadata": {},
     "output_type": "display_data"
    },
    {
     "data": {
      "text/plain": [
       "no    3\n",
       "Name: OUTPUT:result, dtype: int64"
      ]
     },
     "metadata": {},
     "output_type": "display_data"
    },
    {
     "data": {
      "text/plain": [
       "no    3\n",
       "Name: OUTPUT:result, dtype: int64"
      ]
     },
     "metadata": {},
     "output_type": "display_data"
    },
    {
     "data": {
      "text/plain": [
       "no    3\n",
       "Name: OUTPUT:result, dtype: int64"
      ]
     },
     "metadata": {},
     "output_type": "display_data"
    },
    {
     "data": {
      "text/plain": [
       "main_road    3\n",
       "Name: OUTPUT:result, dtype: int64"
      ]
     },
     "metadata": {},
     "output_type": "display_data"
    },
    {
     "data": {
      "text/plain": [
       "no    3\n",
       "Name: OUTPUT:result, dtype: int64"
      ]
     },
     "metadata": {},
     "output_type": "display_data"
    },
    {
     "data": {
      "text/plain": [
       "no    3\n",
       "Name: OUTPUT:result, dtype: int64"
      ]
     },
     "metadata": {},
     "output_type": "display_data"
    },
    {
     "data": {
      "text/plain": [
       "no    3\n",
       "Name: OUTPUT:result, dtype: int64"
      ]
     },
     "metadata": {},
     "output_type": "display_data"
    },
    {
     "data": {
      "text/plain": [
       "main_road    3\n",
       "Name: OUTPUT:result, dtype: int64"
      ]
     },
     "metadata": {},
     "output_type": "display_data"
    },
    {
     "data": {
      "text/plain": [
       "no    3\n",
       "Name: OUTPUT:result, dtype: int64"
      ]
     },
     "metadata": {},
     "output_type": "display_data"
    },
    {
     "data": {
      "text/plain": [
       "main_road    3\n",
       "Name: OUTPUT:result, dtype: int64"
      ]
     },
     "metadata": {},
     "output_type": "display_data"
    },
    {
     "data": {
      "text/plain": [
       "main_road    3\n",
       "Name: OUTPUT:result, dtype: int64"
      ]
     },
     "metadata": {},
     "output_type": "display_data"
    },
    {
     "data": {
      "text/plain": [
       "no    3\n",
       "Name: OUTPUT:result, dtype: int64"
      ]
     },
     "metadata": {},
     "output_type": "display_data"
    },
    {
     "data": {
      "text/plain": [
       "no    3\n",
       "Name: OUTPUT:result, dtype: int64"
      ]
     },
     "metadata": {},
     "output_type": "display_data"
    },
    {
     "data": {
      "text/plain": [
       "main_road    3\n",
       "Name: OUTPUT:result, dtype: int64"
      ]
     },
     "metadata": {},
     "output_type": "display_data"
    },
    {
     "data": {
      "text/plain": [
       "no    3\n",
       "Name: OUTPUT:result, dtype: int64"
      ]
     },
     "metadata": {},
     "output_type": "display_data"
    },
    {
     "data": {
      "text/plain": [
       "main_road    3\n",
       "Name: OUTPUT:result, dtype: int64"
      ]
     },
     "metadata": {},
     "output_type": "display_data"
    },
    {
     "data": {
      "text/plain": [
       "no    3\n",
       "Name: OUTPUT:result, dtype: int64"
      ]
     },
     "metadata": {},
     "output_type": "display_data"
    },
    {
     "data": {
      "text/plain": [
       "no    3\n",
       "Name: OUTPUT:result, dtype: int64"
      ]
     },
     "metadata": {},
     "output_type": "display_data"
    },
    {
     "data": {
      "text/plain": [
       "no    3\n",
       "Name: OUTPUT:result, dtype: int64"
      ]
     },
     "metadata": {},
     "output_type": "display_data"
    },
    {
     "data": {
      "text/plain": [
       "main_road    3\n",
       "Name: OUTPUT:result, dtype: int64"
      ]
     },
     "metadata": {},
     "output_type": "display_data"
    },
    {
     "data": {
      "text/plain": [
       "main_road    3\n",
       "Name: OUTPUT:result, dtype: int64"
      ]
     },
     "metadata": {},
     "output_type": "display_data"
    },
    {
     "data": {
      "text/plain": [
       "no    3\n",
       "Name: OUTPUT:result, dtype: int64"
      ]
     },
     "metadata": {},
     "output_type": "display_data"
    },
    {
     "data": {
      "text/plain": [
       "no    3\n",
       "Name: OUTPUT:result, dtype: int64"
      ]
     },
     "metadata": {},
     "output_type": "display_data"
    },
    {
     "data": {
      "text/plain": [
       "no    3\n",
       "Name: OUTPUT:result, dtype: int64"
      ]
     },
     "metadata": {},
     "output_type": "display_data"
    },
    {
     "data": {
      "text/plain": [
       "no    3\n",
       "Name: OUTPUT:result, dtype: int64"
      ]
     },
     "metadata": {},
     "output_type": "display_data"
    },
    {
     "data": {
      "text/plain": [
       "no    3\n",
       "Name: OUTPUT:result, dtype: int64"
      ]
     },
     "metadata": {},
     "output_type": "display_data"
    },
    {
     "data": {
      "text/plain": [
       "no    3\n",
       "Name: OUTPUT:result, dtype: int64"
      ]
     },
     "metadata": {},
     "output_type": "display_data"
    },
    {
     "data": {
      "text/plain": [
       "no    3\n",
       "Name: OUTPUT:result, dtype: int64"
      ]
     },
     "metadata": {},
     "output_type": "display_data"
    },
    {
     "data": {
      "text/plain": [
       "main_road    4\n",
       "Name: OUTPUT:result, dtype: int64"
      ]
     },
     "metadata": {},
     "output_type": "display_data"
    },
    {
     "data": {
      "text/plain": [
       "no    3\n",
       "Name: OUTPUT:result, dtype: int64"
      ]
     },
     "metadata": {},
     "output_type": "display_data"
    },
    {
     "data": {
      "text/plain": [
       "no    3\n",
       "Name: OUTPUT:result, dtype: int64"
      ]
     },
     "metadata": {},
     "output_type": "display_data"
    },
    {
     "data": {
      "text/plain": [
       "no    3\n",
       "Name: OUTPUT:result, dtype: int64"
      ]
     },
     "metadata": {},
     "output_type": "display_data"
    },
    {
     "data": {
      "text/plain": [
       "no    3\n",
       "Name: OUTPUT:result, dtype: int64"
      ]
     },
     "metadata": {},
     "output_type": "display_data"
    },
    {
     "data": {
      "text/plain": [
       "no    3\n",
       "Name: OUTPUT:result, dtype: int64"
      ]
     },
     "metadata": {},
     "output_type": "display_data"
    },
    {
     "data": {
      "text/plain": [
       "main_road    3\n",
       "Name: OUTPUT:result, dtype: int64"
      ]
     },
     "metadata": {},
     "output_type": "display_data"
    },
    {
     "data": {
      "text/plain": [
       "no    3\n",
       "Name: OUTPUT:result, dtype: int64"
      ]
     },
     "metadata": {},
     "output_type": "display_data"
    },
    {
     "data": {
      "text/plain": [
       "no    3\n",
       "Name: OUTPUT:result, dtype: int64"
      ]
     },
     "metadata": {},
     "output_type": "display_data"
    },
    {
     "data": {
      "text/plain": [
       "no    3\n",
       "Name: OUTPUT:result, dtype: int64"
      ]
     },
     "metadata": {},
     "output_type": "display_data"
    },
    {
     "data": {
      "text/plain": [
       "no    3\n",
       "Name: OUTPUT:result, dtype: int64"
      ]
     },
     "metadata": {},
     "output_type": "display_data"
    },
    {
     "data": {
      "text/plain": [
       "no    3\n",
       "Name: OUTPUT:result, dtype: int64"
      ]
     },
     "metadata": {},
     "output_type": "display_data"
    },
    {
     "data": {
      "text/plain": [
       "no    3\n",
       "Name: OUTPUT:result, dtype: int64"
      ]
     },
     "metadata": {},
     "output_type": "display_data"
    },
    {
     "data": {
      "text/plain": [
       "no    3\n",
       "Name: OUTPUT:result, dtype: int64"
      ]
     },
     "metadata": {},
     "output_type": "display_data"
    },
    {
     "data": {
      "text/plain": [
       "no    3\n",
       "Name: OUTPUT:result, dtype: int64"
      ]
     },
     "metadata": {},
     "output_type": "display_data"
    },
    {
     "data": {
      "text/plain": [
       "main_road    3\n",
       "Name: OUTPUT:result, dtype: int64"
      ]
     },
     "metadata": {},
     "output_type": "display_data"
    },
    {
     "data": {
      "text/plain": [
       "no    3\n",
       "Name: OUTPUT:result, dtype: int64"
      ]
     },
     "metadata": {},
     "output_type": "display_data"
    },
    {
     "data": {
      "text/plain": [
       "no    3\n",
       "Name: OUTPUT:result, dtype: int64"
      ]
     },
     "metadata": {},
     "output_type": "display_data"
    },
    {
     "data": {
      "text/plain": [
       "main_road    3\n",
       "Name: OUTPUT:result, dtype: int64"
      ]
     },
     "metadata": {},
     "output_type": "display_data"
    },
    {
     "data": {
      "text/plain": [
       "no    3\n",
       "Name: OUTPUT:result, dtype: int64"
      ]
     },
     "metadata": {},
     "output_type": "display_data"
    },
    {
     "data": {
      "text/plain": [
       "no    3\n",
       "Name: OUTPUT:result, dtype: int64"
      ]
     },
     "metadata": {},
     "output_type": "display_data"
    },
    {
     "data": {
      "text/plain": [
       "no    3\n",
       "Name: OUTPUT:result, dtype: int64"
      ]
     },
     "metadata": {},
     "output_type": "display_data"
    },
    {
     "data": {
      "text/plain": [
       "no    3\n",
       "Name: OUTPUT:result, dtype: int64"
      ]
     },
     "metadata": {},
     "output_type": "display_data"
    },
    {
     "data": {
      "text/plain": [
       "no    3\n",
       "Name: OUTPUT:result, dtype: int64"
      ]
     },
     "metadata": {},
     "output_type": "display_data"
    },
    {
     "data": {
      "text/plain": [
       "main_road    3\n",
       "Name: OUTPUT:result, dtype: int64"
      ]
     },
     "metadata": {},
     "output_type": "display_data"
    },
    {
     "data": {
      "text/plain": [
       "no    3\n",
       "Name: OUTPUT:result, dtype: int64"
      ]
     },
     "metadata": {},
     "output_type": "display_data"
    },
    {
     "data": {
      "text/plain": [
       "no    3\n",
       "Name: OUTPUT:result, dtype: int64"
      ]
     },
     "metadata": {},
     "output_type": "display_data"
    },
    {
     "data": {
      "text/plain": [
       "no    3\n",
       "Name: OUTPUT:result, dtype: int64"
      ]
     },
     "metadata": {},
     "output_type": "display_data"
    },
    {
     "data": {
      "text/plain": [
       "main_road    3\n",
       "Name: OUTPUT:result, dtype: int64"
      ]
     },
     "metadata": {},
     "output_type": "display_data"
    },
    {
     "data": {
      "text/plain": [
       "no    3\n",
       "Name: OUTPUT:result, dtype: int64"
      ]
     },
     "metadata": {},
     "output_type": "display_data"
    },
    {
     "data": {
      "text/plain": [
       "no    3\n",
       "Name: OUTPUT:result, dtype: int64"
      ]
     },
     "metadata": {},
     "output_type": "display_data"
    },
    {
     "data": {
      "text/plain": [
       "no    3\n",
       "Name: OUTPUT:result, dtype: int64"
      ]
     },
     "metadata": {},
     "output_type": "display_data"
    },
    {
     "data": {
      "text/plain": [
       "main_road    3\n",
       "Name: OUTPUT:result, dtype: int64"
      ]
     },
     "metadata": {},
     "output_type": "display_data"
    },
    {
     "data": {
      "text/plain": [
       "no    3\n",
       "Name: OUTPUT:result, dtype: int64"
      ]
     },
     "metadata": {},
     "output_type": "display_data"
    },
    {
     "data": {
      "text/plain": [
       "no    3\n",
       "Name: OUTPUT:result, dtype: int64"
      ]
     },
     "metadata": {},
     "output_type": "display_data"
    },
    {
     "data": {
      "text/plain": [
       "no    3\n",
       "Name: OUTPUT:result, dtype: int64"
      ]
     },
     "metadata": {},
     "output_type": "display_data"
    },
    {
     "data": {
      "text/plain": [
       "no    3\n",
       "Name: OUTPUT:result, dtype: int64"
      ]
     },
     "metadata": {},
     "output_type": "display_data"
    },
    {
     "data": {
      "text/plain": [
       "no    3\n",
       "Name: OUTPUT:result, dtype: int64"
      ]
     },
     "metadata": {},
     "output_type": "display_data"
    },
    {
     "data": {
      "text/plain": [
       "no    3\n",
       "Name: OUTPUT:result, dtype: int64"
      ]
     },
     "metadata": {},
     "output_type": "display_data"
    },
    {
     "data": {
      "text/plain": [
       "no    3\n",
       "Name: OUTPUT:result, dtype: int64"
      ]
     },
     "metadata": {},
     "output_type": "display_data"
    },
    {
     "data": {
      "text/plain": [
       "no    3\n",
       "Name: OUTPUT:result, dtype: int64"
      ]
     },
     "metadata": {},
     "output_type": "display_data"
    },
    {
     "data": {
      "text/plain": [
       "no    3\n",
       "Name: OUTPUT:result, dtype: int64"
      ]
     },
     "metadata": {},
     "output_type": "display_data"
    },
    {
     "data": {
      "text/plain": [
       "no    3\n",
       "Name: OUTPUT:result, dtype: int64"
      ]
     },
     "metadata": {},
     "output_type": "display_data"
    },
    {
     "data": {
      "text/plain": [
       "no    3\n",
       "Name: OUTPUT:result, dtype: int64"
      ]
     },
     "metadata": {},
     "output_type": "display_data"
    },
    {
     "data": {
      "text/plain": [
       "no    3\n",
       "Name: OUTPUT:result, dtype: int64"
      ]
     },
     "metadata": {},
     "output_type": "display_data"
    },
    {
     "data": {
      "text/plain": [
       "no    3\n",
       "Name: OUTPUT:result, dtype: int64"
      ]
     },
     "metadata": {},
     "output_type": "display_data"
    },
    {
     "data": {
      "text/plain": [
       "no    3\n",
       "Name: OUTPUT:result, dtype: int64"
      ]
     },
     "metadata": {},
     "output_type": "display_data"
    },
    {
     "data": {
      "text/plain": [
       "no    3\n",
       "Name: OUTPUT:result, dtype: int64"
      ]
     },
     "metadata": {},
     "output_type": "display_data"
    },
    {
     "data": {
      "text/plain": [
       "no    3\n",
       "Name: OUTPUT:result, dtype: int64"
      ]
     },
     "metadata": {},
     "output_type": "display_data"
    },
    {
     "data": {
      "text/plain": [
       "no    3\n",
       "Name: OUTPUT:result, dtype: int64"
      ]
     },
     "metadata": {},
     "output_type": "display_data"
    },
    {
     "data": {
      "text/plain": [
       "no    3\n",
       "Name: OUTPUT:result, dtype: int64"
      ]
     },
     "metadata": {},
     "output_type": "display_data"
    },
    {
     "data": {
      "text/plain": [
       "no    3\n",
       "Name: OUTPUT:result, dtype: int64"
      ]
     },
     "metadata": {},
     "output_type": "display_data"
    },
    {
     "data": {
      "text/plain": [
       "no    3\n",
       "Name: OUTPUT:result, dtype: int64"
      ]
     },
     "metadata": {},
     "output_type": "display_data"
    },
    {
     "data": {
      "text/plain": [
       "no    3\n",
       "Name: OUTPUT:result, dtype: int64"
      ]
     },
     "metadata": {},
     "output_type": "display_data"
    },
    {
     "data": {
      "text/plain": [
       "main_road    3\n",
       "Name: OUTPUT:result, dtype: int64"
      ]
     },
     "metadata": {},
     "output_type": "display_data"
    },
    {
     "data": {
      "text/plain": [
       "no    3\n",
       "Name: OUTPUT:result, dtype: int64"
      ]
     },
     "metadata": {},
     "output_type": "display_data"
    },
    {
     "data": {
      "text/plain": [
       "no    3\n",
       "Name: OUTPUT:result, dtype: int64"
      ]
     },
     "metadata": {},
     "output_type": "display_data"
    },
    {
     "data": {
      "text/plain": [
       "no    3\n",
       "Name: OUTPUT:result, dtype: int64"
      ]
     },
     "metadata": {},
     "output_type": "display_data"
    },
    {
     "data": {
      "text/plain": [
       "main_road    3\n",
       "Name: OUTPUT:result, dtype: int64"
      ]
     },
     "metadata": {},
     "output_type": "display_data"
    },
    {
     "data": {
      "text/plain": [
       "no    3\n",
       "Name: OUTPUT:result, dtype: int64"
      ]
     },
     "metadata": {},
     "output_type": "display_data"
    },
    {
     "data": {
      "text/plain": [
       "main_road    3\n",
       "Name: OUTPUT:result, dtype: int64"
      ]
     },
     "metadata": {},
     "output_type": "display_data"
    },
    {
     "data": {
      "text/plain": [
       "no    3\n",
       "Name: OUTPUT:result, dtype: int64"
      ]
     },
     "metadata": {},
     "output_type": "display_data"
    },
    {
     "data": {
      "text/plain": [
       "main_road    3\n",
       "Name: OUTPUT:result, dtype: int64"
      ]
     },
     "metadata": {},
     "output_type": "display_data"
    },
    {
     "data": {
      "text/plain": [
       "no    4\n",
       "Name: OUTPUT:result, dtype: int64"
      ]
     },
     "metadata": {},
     "output_type": "display_data"
    },
    {
     "data": {
      "text/plain": [
       "no    3\n",
       "Name: OUTPUT:result, dtype: int64"
      ]
     },
     "metadata": {},
     "output_type": "display_data"
    },
    {
     "data": {
      "text/plain": [
       "main_road    3\n",
       "Name: OUTPUT:result, dtype: int64"
      ]
     },
     "metadata": {},
     "output_type": "display_data"
    },
    {
     "data": {
      "text/plain": [
       "no    3\n",
       "Name: OUTPUT:result, dtype: int64"
      ]
     },
     "metadata": {},
     "output_type": "display_data"
    },
    {
     "data": {
      "text/plain": [
       "no    3\n",
       "Name: OUTPUT:result, dtype: int64"
      ]
     },
     "metadata": {},
     "output_type": "display_data"
    },
    {
     "data": {
      "text/plain": [
       "no    3\n",
       "Name: OUTPUT:result, dtype: int64"
      ]
     },
     "metadata": {},
     "output_type": "display_data"
    },
    {
     "data": {
      "text/plain": [
       "no    3\n",
       "Name: OUTPUT:result, dtype: int64"
      ]
     },
     "metadata": {},
     "output_type": "display_data"
    },
    {
     "data": {
      "text/plain": [
       "no    3\n",
       "Name: OUTPUT:result, dtype: int64"
      ]
     },
     "metadata": {},
     "output_type": "display_data"
    },
    {
     "data": {
      "text/plain": [
       "no    3\n",
       "Name: OUTPUT:result, dtype: int64"
      ]
     },
     "metadata": {},
     "output_type": "display_data"
    },
    {
     "data": {
      "text/plain": [
       "no    3\n",
       "Name: OUTPUT:result, dtype: int64"
      ]
     },
     "metadata": {},
     "output_type": "display_data"
    },
    {
     "data": {
      "text/plain": [
       "no    3\n",
       "Name: OUTPUT:result, dtype: int64"
      ]
     },
     "metadata": {},
     "output_type": "display_data"
    },
    {
     "data": {
      "text/plain": [
       "no    3\n",
       "Name: OUTPUT:result, dtype: int64"
      ]
     },
     "metadata": {},
     "output_type": "display_data"
    },
    {
     "data": {
      "text/plain": [
       "no    3\n",
       "Name: OUTPUT:result, dtype: int64"
      ]
     },
     "metadata": {},
     "output_type": "display_data"
    },
    {
     "data": {
      "text/plain": [
       "no    3\n",
       "Name: OUTPUT:result, dtype: int64"
      ]
     },
     "metadata": {},
     "output_type": "display_data"
    },
    {
     "data": {
      "text/plain": [
       "no    3\n",
       "Name: OUTPUT:result, dtype: int64"
      ]
     },
     "metadata": {},
     "output_type": "display_data"
    },
    {
     "data": {
      "text/plain": [
       "no    3\n",
       "Name: OUTPUT:result, dtype: int64"
      ]
     },
     "metadata": {},
     "output_type": "display_data"
    },
    {
     "data": {
      "text/plain": [
       "main_road    3\n",
       "Name: OUTPUT:result, dtype: int64"
      ]
     },
     "metadata": {},
     "output_type": "display_data"
    },
    {
     "data": {
      "text/plain": [
       "main_road    3\n",
       "Name: OUTPUT:result, dtype: int64"
      ]
     },
     "metadata": {},
     "output_type": "display_data"
    },
    {
     "data": {
      "text/plain": [
       "main_road    3\n",
       "Name: OUTPUT:result, dtype: int64"
      ]
     },
     "metadata": {},
     "output_type": "display_data"
    },
    {
     "data": {
      "text/plain": [
       "main_road    3\n",
       "Name: OUTPUT:result, dtype: int64"
      ]
     },
     "metadata": {},
     "output_type": "display_data"
    },
    {
     "data": {
      "text/plain": [
       "no    3\n",
       "Name: OUTPUT:result, dtype: int64"
      ]
     },
     "metadata": {},
     "output_type": "display_data"
    },
    {
     "data": {
      "text/plain": [
       "no    3\n",
       "Name: OUTPUT:result, dtype: int64"
      ]
     },
     "metadata": {},
     "output_type": "display_data"
    },
    {
     "data": {
      "text/plain": [
       "no    3\n",
       "Name: OUTPUT:result, dtype: int64"
      ]
     },
     "metadata": {},
     "output_type": "display_data"
    },
    {
     "data": {
      "text/plain": [
       "no    3\n",
       "Name: OUTPUT:result, dtype: int64"
      ]
     },
     "metadata": {},
     "output_type": "display_data"
    },
    {
     "data": {
      "text/plain": [
       "no    3\n",
       "Name: OUTPUT:result, dtype: int64"
      ]
     },
     "metadata": {},
     "output_type": "display_data"
    },
    {
     "data": {
      "text/plain": [
       "main_road    3\n",
       "Name: OUTPUT:result, dtype: int64"
      ]
     },
     "metadata": {},
     "output_type": "display_data"
    },
    {
     "data": {
      "text/plain": [
       "no    3\n",
       "Name: OUTPUT:result, dtype: int64"
      ]
     },
     "metadata": {},
     "output_type": "display_data"
    },
    {
     "data": {
      "text/plain": [
       "no    1\n",
       "Name: OUTPUT:result, dtype: int64"
      ]
     },
     "metadata": {},
     "output_type": "display_data"
    },
    {
     "data": {
      "text/plain": [
       "no    3\n",
       "Name: OUTPUT:result, dtype: int64"
      ]
     },
     "metadata": {},
     "output_type": "display_data"
    },
    {
     "data": {
      "text/plain": [
       "no    3\n",
       "Name: OUTPUT:result, dtype: int64"
      ]
     },
     "metadata": {},
     "output_type": "display_data"
    },
    {
     "data": {
      "text/plain": [
       "no    3\n",
       "Name: OUTPUT:result, dtype: int64"
      ]
     },
     "metadata": {},
     "output_type": "display_data"
    },
    {
     "data": {
      "text/plain": [
       "no    3\n",
       "Name: OUTPUT:result, dtype: int64"
      ]
     },
     "metadata": {},
     "output_type": "display_data"
    },
    {
     "data": {
      "text/plain": [
       "no    3\n",
       "Name: OUTPUT:result, dtype: int64"
      ]
     },
     "metadata": {},
     "output_type": "display_data"
    },
    {
     "data": {
      "text/plain": [
       "main_road    3\n",
       "Name: OUTPUT:result, dtype: int64"
      ]
     },
     "metadata": {},
     "output_type": "display_data"
    },
    {
     "data": {
      "text/plain": [
       "no    3\n",
       "Name: OUTPUT:result, dtype: int64"
      ]
     },
     "metadata": {},
     "output_type": "display_data"
    },
    {
     "data": {
      "text/plain": [
       "no    3\n",
       "Name: OUTPUT:result, dtype: int64"
      ]
     },
     "metadata": {},
     "output_type": "display_data"
    },
    {
     "data": {
      "text/plain": [
       "no    3\n",
       "Name: OUTPUT:result, dtype: int64"
      ]
     },
     "metadata": {},
     "output_type": "display_data"
    },
    {
     "data": {
      "text/plain": [
       "no    3\n",
       "Name: OUTPUT:result, dtype: int64"
      ]
     },
     "metadata": {},
     "output_type": "display_data"
    },
    {
     "data": {
      "text/plain": [
       "no    3\n",
       "Name: OUTPUT:result, dtype: int64"
      ]
     },
     "metadata": {},
     "output_type": "display_data"
    },
    {
     "data": {
      "text/plain": [
       "no    3\n",
       "Name: OUTPUT:result, dtype: int64"
      ]
     },
     "metadata": {},
     "output_type": "display_data"
    },
    {
     "data": {
      "text/plain": [
       "no    3\n",
       "Name: OUTPUT:result, dtype: int64"
      ]
     },
     "metadata": {},
     "output_type": "display_data"
    },
    {
     "data": {
      "text/plain": [
       "no    3\n",
       "Name: OUTPUT:result, dtype: int64"
      ]
     },
     "metadata": {},
     "output_type": "display_data"
    },
    {
     "data": {
      "text/plain": [
       "no    3\n",
       "Name: OUTPUT:result, dtype: int64"
      ]
     },
     "metadata": {},
     "output_type": "display_data"
    },
    {
     "data": {
      "text/plain": [
       "no    3\n",
       "Name: OUTPUT:result, dtype: int64"
      ]
     },
     "metadata": {},
     "output_type": "display_data"
    },
    {
     "data": {
      "text/plain": [
       "no    3\n",
       "Name: OUTPUT:result, dtype: int64"
      ]
     },
     "metadata": {},
     "output_type": "display_data"
    },
    {
     "data": {
      "text/plain": [
       "no    3\n",
       "Name: OUTPUT:result, dtype: int64"
      ]
     },
     "metadata": {},
     "output_type": "display_data"
    },
    {
     "data": {
      "text/plain": [
       "main_road    3\n",
       "Name: OUTPUT:result, dtype: int64"
      ]
     },
     "metadata": {},
     "output_type": "display_data"
    },
    {
     "data": {
      "text/plain": [
       "no    3\n",
       "Name: OUTPUT:result, dtype: int64"
      ]
     },
     "metadata": {},
     "output_type": "display_data"
    },
    {
     "data": {
      "text/plain": [
       "no    3\n",
       "Name: OUTPUT:result, dtype: int64"
      ]
     },
     "metadata": {},
     "output_type": "display_data"
    },
    {
     "data": {
      "text/plain": [
       "no    3\n",
       "Name: OUTPUT:result, dtype: int64"
      ]
     },
     "metadata": {},
     "output_type": "display_data"
    },
    {
     "data": {
      "text/plain": [
       "no    3\n",
       "Name: OUTPUT:result, dtype: int64"
      ]
     },
     "metadata": {},
     "output_type": "display_data"
    },
    {
     "data": {
      "text/plain": [
       "no    3\n",
       "Name: OUTPUT:result, dtype: int64"
      ]
     },
     "metadata": {},
     "output_type": "display_data"
    },
    {
     "data": {
      "text/plain": [
       "no    3\n",
       "Name: OUTPUT:result, dtype: int64"
      ]
     },
     "metadata": {},
     "output_type": "display_data"
    },
    {
     "data": {
      "text/plain": [
       "no    3\n",
       "Name: OUTPUT:result, dtype: int64"
      ]
     },
     "metadata": {},
     "output_type": "display_data"
    },
    {
     "data": {
      "text/plain": [
       "main_road    3\n",
       "Name: OUTPUT:result, dtype: int64"
      ]
     },
     "metadata": {},
     "output_type": "display_data"
    },
    {
     "data": {
      "text/plain": [
       "main_road    3\n",
       "Name: OUTPUT:result, dtype: int64"
      ]
     },
     "metadata": {},
     "output_type": "display_data"
    },
    {
     "data": {
      "text/plain": [
       "no    3\n",
       "Name: OUTPUT:result, dtype: int64"
      ]
     },
     "metadata": {},
     "output_type": "display_data"
    },
    {
     "data": {
      "text/plain": [
       "no    3\n",
       "Name: OUTPUT:result, dtype: int64"
      ]
     },
     "metadata": {},
     "output_type": "display_data"
    },
    {
     "data": {
      "text/plain": [
       "main_road    3\n",
       "Name: OUTPUT:result, dtype: int64"
      ]
     },
     "metadata": {},
     "output_type": "display_data"
    },
    {
     "data": {
      "text/plain": [
       "no    3\n",
       "Name: OUTPUT:result, dtype: int64"
      ]
     },
     "metadata": {},
     "output_type": "display_data"
    },
    {
     "data": {
      "text/plain": [
       "main_road    3\n",
       "Name: OUTPUT:result, dtype: int64"
      ]
     },
     "metadata": {},
     "output_type": "display_data"
    },
    {
     "data": {
      "text/plain": [
       "no    3\n",
       "Name: OUTPUT:result, dtype: int64"
      ]
     },
     "metadata": {},
     "output_type": "display_data"
    },
    {
     "data": {
      "text/plain": [
       "main_road    3\n",
       "Name: OUTPUT:result, dtype: int64"
      ]
     },
     "metadata": {},
     "output_type": "display_data"
    },
    {
     "data": {
      "text/plain": [
       "no    3\n",
       "Name: OUTPUT:result, dtype: int64"
      ]
     },
     "metadata": {},
     "output_type": "display_data"
    },
    {
     "data": {
      "text/plain": [
       "main_road    3\n",
       "Name: OUTPUT:result, dtype: int64"
      ]
     },
     "metadata": {},
     "output_type": "display_data"
    },
    {
     "data": {
      "text/plain": [
       "no    3\n",
       "Name: OUTPUT:result, dtype: int64"
      ]
     },
     "metadata": {},
     "output_type": "display_data"
    },
    {
     "data": {
      "text/plain": [
       "no    3\n",
       "Name: OUTPUT:result, dtype: int64"
      ]
     },
     "metadata": {},
     "output_type": "display_data"
    },
    {
     "data": {
      "text/plain": [
       "no    3\n",
       "Name: OUTPUT:result, dtype: int64"
      ]
     },
     "metadata": {},
     "output_type": "display_data"
    },
    {
     "data": {
      "text/plain": [
       "main_road    3\n",
       "Name: OUTPUT:result, dtype: int64"
      ]
     },
     "metadata": {},
     "output_type": "display_data"
    },
    {
     "data": {
      "text/plain": [
       "no    3\n",
       "Name: OUTPUT:result, dtype: int64"
      ]
     },
     "metadata": {},
     "output_type": "display_data"
    }
   ],
   "source": [
    "#Считаем результат по большинству ответов толокеров по каждой задаче, записываем в словарь w. Задача 'INPUT:image' и 'OUTPUT:result'\n",
    "w = {}\n",
    "N = 0\n",
    "for i in df['INPUT:image'].unique():\n",
    "    N += 1\n",
    "    #print(N, i)\n",
    "    display(df[df['INPUT:image']== i]['OUTPUT:result'].value_counts())\n",
    "    w[i] = df[df['INPUT:image']== i]['OUTPUT:result'].value_counts().index[0]\n",
    "    #if df[df['INPUT:image']== i]['OUTPUT:result'].value_counts()[0] != 3:\n",
    "    #    break"
   ]
  },
  {
   "cell_type": "code",
   "execution_count": 10,
   "id": "f716b36a",
   "metadata": {},
   "outputs": [],
   "source": [
    "#w\n"
   ]
  },
  {
   "cell_type": "code",
   "execution_count": 11,
   "id": "264df9f7",
   "metadata": {},
   "outputs": [],
   "source": [
    "# Создаем df2 без перекрытия \n",
    "df2 = df[['INPUT:image','INPUT:label', 'label']].drop_duplicates()"
   ]
  },
  {
   "cell_type": "code",
   "execution_count": 12,
   "id": "e8f63673",
   "metadata": {},
   "outputs": [],
   "source": [
    "# в df2 создаем столбец с разметкой толокеров, по большинству из словаря w\n",
    "df2['tolokers'] =df2['INPUT:image'].map(w)\n"
   ]
  },
  {
   "cell_type": "code",
   "execution_count": 13,
   "id": "dcfd9574",
   "metadata": {},
   "outputs": [
    {
     "data": {
      "text/plain": [
       "no - no                  200\n",
       "main_road - main_road     50\n",
       "dtype: int64"
      ]
     },
     "execution_count": 13,
     "metadata": {},
     "output_type": "execute_result"
    }
   ],
   "source": [
    "# Считаем TP, TN, FP, FN (по всем уникальным задачам, используя большинство) \n",
    "(df2['label'] +' - '+ df2['tolokers']).value_counts()"
   ]
  },
  {
   "cell_type": "code",
   "execution_count": 14,
   "id": "75a896ef",
   "metadata": {},
   "outputs": [
    {
     "name": "stdout",
     "output_type": "stream",
     "text": [
      "TP 50\n",
      "TN 200\n",
      "FP 0\n",
      "FN 0\n"
     ]
    }
   ],
   "source": [
    "\n",
    "TP = df2[(df2['label'] == 'main_road') & (df2['tolokers'] == 'main_road')].count()[0]\n",
    "TN = df2[(df2['label'] == 'no') & (df2['tolokers'] == 'no')].count()[0]\n",
    "FN = df2[(df2['label'] == 'main_road') & (df2['tolokers'] == 'no')].count()[0]\n",
    "FP = df2[(df2['label'] == 'no') & (df2['tolokers'] == 'main_road')].count()[0]\n",
    "print('TP', TP)\n",
    "print('TN', TN)\n",
    "print('FP', FP)\n",
    "print('FN', FN)"
   ]
  },
  {
   "cell_type": "code",
   "execution_count": 15,
   "id": "09778ef5",
   "metadata": {},
   "outputs": [
    {
     "name": "stdout",
     "output_type": "stream",
     "text": [
      "Accuracy 1.0\n",
      "TPR 1.0\n",
      "FPR 0.0\n",
      "ROC_AUC 1.0\n"
     ]
    }
   ],
   "source": [
    "Accuracy = (TP + TN) / (TP + TN + FP + FN)\n",
    "Accuracy\n",
    "TPR = TP / (TP + FN)\n",
    "FPR = FP / (FP + TN)\n",
    "ROC_AUC = (1 + TPR - FPR)/2\n",
    "print(\"Accuracy\", Accuracy)\n",
    "print('TPR', TPR)\n",
    "print('FPR', FPR)\n",
    "print('ROC_AUC', ROC_AUC)"
   ]
  },
  {
   "cell_type": "code",
   "execution_count": 16,
   "id": "3139b0f8",
   "metadata": {},
   "outputs": [
    {
     "data": {
      "text/html": [
       "<div>\n",
       "<style scoped>\n",
       "    .dataframe tbody tr th:only-of-type {\n",
       "        vertical-align: middle;\n",
       "    }\n",
       "\n",
       "    .dataframe tbody tr th {\n",
       "        vertical-align: top;\n",
       "    }\n",
       "\n",
       "    .dataframe thead th {\n",
       "        text-align: right;\n",
       "    }\n",
       "</style>\n",
       "<table border=\"1\" class=\"dataframe\">\n",
       "  <thead>\n",
       "    <tr style=\"text-align: right;\">\n",
       "      <th></th>\n",
       "      <th>INPUT:image</th>\n",
       "      <th>INPUT:label</th>\n",
       "      <th>label</th>\n",
       "      <th>tolokers</th>\n",
       "    </tr>\n",
       "  </thead>\n",
       "  <tbody>\n",
       "    <tr>\n",
       "      <th>0</th>\n",
       "      <td>http://sdcimages.s3.yandex.net/nirvana/36d9a38...</td>\n",
       "      <td>pedestrian</td>\n",
       "      <td>no</td>\n",
       "      <td>no</td>\n",
       "    </tr>\n",
       "    <tr>\n",
       "      <th>1</th>\n",
       "      <td>http://sdcimages.s3.yandex.net/nirvana/a7f2827...</td>\n",
       "      <td>no_stop</td>\n",
       "      <td>no</td>\n",
       "      <td>no</td>\n",
       "    </tr>\n",
       "    <tr>\n",
       "      <th>2</th>\n",
       "      <td>http://sdcimages.s3.yandex.net/nirvana/b4fec07...</td>\n",
       "      <td>bus_stop</td>\n",
       "      <td>no</td>\n",
       "      <td>no</td>\n",
       "    </tr>\n",
       "    <tr>\n",
       "      <th>3</th>\n",
       "      <td>http://sdcimages.s3.yandex.net/nirvana/2eff6bd...</td>\n",
       "      <td>bus_stop</td>\n",
       "      <td>no</td>\n",
       "      <td>no</td>\n",
       "    </tr>\n",
       "    <tr>\n",
       "      <th>4</th>\n",
       "      <td>http://sdcimages.s3.yandex.net/nirvana/edd3911...</td>\n",
       "      <td>main_road</td>\n",
       "      <td>main_road</td>\n",
       "      <td>main_road</td>\n",
       "    </tr>\n",
       "    <tr>\n",
       "      <th>...</th>\n",
       "      <td>...</td>\n",
       "      <td>...</td>\n",
       "      <td>...</td>\n",
       "      <td>...</td>\n",
       "    </tr>\n",
       "    <tr>\n",
       "      <th>684</th>\n",
       "      <td>http://sdcimages.s3.yandex.net/nirvana/8fd5dbf...</td>\n",
       "      <td>pedestrian</td>\n",
       "      <td>no</td>\n",
       "      <td>no</td>\n",
       "    </tr>\n",
       "    <tr>\n",
       "      <th>688</th>\n",
       "      <td>http://sdcimages.s3.yandex.net/nirvana/8eda6e8...</td>\n",
       "      <td>pedestrian</td>\n",
       "      <td>no</td>\n",
       "      <td>no</td>\n",
       "    </tr>\n",
       "    <tr>\n",
       "      <th>691</th>\n",
       "      <td>http://sdcimages.s3.yandex.net/nirvana/dfa6fde...</td>\n",
       "      <td>pedestrian</td>\n",
       "      <td>no</td>\n",
       "      <td>no</td>\n",
       "    </tr>\n",
       "    <tr>\n",
       "      <th>705</th>\n",
       "      <td>http://sdcimages.s3.yandex.net/nirvana/bb9a4be...</td>\n",
       "      <td>main_road</td>\n",
       "      <td>main_road</td>\n",
       "      <td>main_road</td>\n",
       "    </tr>\n",
       "    <tr>\n",
       "      <th>714</th>\n",
       "      <td>http://sdcimages.s3.yandex.net/nirvana/226c88a...</td>\n",
       "      <td>bus_stop</td>\n",
       "      <td>no</td>\n",
       "      <td>no</td>\n",
       "    </tr>\n",
       "  </tbody>\n",
       "</table>\n",
       "<p>250 rows × 4 columns</p>\n",
       "</div>"
      ],
      "text/plain": [
       "                                           INPUT:image INPUT:label      label  \\\n",
       "0    http://sdcimages.s3.yandex.net/nirvana/36d9a38...  pedestrian         no   \n",
       "1    http://sdcimages.s3.yandex.net/nirvana/a7f2827...     no_stop         no   \n",
       "2    http://sdcimages.s3.yandex.net/nirvana/b4fec07...    bus_stop         no   \n",
       "3    http://sdcimages.s3.yandex.net/nirvana/2eff6bd...    bus_stop         no   \n",
       "4    http://sdcimages.s3.yandex.net/nirvana/edd3911...   main_road  main_road   \n",
       "..                                                 ...         ...        ...   \n",
       "684  http://sdcimages.s3.yandex.net/nirvana/8fd5dbf...  pedestrian         no   \n",
       "688  http://sdcimages.s3.yandex.net/nirvana/8eda6e8...  pedestrian         no   \n",
       "691  http://sdcimages.s3.yandex.net/nirvana/dfa6fde...  pedestrian         no   \n",
       "705  http://sdcimages.s3.yandex.net/nirvana/bb9a4be...   main_road  main_road   \n",
       "714  http://sdcimages.s3.yandex.net/nirvana/226c88a...    bus_stop         no   \n",
       "\n",
       "      tolokers  \n",
       "0           no  \n",
       "1           no  \n",
       "2           no  \n",
       "3           no  \n",
       "4    main_road  \n",
       "..         ...  \n",
       "684         no  \n",
       "688         no  \n",
       "691         no  \n",
       "705  main_road  \n",
       "714         no  \n",
       "\n",
       "[250 rows x 4 columns]"
      ]
     },
     "execution_count": 16,
     "metadata": {},
     "output_type": "execute_result"
    }
   ],
   "source": [
    "df_main = "
   ]
  },
  {
   "cell_type": "code",
   "execution_count": null,
   "id": "9909905e",
   "metadata": {},
   "outputs": [],
   "source": []
  }
 ],
 "metadata": {
  "kernelspec": {
   "display_name": "Python 3 (ipykernel)",
   "language": "python",
   "name": "python3"
  },
  "language_info": {
   "codemirror_mode": {
    "name": "ipython",
    "version": 3
   },
   "file_extension": ".py",
   "mimetype": "text/x-python",
   "name": "python",
   "nbconvert_exporter": "python",
   "pygments_lexer": "ipython3",
   "version": "3.9.13"
  }
 },
 "nbformat": 4,
 "nbformat_minor": 5
}

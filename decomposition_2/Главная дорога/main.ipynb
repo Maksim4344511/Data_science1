{
 "cells": [
  {
   "cell_type": "code",
   "execution_count": 1,
   "id": "b4d2f172",
   "metadata": {},
   "outputs": [],
   "source": [
    "import pandas as pd\n",
    "\n",
    "%matplotlib inline\n",
    "import matplotlib.pyplot as plt\n",
    "import seaborn as sns\n",
    "import plotly.graph_objs as go\n",
    "import numpy as np\n",
    "from pandas import read_excel"
   ]
  },
  {
   "cell_type": "code",
   "execution_count": 2,
   "id": "fc0a5ee0",
   "metadata": {},
   "outputs": [],
   "source": [
    "df = pd.read_csv('./assignments_from_pool_main.tsv', sep=\"\\t\")\n"
   ]
  },
  {
   "cell_type": "code",
   "execution_count": 3,
   "id": "d6f230f7",
   "metadata": {},
   "outputs": [],
   "source": [
    "df = df.drop(columns=['GOLDEN:result', 'HINT:text', 'HINT:default_language'])\n"
   ]
  },
  {
   "cell_type": "code",
   "execution_count": 4,
   "id": "fa76ee05",
   "metadata": {},
   "outputs": [
    {
     "name": "stdout",
     "output_type": "stream",
     "text": [
      "<class 'pandas.core.frame.DataFrame'>\n",
      "RangeIndex: 769 entries, 0 to 768\n",
      "Data columns (total 5 columns):\n",
      " #   Column                Non-Null Count  Dtype \n",
      "---  ------                --------------  ----- \n",
      " 0   INPUT:image           769 non-null    object\n",
      " 1   INPUT:label           769 non-null    object\n",
      " 2   INPUT:task-id         769 non-null    int64 \n",
      " 3   OUTPUT:result         769 non-null    object\n",
      " 4   ASSIGNMENT:worker_id  769 non-null    object\n",
      "dtypes: int64(1), object(4)\n",
      "memory usage: 30.2+ KB\n"
     ]
    }
   ],
   "source": [
    "df.info()\n",
    "\n"
   ]
  },
  {
   "cell_type": "code",
   "execution_count": 5,
   "id": "c9c49a83",
   "metadata": {},
   "outputs": [
    {
     "data": {
      "text/html": [
       "<div>\n",
       "<style scoped>\n",
       "    .dataframe tbody tr th:only-of-type {\n",
       "        vertical-align: middle;\n",
       "    }\n",
       "\n",
       "    .dataframe tbody tr th {\n",
       "        vertical-align: top;\n",
       "    }\n",
       "\n",
       "    .dataframe thead th {\n",
       "        text-align: right;\n",
       "    }\n",
       "</style>\n",
       "<table border=\"1\" class=\"dataframe\">\n",
       "  <thead>\n",
       "    <tr style=\"text-align: right;\">\n",
       "      <th></th>\n",
       "      <th>INPUT:image</th>\n",
       "      <th>INPUT:label</th>\n",
       "      <th>INPUT:task-id</th>\n",
       "      <th>OUTPUT:result</th>\n",
       "      <th>ASSIGNMENT:worker_id</th>\n",
       "    </tr>\n",
       "  </thead>\n",
       "  <tbody>\n",
       "    <tr>\n",
       "      <th>0</th>\n",
       "      <td>http://sdcimages.s3.yandex.net/nirvana/36d9a38...</td>\n",
       "      <td>pedestrian</td>\n",
       "      <td>50</td>\n",
       "      <td>no</td>\n",
       "      <td>e9f266c9eebbe14c5118539bb7ca2772</td>\n",
       "    </tr>\n",
       "    <tr>\n",
       "      <th>1</th>\n",
       "      <td>http://sdcimages.s3.yandex.net/nirvana/a7f2827...</td>\n",
       "      <td>no_stop</td>\n",
       "      <td>150</td>\n",
       "      <td>no</td>\n",
       "      <td>e9f266c9eebbe14c5118539bb7ca2772</td>\n",
       "    </tr>\n",
       "    <tr>\n",
       "      <th>2</th>\n",
       "      <td>http://sdcimages.s3.yandex.net/nirvana/b4fec07...</td>\n",
       "      <td>bus_stop</td>\n",
       "      <td>63</td>\n",
       "      <td>no</td>\n",
       "      <td>e9f266c9eebbe14c5118539bb7ca2772</td>\n",
       "    </tr>\n",
       "    <tr>\n",
       "      <th>3</th>\n",
       "      <td>http://sdcimages.s3.yandex.net/nirvana/2eff6bd...</td>\n",
       "      <td>bus_stop</td>\n",
       "      <td>62</td>\n",
       "      <td>no</td>\n",
       "      <td>e9f266c9eebbe14c5118539bb7ca2772</td>\n",
       "    </tr>\n",
       "    <tr>\n",
       "      <th>4</th>\n",
       "      <td>http://sdcimages.s3.yandex.net/nirvana/edd3911...</td>\n",
       "      <td>main_road</td>\n",
       "      <td>194</td>\n",
       "      <td>main_road</td>\n",
       "      <td>e9f266c9eebbe14c5118539bb7ca2772</td>\n",
       "    </tr>\n",
       "  </tbody>\n",
       "</table>\n",
       "</div>"
      ],
      "text/plain": [
       "                                         INPUT:image INPUT:label  \\\n",
       "0  http://sdcimages.s3.yandex.net/nirvana/36d9a38...  pedestrian   \n",
       "1  http://sdcimages.s3.yandex.net/nirvana/a7f2827...     no_stop   \n",
       "2  http://sdcimages.s3.yandex.net/nirvana/b4fec07...    bus_stop   \n",
       "3  http://sdcimages.s3.yandex.net/nirvana/2eff6bd...    bus_stop   \n",
       "4  http://sdcimages.s3.yandex.net/nirvana/edd3911...   main_road   \n",
       "\n",
       "   INPUT:task-id OUTPUT:result              ASSIGNMENT:worker_id  \n",
       "0             50            no  e9f266c9eebbe14c5118539bb7ca2772  \n",
       "1            150            no  e9f266c9eebbe14c5118539bb7ca2772  \n",
       "2             63            no  e9f266c9eebbe14c5118539bb7ca2772  \n",
       "3             62            no  e9f266c9eebbe14c5118539bb7ca2772  \n",
       "4            194     main_road  e9f266c9eebbe14c5118539bb7ca2772  "
      ]
     },
     "execution_count": 5,
     "metadata": {},
     "output_type": "execute_result"
    }
   ],
   "source": [
    " df.head()"
   ]
  },
  {
   "cell_type": "code",
   "execution_count": 6,
   "id": "782a9cf4",
   "metadata": {},
   "outputs": [],
   "source": [
    "#Создаю столбец с подсчетом ошибок, где правильный ответ главная дорога\n",
    "x =df[df['INPUT:label'] == 'main_road']\n",
    "x = x.fillna(0)\n",
    "def f(row):\n",
    "    if row['INPUT:label'] == row['OUTPUT:result']:\n",
    "        val = 0\n",
    "    else:\n",
    "        val = 1\n",
    "    return val\n",
    "\n",
    "x['result'] = x.apply(f, axis=1)"
   ]
  },
  {
   "cell_type": "code",
   "execution_count": 7,
   "id": "2f23957b",
   "metadata": {},
   "outputs": [
    {
     "data": {
      "text/plain": [
       "0"
      ]
     },
     "execution_count": 7,
     "metadata": {},
     "output_type": "execute_result"
    }
   ],
   "source": [
    "# кол-во ошибок\n",
    "x['result'].sum()"
   ]
  },
  {
   "cell_type": "code",
   "execution_count": 8,
   "id": "bb3863d0",
   "metadata": {},
   "outputs": [
    {
     "data": {
      "text/html": [
       "<div>\n",
       "<style scoped>\n",
       "    .dataframe tbody tr th:only-of-type {\n",
       "        vertical-align: middle;\n",
       "    }\n",
       "\n",
       "    .dataframe tbody tr th {\n",
       "        vertical-align: top;\n",
       "    }\n",
       "\n",
       "    .dataframe thead th {\n",
       "        text-align: right;\n",
       "    }\n",
       "</style>\n",
       "<table border=\"1\" class=\"dataframe\">\n",
       "  <thead>\n",
       "    <tr style=\"text-align: right;\">\n",
       "      <th></th>\n",
       "      <th>INPUT:image</th>\n",
       "      <th>INPUT:label</th>\n",
       "      <th>INPUT:task-id</th>\n",
       "      <th>OUTPUT:result</th>\n",
       "      <th>ASSIGNMENT:worker_id</th>\n",
       "      <th>result</th>\n",
       "    </tr>\n",
       "  </thead>\n",
       "  <tbody>\n",
       "    <tr>\n",
       "      <th>4</th>\n",
       "      <td>http://sdcimages.s3.yandex.net/nirvana/edd3911...</td>\n",
       "      <td>main_road</td>\n",
       "      <td>194</td>\n",
       "      <td>main_road</td>\n",
       "      <td>e9f266c9eebbe14c5118539bb7ca2772</td>\n",
       "      <td>0</td>\n",
       "    </tr>\n",
       "    <tr>\n",
       "      <th>8</th>\n",
       "      <td>http://sdcimages.s3.yandex.net/nirvana/71bf468...</td>\n",
       "      <td>main_road</td>\n",
       "      <td>165</td>\n",
       "      <td>main_road</td>\n",
       "      <td>e9f266c9eebbe14c5118539bb7ca2772</td>\n",
       "      <td>0</td>\n",
       "    </tr>\n",
       "    <tr>\n",
       "      <th>17</th>\n",
       "      <td>http://sdcimages.s3.yandex.net/nirvana/edd3911...</td>\n",
       "      <td>main_road</td>\n",
       "      <td>194</td>\n",
       "      <td>main_road</td>\n",
       "      <td>284099af39be0b0a501dc316834d0aa8</td>\n",
       "      <td>0</td>\n",
       "    </tr>\n",
       "    <tr>\n",
       "      <th>21</th>\n",
       "      <td>http://sdcimages.s3.yandex.net/nirvana/f349861...</td>\n",
       "      <td>main_road</td>\n",
       "      <td>191</td>\n",
       "      <td>main_road</td>\n",
       "      <td>284099af39be0b0a501dc316834d0aa8</td>\n",
       "      <td>0</td>\n",
       "    </tr>\n",
       "    <tr>\n",
       "      <th>22</th>\n",
       "      <td>http://sdcimages.s3.yandex.net/nirvana/eccbddf...</td>\n",
       "      <td>main_road</td>\n",
       "      <td>187</td>\n",
       "      <td>main_road</td>\n",
       "      <td>284099af39be0b0a501dc316834d0aa8</td>\n",
       "      <td>0</td>\n",
       "    </tr>\n",
       "  </tbody>\n",
       "</table>\n",
       "</div>"
      ],
      "text/plain": [
       "                                          INPUT:image INPUT:label  \\\n",
       "4   http://sdcimages.s3.yandex.net/nirvana/edd3911...   main_road   \n",
       "8   http://sdcimages.s3.yandex.net/nirvana/71bf468...   main_road   \n",
       "17  http://sdcimages.s3.yandex.net/nirvana/edd3911...   main_road   \n",
       "21  http://sdcimages.s3.yandex.net/nirvana/f349861...   main_road   \n",
       "22  http://sdcimages.s3.yandex.net/nirvana/eccbddf...   main_road   \n",
       "\n",
       "    INPUT:task-id OUTPUT:result              ASSIGNMENT:worker_id  result  \n",
       "4             194     main_road  e9f266c9eebbe14c5118539bb7ca2772       0  \n",
       "8             165     main_road  e9f266c9eebbe14c5118539bb7ca2772       0  \n",
       "17            194     main_road  284099af39be0b0a501dc316834d0aa8       0  \n",
       "21            191     main_road  284099af39be0b0a501dc316834d0aa8       0  \n",
       "22            187     main_road  284099af39be0b0a501dc316834d0aa8       0  "
      ]
     },
     "execution_count": 8,
     "metadata": {},
     "output_type": "execute_result"
    }
   ],
   "source": [
    "x.head()"
   ]
  },
  {
   "cell_type": "code",
   "execution_count": null,
   "id": "4a572f28",
   "metadata": {},
   "outputs": [],
   "source": []
  },
  {
   "cell_type": "code",
   "execution_count": 18,
   "id": "b8874068",
   "metadata": {},
   "outputs": [
    {
     "name": "stdout",
     "output_type": "stream",
     "text": [
      "INPUT:image             155\n",
      "INPUT:label             155\n",
      "INPUT:task-id           155\n",
      "OUTPUT:result           155\n",
      "ASSIGNMENT:worker_id    155\n",
      "dtype: int64 INPUT:image             155\n",
      "INPUT:label             155\n",
      "INPUT:task-id           155\n",
      "OUTPUT:result           155\n",
      "ASSIGNMENT:worker_id    155\n",
      "dtype: int64 INPUT:image             True\n",
      "INPUT:label             True\n",
      "INPUT:task-id           True\n",
      "OUTPUT:result           True\n",
      "ASSIGNMENT:worker_id    True\n",
      "dtype: bool\n"
     ]
    }
   ],
   "source": [
    "# Проверяю, что количество ответов \"main_road\" совпадает с количеством правильных ответов\n",
    "ans = df[df['OUTPUT:result'] == 'main_road'].count()\n",
    "label = df[df['INPUT:label'] == 'main_road'].count()\n",
    "print(ans, label, ans == label)"
   ]
  },
  {
   "cell_type": "code",
   "execution_count": 10,
   "id": "fa1d3f36",
   "metadata": {},
   "outputs": [],
   "source": [
    "# Убираю задачи, которые толокеры уже отметили \"main_road\"\n",
    "df_task = df[(df['OUTPUT:result'] != 'main_road')]"
   ]
  },
  {
   "cell_type": "code",
   "execution_count": 11,
   "id": "7d6317c0",
   "metadata": {},
   "outputs": [
    {
     "name": "stdout",
     "output_type": "stream",
     "text": [
      "(614, 5)\n"
     ]
    }
   ],
   "source": [
    "print(df_task.shape)"
   ]
  },
  {
   "cell_type": "code",
   "execution_count": 12,
   "id": "d9d27327",
   "metadata": {},
   "outputs": [],
   "source": [
    "#Убираем перекрытие\n",
    "df_task = df_task.drop_duplicates(subset=['INPUT:image'])"
   ]
  },
  {
   "cell_type": "code",
   "execution_count": 13,
   "id": "fb0d4a43",
   "metadata": {},
   "outputs": [],
   "source": [
    "#убираем лишние столбцы\n",
    "df_task = df_task.drop(columns=['OUTPUT:result', 'ASSIGNMENT:worker_id'])"
   ]
  },
  {
   "cell_type": "code",
   "execution_count": 14,
   "id": "1cf3ba7a",
   "metadata": {},
   "outputs": [
    {
     "name": "stdout",
     "output_type": "stream",
     "text": [
      "(200, 3)\n"
     ]
    }
   ],
   "source": [
    "print(df_task.shape)"
   ]
  },
  {
   "cell_type": "code",
   "execution_count": 15,
   "id": "d76b7185",
   "metadata": {},
   "outputs": [],
   "source": [
    "#сохранения в tsv\n",
    "df_task.to_csv('task_2.csv', sep=\"\\t\", index=False)"
   ]
  },
  {
   "cell_type": "code",
   "execution_count": 16,
   "id": "8380f68f",
   "metadata": {},
   "outputs": [],
   "source": [
    "#сохранения в xlsx\n",
    "df.to_excel('./task_2.xlsx')"
   ]
  },
  {
   "cell_type": "code",
   "execution_count": null,
   "id": "563e6e42",
   "metadata": {},
   "outputs": [],
   "source": []
  },
  {
   "cell_type": "code",
   "execution_count": null,
   "id": "9a228161",
   "metadata": {},
   "outputs": [],
   "source": []
  },
  {
   "cell_type": "code",
   "execution_count": null,
   "id": "08634183",
   "metadata": {},
   "outputs": [],
   "source": []
  }
 ],
 "metadata": {
  "kernelspec": {
   "display_name": "Python 3 (ipykernel)",
   "language": "python",
   "name": "python3"
  },
  "language_info": {
   "codemirror_mode": {
    "name": "ipython",
    "version": 3
   },
   "file_extension": ".py",
   "mimetype": "text/x-python",
   "name": "python",
   "nbconvert_exporter": "python",
   "pygments_lexer": "ipython3",
   "version": "3.9.13"
  }
 },
 "nbformat": 4,
 "nbformat_minor": 5
}

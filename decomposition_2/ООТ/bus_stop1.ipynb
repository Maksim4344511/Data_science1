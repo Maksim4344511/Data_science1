{
 "cells": [
  {
   "cell_type": "code",
   "execution_count": 1,
   "id": "b4d2f172",
   "metadata": {},
   "outputs": [],
   "source": [
    "import pandas as pd\n",
    "\n",
    "%matplotlib inline\n",
    "import matplotlib.pyplot as plt\n",
    "import seaborn as sns\n",
    "import plotly.graph_objs as go\n",
    "import numpy as np\n",
    "from pandas import read_excel\n",
    "\n",
    "\n",
    "import pandas as pd\n",
    "import matplotlib.pyplot as plt\n",
    "from matplotlib.pylab import rc, plot\n",
    "import seaborn as sns\n",
    "from sklearn.preprocessing import LabelEncoder, OneHotEncoder\n",
    "from sklearn.model_selection import cross_val_score\n",
    "from sklearn.linear_model import LogisticRegression\n",
    "from sklearn.ensemble import RandomForestClassifier, GradientBoostingClassifier\n",
    "from sklearn.metrics import precision_recall_curve, classification_report\n",
    "from sklearn.model_selection import train_test_split"
   ]
  },
  {
   "cell_type": "code",
   "execution_count": 2,
   "id": "fc0a5ee0",
   "metadata": {},
   "outputs": [],
   "source": [
    "df = pd.read_csv('./assignments_from_pool_bus_stop.tsv', sep=\"\\t\")\n"
   ]
  },
  {
   "cell_type": "code",
   "execution_count": 3,
   "id": "d6f230f7",
   "metadata": {},
   "outputs": [],
   "source": [
    "df = df.drop(columns=['GOLDEN:result', 'HINT:text', 'HINT:default_language'])"
   ]
  },
  {
   "cell_type": "code",
   "execution_count": 4,
   "id": "fa76ee05",
   "metadata": {},
   "outputs": [],
   "source": [
    "# Словарь для значений правильных ответов, меняем все кроме 'main_road' на \"no\"\n",
    "d = {'pedestrian':'no','main_road':'no','no_stop':'no','bus_stop':'bus_stop','give_way':'no'}\n",
    "# Заменяем правльные ответы на 'no' и 'bus_stop'\n",
    "df['label'] = df['INPUT:label'].map(d)"
   ]
  },
  {
   "cell_type": "code",
   "execution_count": 5,
   "id": "c9c49a83",
   "metadata": {},
   "outputs": [
    {
     "data": {
      "text/plain": [
       "no_no                600\n",
       "bus_stop_bus_stop    147\n",
       "bus_stop_no            3\n",
       "dtype: int64"
      ]
     },
     "execution_count": 5,
     "metadata": {},
     "output_type": "execute_result"
    }
   ],
   "source": [
    "# Считаем TP, TN, FP, FN (по всем толокерам) TP = 139, TN = 411, FP = 6  FN = 2\n",
    "(df['label'] +'_'+ df['OUTPUT:result']).value_counts()"
   ]
  },
  {
   "cell_type": "code",
   "execution_count": 6,
   "id": "53bb2231",
   "metadata": {},
   "outputs": [
    {
     "name": "stdout",
     "output_type": "stream",
     "text": [
      "TP 147\n",
      "TN 600\n",
      "FP 0\n",
      "FN 3\n"
     ]
    }
   ],
   "source": [
    "TP = df[(df['label'] == 'bus_stop') & (df['OUTPUT:result'] == 'bus_stop')].count()[0]\n",
    "TN = df[(df['label'] == 'no') & (df['OUTPUT:result'] == 'no')].count()[0]\n",
    "FN = df[(df['label'] == 'bus_stop') & (df['OUTPUT:result'] == 'no')].count()[0]\n",
    "FP = df[(df['label'] == 'no') & (df['OUTPUT:result'] == 'bus_stop')].count()[0]\n",
    "print('TP', TP)\n",
    "print('TN', TN)\n",
    "print('FP', FP)\n",
    "print('FN', FN)"
   ]
  },
  {
   "cell_type": "code",
   "execution_count": 7,
   "id": "0633485b",
   "metadata": {},
   "outputs": [
    {
     "name": "stdout",
     "output_type": "stream",
     "text": [
      "Accuracy 0.996\n",
      "TPR 0.98\n",
      "FPR 0.0\n",
      "REC_AUC 0.99\n"
     ]
    }
   ],
   "source": [
    "Accuracy = (TP + TN) / (TP + TN + FP + FN)\n",
    "Accuracy\n",
    "TPR = TP / (TP + FN)\n",
    "FPR = FP / (FP + TN)\n",
    "REC_AUC = (1 + TPR - FPR)/2\n",
    "print(\"Accuracy\", Accuracy)\n",
    "print('TPR', TPR)\n",
    "print('FPR', FPR)\n",
    "print('REC_AUC', REC_AUC)"
   ]
  },
  {
   "cell_type": "code",
   "execution_count": 8,
   "id": "d7893f2f",
   "metadata": {},
   "outputs": [],
   "source": [
    "#df.groupby('INPUT:image')"
   ]
  },
  {
   "cell_type": "code",
   "execution_count": 9,
   "id": "f870af16",
   "metadata": {},
   "outputs": [],
   "source": [
    "#Считаем результат по большинству ответов толокеров по каждой задаче, записываем в словарь w. Задача 'INPUT:image' и 'OUTPUT:result'\n",
    "w = {}\n",
    "N = 0\n",
    "for i in df['INPUT:image'].unique():\n",
    "    #N += 1\n",
    "    #print(N, i)\n",
    "    #display(df[df['INPUT:image']== i]['OUTPUT:result'].value_counts())\n",
    "    w[i] = df[df['INPUT:image']== i]['OUTPUT:result'].value_counts().index[0]\n",
    "    #if df[df['INPUT:image']== i]['OUTPUT:result'].value_counts()[0] != 3:\n",
    "    #    break"
   ]
  },
  {
   "cell_type": "code",
   "execution_count": 10,
   "id": "f716b36a",
   "metadata": {},
   "outputs": [],
   "source": [
    "#w\n"
   ]
  },
  {
   "cell_type": "code",
   "execution_count": 11,
   "id": "264df9f7",
   "metadata": {},
   "outputs": [],
   "source": [
    "# Создаем df2 без перекрытия \n",
    "df2 = df[['INPUT:image','INPUT:label', 'label']].drop_duplicates()"
   ]
  },
  {
   "cell_type": "code",
   "execution_count": 12,
   "id": "e8f63673",
   "metadata": {},
   "outputs": [],
   "source": [
    "# в df2 создаем столбец с разметкой толокеров, по большинству из словаря w\n",
    "df2['tolokers'] =df2['INPUT:image'].map(w)\n"
   ]
  },
  {
   "cell_type": "code",
   "execution_count": 13,
   "id": "b1c05d1d",
   "metadata": {},
   "outputs": [
    {
     "data": {
      "text/plain": [
       "no - no                200\n",
       "bus_stop - bus_stop     50\n",
       "dtype: int64"
      ]
     },
     "execution_count": 13,
     "metadata": {},
     "output_type": "execute_result"
    }
   ],
   "source": [
    "# Считаем TP, TN, FP, FN (по всем уникальным задачам, используя большинство) TP = 47, TN = 139, FP = 0  FN = 0\n",
    "(df2['label'] +' - '+ df2['tolokers']).value_counts()"
   ]
  },
  {
   "cell_type": "code",
   "execution_count": 14,
   "id": "0600b987",
   "metadata": {},
   "outputs": [
    {
     "name": "stdout",
     "output_type": "stream",
     "text": [
      "TP 50\n",
      "TN 200\n",
      "FP 0\n",
      "FN 0\n"
     ]
    }
   ],
   "source": [
    "\n",
    "TP = df2[(df2['label'] == 'bus_stop') & (df2['tolokers'] == 'bus_stop')].count()[0]\n",
    "TN = df2[(df2['label'] == 'no') & (df2['tolokers'] == 'no')].count()[0]\n",
    "FN = df2[(df2['label'] == 'bus_stop') & (df2['tolokers'] == 'no')].count()[0]\n",
    "FP = df2[(df2['label'] == 'no') & (df2['tolokers'] == 'bus_stop')].count()[0]\n",
    "print('TP', TP)\n",
    "print('TN', TN)\n",
    "print('FP', FP)\n",
    "print('FN', FN)"
   ]
  },
  {
   "cell_type": "code",
   "execution_count": 15,
   "id": "f81a3ecd",
   "metadata": {},
   "outputs": [
    {
     "name": "stdout",
     "output_type": "stream",
     "text": [
      "Accuracy 1.0\n",
      "TPR 1.0\n",
      "FPR 0.0\n",
      "REC_AUC 1.0\n"
     ]
    }
   ],
   "source": [
    "Accuracy = (TP + TN) / (TP + TN + FP + FN)\n",
    "Accuracy\n",
    "TPR = TP / (TP + FN)\n",
    "FPR = FP / (FP + TN)\n",
    "REC_AUC = (1 + TPR - FPR)/2\n",
    "print(\"Accuracy\", Accuracy)\n",
    "print('TPR', TPR)\n",
    "print('FPR', FPR)\n",
    "print('REC_AUC', REC_AUC)"
   ]
  },
  {
   "cell_type": "code",
   "execution_count": null,
   "id": "5c45e98d",
   "metadata": {},
   "outputs": [],
   "source": []
  }
 ],
 "metadata": {
  "kernelspec": {
   "display_name": "Python 3 (ipykernel)",
   "language": "python",
   "name": "python3"
  },
  "language_info": {
   "codemirror_mode": {
    "name": "ipython",
    "version": 3
   },
   "file_extension": ".py",
   "mimetype": "text/x-python",
   "name": "python",
   "nbconvert_exporter": "python",
   "pygments_lexer": "ipython3",
   "version": "3.9.13"
  }
 },
 "nbformat": 4,
 "nbformat_minor": 5
}

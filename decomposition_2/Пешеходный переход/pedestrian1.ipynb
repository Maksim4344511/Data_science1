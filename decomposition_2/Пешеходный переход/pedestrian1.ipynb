{
 "cells": [
  {
   "cell_type": "code",
   "execution_count": 1,
   "id": "b4d2f172",
   "metadata": {},
   "outputs": [],
   "source": [
    "import pandas as pd\n",
    "\n",
    "%matplotlib inline\n",
    "import matplotlib.pyplot as plt\n",
    "import seaborn as sns\n",
    "import plotly.graph_objs as go\n",
    "import numpy as np\n",
    "from pandas import read_excel"
   ]
  },
  {
   "cell_type": "code",
   "execution_count": 2,
   "id": "fc0a5ee0",
   "metadata": {},
   "outputs": [],
   "source": [
    "df = pd.read_csv('./assignments_from_pool_pedestrian.tsv', sep=\"\\t\")\n"
   ]
  },
  {
   "cell_type": "code",
   "execution_count": 3,
   "id": "d6f230f7",
   "metadata": {},
   "outputs": [],
   "source": [
    "df = df.drop(columns=['GOLDEN:result', 'HINT:text', 'HINT:default_language'])"
   ]
  },
  {
   "cell_type": "code",
   "execution_count": 4,
   "id": "fa76ee05",
   "metadata": {},
   "outputs": [],
   "source": [
    "# Словарь для значений правильных ответов, меняем все кроме 'no_stop' на \"no\"\n",
    "d = {'pedestrian':'pedestrian','main_road':'no','no_stop':'no','bus_stop':'no','give_way':'no'}\n",
    "# Заменяем правльные ответы на 'no' и 'give_way'\n",
    "df['label'] = df['INPUT:label'].map(d)"
   ]
  },
  {
   "cell_type": "code",
   "execution_count": 5,
   "id": "c9c49a83",
   "metadata": {},
   "outputs": [
    {
     "data": {
      "text/plain": [
       "no_no                    599\n",
       "pedestrian_pedestrian    147\n",
       "pedestrian_no              3\n",
       "no_pedestrian              1\n",
       "dtype: int64"
      ]
     },
     "execution_count": 5,
     "metadata": {},
     "output_type": "execute_result"
    }
   ],
   "source": [
    "# Считаем TP, TN, FP, FN (по всем толокерам)\n",
    "(df['label'] +'_'+ df['OUTPUT:result']).value_counts()"
   ]
  },
  {
   "cell_type": "code",
   "execution_count": 6,
   "id": "53bb2231",
   "metadata": {},
   "outputs": [
    {
     "name": "stdout",
     "output_type": "stream",
     "text": [
      "TP 147\n",
      "TN 599\n",
      "FP 1\n",
      "FN 3\n"
     ]
    }
   ],
   "source": [
    "TP = df[(df['label'] == 'pedestrian') & (df['OUTPUT:result'] == 'pedestrian')].count()[0]\n",
    "TN = df[(df['label'] == 'no') & (df['OUTPUT:result'] == 'no')].count()[0]\n",
    "FN = df[(df['label'] == 'pedestrian') & (df['OUTPUT:result'] == 'no')].count()[0]\n",
    "FP = df[(df['label'] == 'no') & (df['OUTPUT:result'] == 'pedestrian')].count()[0]\n",
    "print('TP', TP)\n",
    "print('TN', TN)\n",
    "print('FP', FP)\n",
    "print('FN', FN)"
   ]
  },
  {
   "cell_type": "code",
   "execution_count": 7,
   "id": "0633485b",
   "metadata": {},
   "outputs": [
    {
     "name": "stdout",
     "output_type": "stream",
     "text": [
      "Accuracy 0.9946666666666667\n",
      "TPR 0.98\n",
      "FPR 0.0016666666666666668\n",
      "ROC_AUC 0.9891666666666666\n"
     ]
    }
   ],
   "source": [
    "Accuracy = (TP + TN) / (TP + TN + FP + FN)\n",
    "Accuracy\n",
    "TPR = TP / (TP + FN)\n",
    "FPR = FP / (FP + TN)\n",
    "ROC_AUC = (1 + TPR - FPR)/2\n",
    "print(\"Accuracy\", Accuracy)\n",
    "print('TPR', TPR)\n",
    "print('FPR', FPR)\n",
    "print('ROC_AUC', ROC_AUC)"
   ]
  },
  {
   "cell_type": "code",
   "execution_count": 8,
   "id": "d7893f2f",
   "metadata": {},
   "outputs": [],
   "source": [
    "#df.groupby('INPUT:image')"
   ]
  },
  {
   "cell_type": "code",
   "execution_count": 9,
   "id": "f870af16",
   "metadata": {},
   "outputs": [],
   "source": [
    "#Считаем результат по большинству ответов толокеров по каждой задаче, записываем в словарь w. Задача 'INPUT:image' и 'OUTPUT:result'\n",
    "w = {}\n",
    "N = 0\n",
    "for i in df['INPUT:image'].unique():\n",
    "    N += 1\n",
    "    #print(N, i)\n",
    "    #display(df[df['INPUT:image']== i]['OUTPUT:result'].value_counts())\n",
    "    w[i] = df[df['INPUT:image']== i]['OUTPUT:result'].value_counts().index[0]\n",
    "    #if df[df['INPUT:image']== i]['OUTPUT:result'].value_counts()[0] != 3:\n",
    "    #    break"
   ]
  },
  {
   "cell_type": "code",
   "execution_count": 10,
   "id": "f716b36a",
   "metadata": {},
   "outputs": [],
   "source": [
    "#w\n"
   ]
  },
  {
   "cell_type": "code",
   "execution_count": 11,
   "id": "264df9f7",
   "metadata": {},
   "outputs": [],
   "source": [
    "# Создаем df2 без перекрытия \n",
    "df2 = df[['INPUT:image','INPUT:label', 'label']].drop_duplicates()"
   ]
  },
  {
   "cell_type": "code",
   "execution_count": 12,
   "id": "e8f63673",
   "metadata": {},
   "outputs": [],
   "source": [
    "# в df2 создаем столбец с разметкой толокеров, по большинству из словаря w\n",
    "df2['tolokers'] =df2['INPUT:image'].map(w)\n"
   ]
  },
  {
   "cell_type": "code",
   "execution_count": 13,
   "id": "dcfd9574",
   "metadata": {},
   "outputs": [
    {
     "data": {
      "text/plain": [
       "no - no                    200\n",
       "pedestrian - pedestrian     50\n",
       "dtype: int64"
      ]
     },
     "execution_count": 13,
     "metadata": {},
     "output_type": "execute_result"
    }
   ],
   "source": [
    "# Считаем TP, TN, FP, FN (по всем уникальным задачам, используя большинство) \n",
    "(df2['label'] +' - '+ df2['tolokers']).value_counts()"
   ]
  },
  {
   "cell_type": "code",
   "execution_count": 14,
   "id": "75a896ef",
   "metadata": {},
   "outputs": [
    {
     "name": "stdout",
     "output_type": "stream",
     "text": [
      "TP 50\n",
      "TN 200\n",
      "FP 0\n",
      "FN 0\n"
     ]
    }
   ],
   "source": [
    "\n",
    "TP = df2[(df2['label'] == 'pedestrian') & (df2['tolokers'] == 'pedestrian')].count()[0]\n",
    "TN = df2[(df2['label'] == 'no') & (df2['tolokers'] == 'no')].count()[0]\n",
    "FN = df2[(df2['label'] == 'pedestrian') & (df2['tolokers'] == 'no')].count()[0]\n",
    "FP = df2[(df2['label'] == 'no') & (df2['tolokers'] == 'pedestrian')].count()[0]\n",
    "print('TP', TP)\n",
    "print('TN', TN)\n",
    "print('FP', FP)\n",
    "print('FN', FN)"
   ]
  },
  {
   "cell_type": "code",
   "execution_count": 15,
   "id": "09778ef5",
   "metadata": {},
   "outputs": [
    {
     "name": "stdout",
     "output_type": "stream",
     "text": [
      "Accuracy 1.0\n",
      "TPR 1.0\n",
      "FPR 0.0\n",
      "ROC_AUC 1.0\n"
     ]
    }
   ],
   "source": [
    "Accuracy = (TP + TN) / (TP + TN + FP + FN)\n",
    "Accuracy\n",
    "TPR = TP / (TP + FN)\n",
    "FPR = FP / (FP + TN)\n",
    "ROC_AUC = (1 + TPR - FPR)/2\n",
    "print(\"Accuracy\", Accuracy)\n",
    "print('TPR', TPR)\n",
    "print('FPR', FPR)\n",
    "print('ROC_AUC', ROC_AUC)"
   ]
  },
  {
   "cell_type": "code",
   "execution_count": null,
   "id": "3139b0f8",
   "metadata": {},
   "outputs": [],
   "source": []
  }
 ],
 "metadata": {
  "kernelspec": {
   "display_name": "Python 3 (ipykernel)",
   "language": "python",
   "name": "python3"
  },
  "language_info": {
   "codemirror_mode": {
    "name": "ipython",
    "version": 3
   },
   "file_extension": ".py",
   "mimetype": "text/x-python",
   "name": "python",
   "nbconvert_exporter": "python",
   "pygments_lexer": "ipython3",
   "version": "3.9.13"
  }
 },
 "nbformat": 4,
 "nbformat_minor": 5
}

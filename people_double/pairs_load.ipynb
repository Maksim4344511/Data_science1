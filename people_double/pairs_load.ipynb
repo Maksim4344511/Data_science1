{
 "cells": [
  {
   "cell_type": "code",
   "execution_count": 1,
   "id": "b4d2f172",
   "metadata": {},
   "outputs": [],
   "source": [
    "import pandas as pd\n",
    "import numpy as np\n"
   ]
  },
  {
   "cell_type": "code",
   "execution_count": 2,
   "id": "fc0a5ee0",
   "metadata": {},
   "outputs": [],
   "source": [
    "df = pd.read_csv('./pairs.csv', sep=';')\n"
   ]
  },
  {
   "cell_type": "code",
   "execution_count": null,
   "id": "d6f230f7",
   "metadata": {},
   "outputs": [],
   "source": []
  },
  {
   "cell_type": "code",
   "execution_count": 3,
   "id": "fa76ee05",
   "metadata": {},
   "outputs": [],
   "source": [
    "df['name_pair_1'] = 'https://storage.yandexcloud.net/license-anti-spoofing/live_selfie/' + df['name_pair_1']"
   ]
  },
  {
   "cell_type": "code",
   "execution_count": 4,
   "id": "c9c49a83",
   "metadata": {},
   "outputs": [],
   "source": [
    "df['name_pair_2'] = 'https://storage.yandexcloud.net/license-anti-spoofing/live_selfie/' + df['name_pair_2']"
   ]
  },
  {
   "cell_type": "code",
   "execution_count": 5,
   "id": "782a9cf4",
   "metadata": {},
   "outputs": [
    {
     "data": {
      "text/html": [
       "<div>\n",
       "<style scoped>\n",
       "    .dataframe tbody tr th:only-of-type {\n",
       "        vertical-align: middle;\n",
       "    }\n",
       "\n",
       "    .dataframe tbody tr th {\n",
       "        vertical-align: top;\n",
       "    }\n",
       "\n",
       "    .dataframe thead th {\n",
       "        text-align: right;\n",
       "    }\n",
       "</style>\n",
       "<table border=\"1\" class=\"dataframe\">\n",
       "  <thead>\n",
       "    <tr style=\"text-align: right;\">\n",
       "      <th></th>\n",
       "      <th>name_pair_1</th>\n",
       "      <th>name_pair_2</th>\n",
       "    </tr>\n",
       "  </thead>\n",
       "  <tbody>\n",
       "    <tr>\n",
       "      <th>0</th>\n",
       "      <td>https://storage.yandexcloud.net/license-anti-s...</td>\n",
       "      <td>https://storage.yandexcloud.net/license-anti-s...</td>\n",
       "    </tr>\n",
       "    <tr>\n",
       "      <th>1</th>\n",
       "      <td>https://storage.yandexcloud.net/license-anti-s...</td>\n",
       "      <td>https://storage.yandexcloud.net/license-anti-s...</td>\n",
       "    </tr>\n",
       "    <tr>\n",
       "      <th>2</th>\n",
       "      <td>https://storage.yandexcloud.net/license-anti-s...</td>\n",
       "      <td>https://storage.yandexcloud.net/license-anti-s...</td>\n",
       "    </tr>\n",
       "    <tr>\n",
       "      <th>3</th>\n",
       "      <td>https://storage.yandexcloud.net/license-anti-s...</td>\n",
       "      <td>https://storage.yandexcloud.net/license-anti-s...</td>\n",
       "    </tr>\n",
       "    <tr>\n",
       "      <th>4</th>\n",
       "      <td>https://storage.yandexcloud.net/license-anti-s...</td>\n",
       "      <td>https://storage.yandexcloud.net/license-anti-s...</td>\n",
       "    </tr>\n",
       "    <tr>\n",
       "      <th>...</th>\n",
       "      <td>...</td>\n",
       "      <td>...</td>\n",
       "    </tr>\n",
       "    <tr>\n",
       "      <th>969</th>\n",
       "      <td>https://storage.yandexcloud.net/license-anti-s...</td>\n",
       "      <td>https://storage.yandexcloud.net/license-anti-s...</td>\n",
       "    </tr>\n",
       "    <tr>\n",
       "      <th>970</th>\n",
       "      <td>https://storage.yandexcloud.net/license-anti-s...</td>\n",
       "      <td>https://storage.yandexcloud.net/license-anti-s...</td>\n",
       "    </tr>\n",
       "    <tr>\n",
       "      <th>971</th>\n",
       "      <td>https://storage.yandexcloud.net/license-anti-s...</td>\n",
       "      <td>https://storage.yandexcloud.net/license-anti-s...</td>\n",
       "    </tr>\n",
       "    <tr>\n",
       "      <th>972</th>\n",
       "      <td>https://storage.yandexcloud.net/license-anti-s...</td>\n",
       "      <td>https://storage.yandexcloud.net/license-anti-s...</td>\n",
       "    </tr>\n",
       "    <tr>\n",
       "      <th>973</th>\n",
       "      <td>https://storage.yandexcloud.net/license-anti-s...</td>\n",
       "      <td>https://storage.yandexcloud.net/license-anti-s...</td>\n",
       "    </tr>\n",
       "  </tbody>\n",
       "</table>\n",
       "<p>974 rows × 2 columns</p>\n",
       "</div>"
      ],
      "text/plain": [
       "                                           name_pair_1  \\\n",
       "0    https://storage.yandexcloud.net/license-anti-s...   \n",
       "1    https://storage.yandexcloud.net/license-anti-s...   \n",
       "2    https://storage.yandexcloud.net/license-anti-s...   \n",
       "3    https://storage.yandexcloud.net/license-anti-s...   \n",
       "4    https://storage.yandexcloud.net/license-anti-s...   \n",
       "..                                                 ...   \n",
       "969  https://storage.yandexcloud.net/license-anti-s...   \n",
       "970  https://storage.yandexcloud.net/license-anti-s...   \n",
       "971  https://storage.yandexcloud.net/license-anti-s...   \n",
       "972  https://storage.yandexcloud.net/license-anti-s...   \n",
       "973  https://storage.yandexcloud.net/license-anti-s...   \n",
       "\n",
       "                                           name_pair_2  \n",
       "0    https://storage.yandexcloud.net/license-anti-s...  \n",
       "1    https://storage.yandexcloud.net/license-anti-s...  \n",
       "2    https://storage.yandexcloud.net/license-anti-s...  \n",
       "3    https://storage.yandexcloud.net/license-anti-s...  \n",
       "4    https://storage.yandexcloud.net/license-anti-s...  \n",
       "..                                                 ...  \n",
       "969  https://storage.yandexcloud.net/license-anti-s...  \n",
       "970  https://storage.yandexcloud.net/license-anti-s...  \n",
       "971  https://storage.yandexcloud.net/license-anti-s...  \n",
       "972  https://storage.yandexcloud.net/license-anti-s...  \n",
       "973  https://storage.yandexcloud.net/license-anti-s...  \n",
       "\n",
       "[974 rows x 2 columns]"
      ]
     },
     "execution_count": 5,
     "metadata": {},
     "output_type": "execute_result"
    }
   ],
   "source": [
    "df"
   ]
  },
  {
   "cell_type": "code",
   "execution_count": 6,
   "id": "08634183",
   "metadata": {},
   "outputs": [],
   "source": [
    "df.to_excel('./task.xlsx')"
   ]
  },
  {
   "cell_type": "code",
   "execution_count": null,
   "id": "f9cc8e0a",
   "metadata": {},
   "outputs": [],
   "source": []
  }
 ],
 "metadata": {
  "kernelspec": {
   "display_name": "Python 3 (ipykernel)",
   "language": "python",
   "name": "python3"
  },
  "language_info": {
   "codemirror_mode": {
    "name": "ipython",
    "version": 3
   },
   "file_extension": ".py",
   "mimetype": "text/x-python",
   "name": "python",
   "nbconvert_exporter": "python",
   "pygments_lexer": "ipython3",
   "version": "3.9.13"
  }
 },
 "nbformat": 4,
 "nbformat_minor": 5
}

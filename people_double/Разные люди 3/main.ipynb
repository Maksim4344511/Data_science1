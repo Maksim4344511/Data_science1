{
 "cells": [
  {
   "cell_type": "code",
   "execution_count": 1,
   "id": "7de4f22b",
   "metadata": {},
   "outputs": [],
   "source": [
    "import pandas as pd\n",
    "df = pd.read_csv('id_rnd_compare1.csv',sep = ';')"
   ]
  },
  {
   "cell_type": "code",
   "execution_count": 2,
   "id": "387a6195",
   "metadata": {},
   "outputs": [
    {
     "data": {
      "text/plain": [
       "False    35639\n",
       "True       516\n",
       "Name: id_rnd_similarity, dtype: int64"
      ]
     },
     "execution_count": 2,
     "metadata": {},
     "output_type": "execute_result"
    }
   ],
   "source": [
    "df['id_rnd_similarity'].value_counts()"
   ]
  },
  {
   "cell_type": "code",
   "execution_count": 3,
   "id": "bb2404f9",
   "metadata": {},
   "outputs": [
    {
     "data": {
      "text/plain": [
       "<AxesSubplot:>"
      ]
     },
     "execution_count": 3,
     "metadata": {},
     "output_type": "execute_result"
    },
    {
     "data": {
      "image/png": "[encoded data removed]",
      "text/plain": [
       "<Figure size 640x480 with 1 Axes>"
      ]
     },
     "metadata": {},
     "output_type": "display_data"
    }
   ],
   "source": [
    "df['id_rnd_similarity_score'][:2000].hist(bins = 30)"
   ]
  },
  {
   "cell_type": "code",
   "execution_count": 4,
   "id": "b163ae29",
   "metadata": {},
   "outputs": [
    {
     "data": {
      "text/plain": [
       "array([ True,  True,  True, ..., False, False, False])"
      ]
     },
     "execution_count": 4,
     "metadata": {},
     "output_type": "execute_result"
    }
   ],
   "source": [
    "df.index < 3000"
   ]
  },
  {
   "cell_type": "code",
   "execution_count": 5,
   "id": "b9586368",
   "metadata": {},
   "outputs": [
    {
     "data": {
      "text/html": [
       "<div>\n",
       "<style scoped>\n",
       "    .dataframe tbody tr th:only-of-type {\n",
       "        vertical-align: middle;\n",
       "    }\n",
       "\n",
       "    .dataframe tbody tr th {\n",
       "        vertical-align: top;\n",
       "    }\n",
       "\n",
       "    .dataframe thead th {\n",
       "        text-align: right;\n",
       "    }\n",
       "</style>\n",
       "<table border=\"1\" class=\"dataframe\">\n",
       "  <thead>\n",
       "    <tr style=\"text-align: right;\">\n",
       "      <th></th>\n",
       "      <th>name_pair_1</th>\n",
       "      <th>name_pair_2</th>\n",
       "      <th>id_rnd_similarity</th>\n",
       "      <th>id_rnd_similarity_score</th>\n",
       "    </tr>\n",
       "  </thead>\n",
       "  <tbody>\n",
       "    <tr>\n",
       "      <th>0</th>\n",
       "      <td>0001e96803--6229f737a9ea9b57ccd29104.jpg</td>\n",
       "      <td>0001e96803--6229f93cc72a824e5bbd6311.jpg</td>\n",
       "      <td>True</td>\n",
       "      <td>0.939298</td>\n",
       "    </tr>\n",
       "    <tr>\n",
       "      <th>1</th>\n",
       "      <td>0001e96803--62209c15326f565941d98028.jpg</td>\n",
       "      <td>0001e96803--62209cb307d635144a51e9fb.jpg</td>\n",
       "      <td>True</td>\n",
       "      <td>0.951985</td>\n",
       "    </tr>\n",
       "    <tr>\n",
       "      <th>2</th>\n",
       "      <td>0001e96803--6229f737a9ea9b57ccd29104.jpg</td>\n",
       "      <td>0001e96803--622a094a9503bf6b99093359.jpg</td>\n",
       "      <td>True</td>\n",
       "      <td>0.907294</td>\n",
       "    </tr>\n",
       "    <tr>\n",
       "      <th>3</th>\n",
       "      <td>0001e96803--63499a3888d4494ceaf08f42.jpg</td>\n",
       "      <td>0001e96803--63456e3ddd61db125822e059.jpg</td>\n",
       "      <td>True</td>\n",
       "      <td>0.935114</td>\n",
       "    </tr>\n",
       "    <tr>\n",
       "      <th>4</th>\n",
       "      <td>0001e96803--634768f46004ae67601eea2b.jpg</td>\n",
       "      <td>0001e96803--634687c2c9f9ee0f1910f2f2.jpg</td>\n",
       "      <td>True</td>\n",
       "      <td>0.932251</td>\n",
       "    </tr>\n",
       "    <tr>\n",
       "      <th>...</th>\n",
       "      <td>...</td>\n",
       "      <td>...</td>\n",
       "      <td>...</td>\n",
       "      <td>...</td>\n",
       "    </tr>\n",
       "    <tr>\n",
       "      <th>36561</th>\n",
       "      <td>0001e96803--6281ee1c0a339251c27c5d77.jpg</td>\n",
       "      <td>0001e96803--622b2672839fdc6ec44cce14.jpg</td>\n",
       "      <td>True</td>\n",
       "      <td>0.503721</td>\n",
       "    </tr>\n",
       "    <tr>\n",
       "      <th>36728</th>\n",
       "      <td>0001e96803--6241bce38f1f2072bb943e24.jpg</td>\n",
       "      <td>0001e96803--62fe2b6732fe117801056c88.jpg</td>\n",
       "      <td>False</td>\n",
       "      <td>0.463280</td>\n",
       "    </tr>\n",
       "    <tr>\n",
       "      <th>36945</th>\n",
       "      <td>0001e96803--63037767d04c025ae9e47444.jpg</td>\n",
       "      <td>0001e96803--62753a7aa371142effe1ecdd.jpg</td>\n",
       "      <td>False</td>\n",
       "      <td>0.476999</td>\n",
       "    </tr>\n",
       "    <tr>\n",
       "      <th>37036</th>\n",
       "      <td>0001e96803--6363067461871a0232dbb4e1.jpg</td>\n",
       "      <td>0001e96803--62da8510c73c7c0d30a9ff4e.jpg</td>\n",
       "      <td>False</td>\n",
       "      <td>0.460305</td>\n",
       "    </tr>\n",
       "    <tr>\n",
       "      <th>37153</th>\n",
       "      <td>0001e96803--636838bdf9f5367ffa94e6af.jpg</td>\n",
       "      <td>0001e96803--62752cf666c6597b58bc457b.jpg</td>\n",
       "      <td>True</td>\n",
       "      <td>0.554787</td>\n",
       "    </tr>\n",
       "  </tbody>\n",
       "</table>\n",
       "<p>3683 rows × 4 columns</p>\n",
       "</div>"
      ],
      "text/plain": [
       "                                    name_pair_1  \\\n",
       "0      0001e96803--6229f737a9ea9b57ccd29104.jpg   \n",
       "1      0001e96803--62209c15326f565941d98028.jpg   \n",
       "2      0001e96803--6229f737a9ea9b57ccd29104.jpg   \n",
       "3      0001e96803--63499a3888d4494ceaf08f42.jpg   \n",
       "4      0001e96803--634768f46004ae67601eea2b.jpg   \n",
       "...                                         ...   \n",
       "36561  0001e96803--6281ee1c0a339251c27c5d77.jpg   \n",
       "36728  0001e96803--6241bce38f1f2072bb943e24.jpg   \n",
       "36945  0001e96803--63037767d04c025ae9e47444.jpg   \n",
       "37036  0001e96803--6363067461871a0232dbb4e1.jpg   \n",
       "37153  0001e96803--636838bdf9f5367ffa94e6af.jpg   \n",
       "\n",
       "                                    name_pair_2 id_rnd_similarity  \\\n",
       "0      0001e96803--6229f93cc72a824e5bbd6311.jpg              True   \n",
       "1      0001e96803--62209cb307d635144a51e9fb.jpg              True   \n",
       "2      0001e96803--622a094a9503bf6b99093359.jpg              True   \n",
       "3      0001e96803--63456e3ddd61db125822e059.jpg              True   \n",
       "4      0001e96803--634687c2c9f9ee0f1910f2f2.jpg              True   \n",
       "...                                         ...               ...   \n",
       "36561  0001e96803--622b2672839fdc6ec44cce14.jpg              True   \n",
       "36728  0001e96803--62fe2b6732fe117801056c88.jpg             False   \n",
       "36945  0001e96803--62753a7aa371142effe1ecdd.jpg             False   \n",
       "37036  0001e96803--62da8510c73c7c0d30a9ff4e.jpg             False   \n",
       "37153  0001e96803--62752cf666c6597b58bc457b.jpg              True   \n",
       "\n",
       "       id_rnd_similarity_score  \n",
       "0                     0.939298  \n",
       "1                     0.951985  \n",
       "2                     0.907294  \n",
       "3                     0.935114  \n",
       "4                     0.932251  \n",
       "...                        ...  \n",
       "36561                 0.503721  \n",
       "36728                 0.463280  \n",
       "36945                 0.476999  \n",
       "37036                 0.460305  \n",
       "37153                 0.554787  \n",
       "\n",
       "[3683 rows x 4 columns]"
      ]
     },
     "execution_count": 5,
     "metadata": {},
     "output_type": "execute_result"
    }
   ],
   "source": [
    "df3 = df[(df['id_rnd_similarity_score'] > 0.45) | (df.index < 3000)]\n",
    "df3"
   ]
  },
  {
   "cell_type": "code",
   "execution_count": 6,
   "id": "ec6059a7",
   "metadata": {},
   "outputs": [],
   "source": [
    "# от сюда нужно выкинуть пары, которые уже были проверены в первой иттерации"
   ]
  },
  {
   "cell_type": "code",
   "execution_count": 7,
   "id": "5c676eb3",
   "metadata": {},
   "outputs": [],
   "source": [
    "df2 = pd.read_csv('pairs.csv',sep = ';')\n",
    "set_df2 = list(df2['name_pair_1'] + '_' + df2['name_pair_2'])"
   ]
  },
  {
   "cell_type": "code",
   "execution_count": 8,
   "id": "ac7258fa",
   "metadata": {},
   "outputs": [
    {
     "data": {
      "text/html": [
       "<div>\n",
       "<style scoped>\n",
       "    .dataframe tbody tr th:only-of-type {\n",
       "        vertical-align: middle;\n",
       "    }\n",
       "\n",
       "    .dataframe tbody tr th {\n",
       "        vertical-align: top;\n",
       "    }\n",
       "\n",
       "    .dataframe thead th {\n",
       "        text-align: right;\n",
       "    }\n",
       "</style>\n",
       "<table border=\"1\" class=\"dataframe\">\n",
       "  <thead>\n",
       "    <tr style=\"text-align: right;\">\n",
       "      <th></th>\n",
       "      <th>name_pair_1</th>\n",
       "      <th>name_pair_2</th>\n",
       "      <th>id_rnd_similarity</th>\n",
       "      <th>id_rnd_similarity_score</th>\n",
       "    </tr>\n",
       "  </thead>\n",
       "  <tbody>\n",
       "    <tr>\n",
       "      <th>974</th>\n",
       "      <td>0001e96803--63b58a5f6be44128abed3bd9.jpg</td>\n",
       "      <td>0001e96803--62c5717faefc110042a7555b.jpg</td>\n",
       "      <td>False</td>\n",
       "      <td>-0.012783</td>\n",
       "    </tr>\n",
       "    <tr>\n",
       "      <th>975</th>\n",
       "      <td>0001e96803--62e3a86fa385947eb993c4de.jpg</td>\n",
       "      <td>0001e96803--6249ba8eae75ac2e1083f693.jpg</td>\n",
       "      <td>False</td>\n",
       "      <td>0.413697</td>\n",
       "    </tr>\n",
       "    <tr>\n",
       "      <th>976</th>\n",
       "      <td>0001e96803--622464b37d71593ef0ab87ff.jpg</td>\n",
       "      <td>0001e96803--62d65fd979008a4d229f365b.jpg</td>\n",
       "      <td>False</td>\n",
       "      <td>0.435246</td>\n",
       "    </tr>\n",
       "    <tr>\n",
       "      <th>977</th>\n",
       "      <td>0001e96803--624d59ec02ca553118f93a98.jpg</td>\n",
       "      <td>0001e96803--628a17dc8ecec626c1ce95ed.jpg</td>\n",
       "      <td>False</td>\n",
       "      <td>0.341697</td>\n",
       "    </tr>\n",
       "    <tr>\n",
       "      <th>978</th>\n",
       "      <td>0001e96803--62decde562d3c5376b7fde3b.jpg</td>\n",
       "      <td>0001e96803--63062d7e0b55c35e8c676def.jpg</td>\n",
       "      <td>False</td>\n",
       "      <td>0.377260</td>\n",
       "    </tr>\n",
       "    <tr>\n",
       "      <th>...</th>\n",
       "      <td>...</td>\n",
       "      <td>...</td>\n",
       "      <td>...</td>\n",
       "      <td>...</td>\n",
       "    </tr>\n",
       "    <tr>\n",
       "      <th>36561</th>\n",
       "      <td>0001e96803--6281ee1c0a339251c27c5d77.jpg</td>\n",
       "      <td>0001e96803--622b2672839fdc6ec44cce14.jpg</td>\n",
       "      <td>True</td>\n",
       "      <td>0.503721</td>\n",
       "    </tr>\n",
       "    <tr>\n",
       "      <th>36728</th>\n",
       "      <td>0001e96803--6241bce38f1f2072bb943e24.jpg</td>\n",
       "      <td>0001e96803--62fe2b6732fe117801056c88.jpg</td>\n",
       "      <td>False</td>\n",
       "      <td>0.463280</td>\n",
       "    </tr>\n",
       "    <tr>\n",
       "      <th>36945</th>\n",
       "      <td>0001e96803--63037767d04c025ae9e47444.jpg</td>\n",
       "      <td>0001e96803--62753a7aa371142effe1ecdd.jpg</td>\n",
       "      <td>False</td>\n",
       "      <td>0.476999</td>\n",
       "    </tr>\n",
       "    <tr>\n",
       "      <th>37036</th>\n",
       "      <td>0001e96803--6363067461871a0232dbb4e1.jpg</td>\n",
       "      <td>0001e96803--62da8510c73c7c0d30a9ff4e.jpg</td>\n",
       "      <td>False</td>\n",
       "      <td>0.460305</td>\n",
       "    </tr>\n",
       "    <tr>\n",
       "      <th>37153</th>\n",
       "      <td>0001e96803--636838bdf9f5367ffa94e6af.jpg</td>\n",
       "      <td>0001e96803--62752cf666c6597b58bc457b.jpg</td>\n",
       "      <td>True</td>\n",
       "      <td>0.554787</td>\n",
       "    </tr>\n",
       "  </tbody>\n",
       "</table>\n",
       "<p>2709 rows × 4 columns</p>\n",
       "</div>"
      ],
      "text/plain": [
       "                                    name_pair_1  \\\n",
       "974    0001e96803--63b58a5f6be44128abed3bd9.jpg   \n",
       "975    0001e96803--62e3a86fa385947eb993c4de.jpg   \n",
       "976    0001e96803--622464b37d71593ef0ab87ff.jpg   \n",
       "977    0001e96803--624d59ec02ca553118f93a98.jpg   \n",
       "978    0001e96803--62decde562d3c5376b7fde3b.jpg   \n",
       "...                                         ...   \n",
       "36561  0001e96803--6281ee1c0a339251c27c5d77.jpg   \n",
       "36728  0001e96803--6241bce38f1f2072bb943e24.jpg   \n",
       "36945  0001e96803--63037767d04c025ae9e47444.jpg   \n",
       "37036  0001e96803--6363067461871a0232dbb4e1.jpg   \n",
       "37153  0001e96803--636838bdf9f5367ffa94e6af.jpg   \n",
       "\n",
       "                                    name_pair_2 id_rnd_similarity  \\\n",
       "974    0001e96803--62c5717faefc110042a7555b.jpg             False   \n",
       "975    0001e96803--6249ba8eae75ac2e1083f693.jpg             False   \n",
       "976    0001e96803--62d65fd979008a4d229f365b.jpg             False   \n",
       "977    0001e96803--628a17dc8ecec626c1ce95ed.jpg             False   \n",
       "978    0001e96803--63062d7e0b55c35e8c676def.jpg             False   \n",
       "...                                         ...               ...   \n",
       "36561  0001e96803--622b2672839fdc6ec44cce14.jpg              True   \n",
       "36728  0001e96803--62fe2b6732fe117801056c88.jpg             False   \n",
       "36945  0001e96803--62753a7aa371142effe1ecdd.jpg             False   \n",
       "37036  0001e96803--62da8510c73c7c0d30a9ff4e.jpg             False   \n",
       "37153  0001e96803--62752cf666c6597b58bc457b.jpg              True   \n",
       "\n",
       "       id_rnd_similarity_score  \n",
       "974                  -0.012783  \n",
       "975                   0.413697  \n",
       "976                   0.435246  \n",
       "977                   0.341697  \n",
       "978                   0.377260  \n",
       "...                        ...  \n",
       "36561                 0.503721  \n",
       "36728                 0.463280  \n",
       "36945                 0.476999  \n",
       "37036                 0.460305  \n",
       "37153                 0.554787  \n",
       "\n",
       "[2709 rows x 4 columns]"
      ]
     },
     "execution_count": 8,
     "metadata": {},
     "output_type": "execute_result"
    }
   ],
   "source": [
    "#эти 2709 пар нужно разметить в 3-й иттерации\n",
    "df4 = df3[~(df3['name_pair_1'] + '_' + df3['name_pair_2']).isin(set_df2)]\n",
    "df4"
   ]
  },
  {
   "cell_type": "code",
   "execution_count": 9,
   "id": "6f8876cb",
   "metadata": {},
   "outputs": [
    {
     "name": "stderr",
     "output_type": "stream",
     "text": [
      "C:\\Users\\user\\AppData\\Local\\Temp\\ipykernel_9700\\2919538991.py:1: SettingWithCopyWarning: \n",
      "A value is trying to be set on a copy of a slice from a DataFrame.\n",
      "Try using .loc[row_indexer,col_indexer] = value instead\n",
      "\n",
      "See the caveats in the documentation: https://pandas.pydata.org/pandas-docs/stable/user_guide/indexing.html#returning-a-view-versus-a-copy\n",
      "  df4['name_pair_2'] = 'https://storage.yandexcloud.net/license-anti-spoofing/live_selfie/' + df['name_pair_2']\n"
     ]
    }
   ],
   "source": [
    "df4['name_pair_2'] = 'https://storage.yandexcloud.net/license-anti-spoofing/live_selfie/' + df['name_pair_2']"
   ]
  },
  {
   "cell_type": "code",
   "execution_count": 10,
   "id": "e237745f",
   "metadata": {},
   "outputs": [
    {
     "name": "stderr",
     "output_type": "stream",
     "text": [
      "C:\\Users\\user\\AppData\\Local\\Temp\\ipykernel_9700\\356071134.py:1: SettingWithCopyWarning: \n",
      "A value is trying to be set on a copy of a slice from a DataFrame.\n",
      "Try using .loc[row_indexer,col_indexer] = value instead\n",
      "\n",
      "See the caveats in the documentation: https://pandas.pydata.org/pandas-docs/stable/user_guide/indexing.html#returning-a-view-versus-a-copy\n",
      "  df4['name_pair_1'] = 'https://storage.yandexcloud.net/license-anti-spoofing/live_selfie/' + df['name_pair_1']\n"
     ]
    }
   ],
   "source": [
    "df4['name_pair_1'] = 'https://storage.yandexcloud.net/license-anti-spoofing/live_selfie/' + df['name_pair_1']"
   ]
  },
  {
   "cell_type": "code",
   "execution_count": 11,
   "id": "1cd0640f",
   "metadata": {},
   "outputs": [],
   "source": [
    "df4.to_excel('./task_3.xlsx')"
   ]
  },
  {
   "cell_type": "code",
   "execution_count": null,
   "id": "999b4c5d",
   "metadata": {},
   "outputs": [],
   "source": []
  }
 ],
 "metadata": {
  "kernelspec": {
   "display_name": "Python 3 (ipykernel)",
   "language": "python",
   "name": "python3"
  },
  "language_info": {
   "codemirror_mode": {
    "name": "ipython",
    "version": 3
   },
   "file_extension": ".py",
   "mimetype": "text/x-python",
   "name": "python",
   "nbconvert_exporter": "python",
   "pygments_lexer": "ipython3",
   "version": "3.9.13"
  }
 },
 "nbformat": 4,
 "nbformat_minor": 5
}

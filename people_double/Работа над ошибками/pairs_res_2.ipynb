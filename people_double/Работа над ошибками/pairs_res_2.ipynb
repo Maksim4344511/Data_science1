{
 "cells": [
  {
   "cell_type": "code",
   "execution_count": 1,
   "id": "b4d2f172",
   "metadata": {},
   "outputs": [],
   "source": [
    "import pandas as pd\n",
    "import numpy as np\n"
   ]
  },
  {
   "cell_type": "code",
   "execution_count": 2,
   "id": "fc0a5ee0",
   "metadata": {},
   "outputs": [],
   "source": [
    "# Результаты по Девиду Скину\n",
    "df = pd.read_csv('./res_DS_2.tsv', sep='\\t')"
   ]
  },
  {
   "cell_type": "code",
   "execution_count": 3,
   "id": "d6f230f7",
   "metadata": {},
   "outputs": [],
   "source": [
    "# Все голоса толокеров\n",
    "df2 = pd.read_csv('./res_2.tsv', sep='\\t') "
   ]
  },
  {
   "cell_type": "code",
   "execution_count": 4,
   "id": "fa76ee05",
   "metadata": {},
   "outputs": [],
   "source": [
    "# Объединяем навзание фото1 и фото2 (для уникальности)\n",
    "df2 = df2.drop(columns=['GOLDEN:result', 'HINT:text', 'HINT:default_language'])\n",
    "df2['names'] = df2['INPUT:name_pair_1'] + '*' + df2['INPUT:name_pair_2']\n",
    "df['names'] = df['INPUT:name_pair_1'] + '*' + df['INPUT:name_pair_2']"
   ]
  },
  {
   "cell_type": "code",
   "execution_count": 5,
   "id": "c9c49a83",
   "metadata": {},
   "outputs": [],
   "source": [
    "df = df.drop(columns=['INPUT:name_pair_1', 'INPUT:name_pair_2', 'Unnamed: 4'])\n",
    "df = df[['names']].drop_duplicates()"
   ]
  },
  {
   "cell_type": "code",
   "execution_count": 6,
   "id": "08634183",
   "metadata": {},
   "outputs": [],
   "source": [
    "df3 = df2[['names']].drop_duplicates()"
   ]
  },
  {
   "cell_type": "code",
   "execution_count": 7,
   "id": "f9cc8e0a",
   "metadata": {},
   "outputs": [
    {
     "data": {
      "text/html": [
       "<div>\n",
       "<style scoped>\n",
       "    .dataframe tbody tr th:only-of-type {\n",
       "        vertical-align: middle;\n",
       "    }\n",
       "\n",
       "    .dataframe tbody tr th {\n",
       "        vertical-align: top;\n",
       "    }\n",
       "\n",
       "    .dataframe thead th {\n",
       "        text-align: right;\n",
       "    }\n",
       "</style>\n",
       "<table border=\"1\" class=\"dataframe\">\n",
       "  <thead>\n",
       "    <tr style=\"text-align: right;\">\n",
       "      <th></th>\n",
       "      <th>names</th>\n",
       "    </tr>\n",
       "  </thead>\n",
       "  <tbody>\n",
       "    <tr>\n",
       "      <th>0</th>\n",
       "      <td>https://storage.yandexcloud.net/license-anti-s...</td>\n",
       "    </tr>\n",
       "    <tr>\n",
       "      <th>1</th>\n",
       "      <td>https://storage.yandexcloud.net/license-anti-s...</td>\n",
       "    </tr>\n",
       "    <tr>\n",
       "      <th>2</th>\n",
       "      <td>https://storage.yandexcloud.net/license-anti-s...</td>\n",
       "    </tr>\n",
       "    <tr>\n",
       "      <th>3</th>\n",
       "      <td>https://storage.yandexcloud.net/license-anti-s...</td>\n",
       "    </tr>\n",
       "    <tr>\n",
       "      <th>4</th>\n",
       "      <td>https://storage.yandexcloud.net/license-anti-s...</td>\n",
       "    </tr>\n",
       "    <tr>\n",
       "      <th>...</th>\n",
       "      <td>...</td>\n",
       "    </tr>\n",
       "    <tr>\n",
       "      <th>129</th>\n",
       "      <td>https://storage.yandexcloud.net/license-anti-s...</td>\n",
       "    </tr>\n",
       "    <tr>\n",
       "      <th>130</th>\n",
       "      <td>https://storage.yandexcloud.net/license-anti-s...</td>\n",
       "    </tr>\n",
       "    <tr>\n",
       "      <th>131</th>\n",
       "      <td>https://storage.yandexcloud.net/license-anti-s...</td>\n",
       "    </tr>\n",
       "    <tr>\n",
       "      <th>132</th>\n",
       "      <td>https://storage.yandexcloud.net/license-anti-s...</td>\n",
       "    </tr>\n",
       "    <tr>\n",
       "      <th>133</th>\n",
       "      <td>https://storage.yandexcloud.net/license-anti-s...</td>\n",
       "    </tr>\n",
       "  </tbody>\n",
       "</table>\n",
       "<p>134 rows × 1 columns</p>\n",
       "</div>"
      ],
      "text/plain": [
       "                                                 names\n",
       "0    https://storage.yandexcloud.net/license-anti-s...\n",
       "1    https://storage.yandexcloud.net/license-anti-s...\n",
       "2    https://storage.yandexcloud.net/license-anti-s...\n",
       "3    https://storage.yandexcloud.net/license-anti-s...\n",
       "4    https://storage.yandexcloud.net/license-anti-s...\n",
       "..                                                 ...\n",
       "129  https://storage.yandexcloud.net/license-anti-s...\n",
       "130  https://storage.yandexcloud.net/license-anti-s...\n",
       "131  https://storage.yandexcloud.net/license-anti-s...\n",
       "132  https://storage.yandexcloud.net/license-anti-s...\n",
       "133  https://storage.yandexcloud.net/license-anti-s...\n",
       "\n",
       "[134 rows x 1 columns]"
      ]
     },
     "execution_count": 7,
     "metadata": {},
     "output_type": "execute_result"
    }
   ],
   "source": [
    "# К голосам толокеров добавляем оценку по Девиду Скину\n",
    "df3.dropna()\n",
    "df3 = pd.merge(df, df3, on=['names'], how='inner')\n",
    "df3"
   ]
  },
  {
   "cell_type": "code",
   "execution_count": 8,
   "id": "3e4e72e5",
   "metadata": {},
   "outputs": [
    {
     "data": {
      "text/html": [
       "<div>\n",
       "<style scoped>\n",
       "    .dataframe tbody tr th:only-of-type {\n",
       "        vertical-align: middle;\n",
       "    }\n",
       "\n",
       "    .dataframe tbody tr th {\n",
       "        vertical-align: top;\n",
       "    }\n",
       "\n",
       "    .dataframe thead th {\n",
       "        text-align: right;\n",
       "    }\n",
       "</style>\n",
       "<table border=\"1\" class=\"dataframe\">\n",
       "  <thead>\n",
       "    <tr style=\"text-align: right;\">\n",
       "      <th></th>\n",
       "      <th>names</th>\n",
       "    </tr>\n",
       "  </thead>\n",
       "  <tbody>\n",
       "    <tr>\n",
       "      <th>0</th>\n",
       "      <td>https://storage.yandexcloud.net/license-anti-s...</td>\n",
       "    </tr>\n",
       "    <tr>\n",
       "      <th>1</th>\n",
       "      <td>https://storage.yandexcloud.net/license-anti-s...</td>\n",
       "    </tr>\n",
       "    <tr>\n",
       "      <th>2</th>\n",
       "      <td>https://storage.yandexcloud.net/license-anti-s...</td>\n",
       "    </tr>\n",
       "    <tr>\n",
       "      <th>3</th>\n",
       "      <td>https://storage.yandexcloud.net/license-anti-s...</td>\n",
       "    </tr>\n",
       "    <tr>\n",
       "      <th>4</th>\n",
       "      <td>https://storage.yandexcloud.net/license-anti-s...</td>\n",
       "    </tr>\n",
       "    <tr>\n",
       "      <th>...</th>\n",
       "      <td>...</td>\n",
       "    </tr>\n",
       "    <tr>\n",
       "      <th>129</th>\n",
       "      <td>https://storage.yandexcloud.net/license-anti-s...</td>\n",
       "    </tr>\n",
       "    <tr>\n",
       "      <th>130</th>\n",
       "      <td>https://storage.yandexcloud.net/license-anti-s...</td>\n",
       "    </tr>\n",
       "    <tr>\n",
       "      <th>131</th>\n",
       "      <td>https://storage.yandexcloud.net/license-anti-s...</td>\n",
       "    </tr>\n",
       "    <tr>\n",
       "      <th>132</th>\n",
       "      <td>https://storage.yandexcloud.net/license-anti-s...</td>\n",
       "    </tr>\n",
       "    <tr>\n",
       "      <th>133</th>\n",
       "      <td>https://storage.yandexcloud.net/license-anti-s...</td>\n",
       "    </tr>\n",
       "  </tbody>\n",
       "</table>\n",
       "<p>134 rows × 1 columns</p>\n",
       "</div>"
      ],
      "text/plain": [
       "                                                 names\n",
       "0    https://storage.yandexcloud.net/license-anti-s...\n",
       "1    https://storage.yandexcloud.net/license-anti-s...\n",
       "2    https://storage.yandexcloud.net/license-anti-s...\n",
       "3    https://storage.yandexcloud.net/license-anti-s...\n",
       "4    https://storage.yandexcloud.net/license-anti-s...\n",
       "..                                                 ...\n",
       "129  https://storage.yandexcloud.net/license-anti-s...\n",
       "130  https://storage.yandexcloud.net/license-anti-s...\n",
       "131  https://storage.yandexcloud.net/license-anti-s...\n",
       "132  https://storage.yandexcloud.net/license-anti-s...\n",
       "133  https://storage.yandexcloud.net/license-anti-s...\n",
       "\n",
       "[134 rows x 1 columns]"
      ]
     },
     "execution_count": 8,
     "metadata": {},
     "output_type": "execute_result"
    }
   ],
   "source": [
    "df3"
   ]
  },
  {
   "cell_type": "code",
   "execution_count": 9,
   "id": "b8064f11",
   "metadata": {},
   "outputs": [],
   "source": [
    "#Считаем ответивших \"Yes\" по каждой таске\n",
    "x =df2['names'][df2['OUTPUT:result']=='yes'].value_counts()"
   ]
  },
  {
   "cell_type": "code",
   "execution_count": 10,
   "id": "59395b7d",
   "metadata": {},
   "outputs": [],
   "source": [
    "df3['tolokers_Yes'] = df2['names'].map(x)"
   ]
  },
  {
   "cell_type": "code",
   "execution_count": null,
   "id": "fbcc5c49",
   "metadata": {},
   "outputs": [],
   "source": []
  },
  {
   "cell_type": "code",
   "execution_count": 11,
   "id": "692cf07d",
   "metadata": {},
   "outputs": [
    {
     "data": {
      "text/html": [
       "<div>\n",
       "<style scoped>\n",
       "    .dataframe tbody tr th:only-of-type {\n",
       "        vertical-align: middle;\n",
       "    }\n",
       "\n",
       "    .dataframe tbody tr th {\n",
       "        vertical-align: top;\n",
       "    }\n",
       "\n",
       "    .dataframe thead th {\n",
       "        text-align: right;\n",
       "    }\n",
       "</style>\n",
       "<table border=\"1\" class=\"dataframe\">\n",
       "  <thead>\n",
       "    <tr style=\"text-align: right;\">\n",
       "      <th></th>\n",
       "      <th>names</th>\n",
       "      <th>tolokers_Yes</th>\n",
       "    </tr>\n",
       "  </thead>\n",
       "  <tbody>\n",
       "    <tr>\n",
       "      <th>0</th>\n",
       "      <td>https://storage.yandexcloud.net/license-anti-s...</td>\n",
       "      <td>1.0</td>\n",
       "    </tr>\n",
       "    <tr>\n",
       "      <th>1</th>\n",
       "      <td>https://storage.yandexcloud.net/license-anti-s...</td>\n",
       "      <td>1.0</td>\n",
       "    </tr>\n",
       "    <tr>\n",
       "      <th>2</th>\n",
       "      <td>https://storage.yandexcloud.net/license-anti-s...</td>\n",
       "      <td>NaN</td>\n",
       "    </tr>\n",
       "    <tr>\n",
       "      <th>3</th>\n",
       "      <td>https://storage.yandexcloud.net/license-anti-s...</td>\n",
       "      <td>10.0</td>\n",
       "    </tr>\n",
       "    <tr>\n",
       "      <th>4</th>\n",
       "      <td>https://storage.yandexcloud.net/license-anti-s...</td>\n",
       "      <td>2.0</td>\n",
       "    </tr>\n",
       "    <tr>\n",
       "      <th>...</th>\n",
       "      <td>...</td>\n",
       "      <td>...</td>\n",
       "    </tr>\n",
       "    <tr>\n",
       "      <th>129</th>\n",
       "      <td>https://storage.yandexcloud.net/license-anti-s...</td>\n",
       "      <td>9.0</td>\n",
       "    </tr>\n",
       "    <tr>\n",
       "      <th>130</th>\n",
       "      <td>https://storage.yandexcloud.net/license-anti-s...</td>\n",
       "      <td>7.0</td>\n",
       "    </tr>\n",
       "    <tr>\n",
       "      <th>131</th>\n",
       "      <td>https://storage.yandexcloud.net/license-anti-s...</td>\n",
       "      <td>9.0</td>\n",
       "    </tr>\n",
       "    <tr>\n",
       "      <th>132</th>\n",
       "      <td>https://storage.yandexcloud.net/license-anti-s...</td>\n",
       "      <td>10.0</td>\n",
       "    </tr>\n",
       "    <tr>\n",
       "      <th>133</th>\n",
       "      <td>https://storage.yandexcloud.net/license-anti-s...</td>\n",
       "      <td>9.0</td>\n",
       "    </tr>\n",
       "  </tbody>\n",
       "</table>\n",
       "<p>134 rows × 2 columns</p>\n",
       "</div>"
      ],
      "text/plain": [
       "                                                 names  tolokers_Yes\n",
       "0    https://storage.yandexcloud.net/license-anti-s...           1.0\n",
       "1    https://storage.yandexcloud.net/license-anti-s...           1.0\n",
       "2    https://storage.yandexcloud.net/license-anti-s...           NaN\n",
       "3    https://storage.yandexcloud.net/license-anti-s...          10.0\n",
       "4    https://storage.yandexcloud.net/license-anti-s...           2.0\n",
       "..                                                 ...           ...\n",
       "129  https://storage.yandexcloud.net/license-anti-s...           9.0\n",
       "130  https://storage.yandexcloud.net/license-anti-s...           7.0\n",
       "131  https://storage.yandexcloud.net/license-anti-s...           9.0\n",
       "132  https://storage.yandexcloud.net/license-anti-s...          10.0\n",
       "133  https://storage.yandexcloud.net/license-anti-s...           9.0\n",
       "\n",
       "[134 rows x 2 columns]"
      ]
     },
     "execution_count": 11,
     "metadata": {},
     "output_type": "execute_result"
    }
   ],
   "source": [
    "df3"
   ]
  },
  {
   "cell_type": "code",
   "execution_count": 12,
   "id": "d5dbec62",
   "metadata": {},
   "outputs": [],
   "source": [
    "df3 = df3[(df3['tolokers_Yes'] <= 7.0)]"
   ]
  },
  {
   "cell_type": "code",
   "execution_count": 13,
   "id": "9e7606e1",
   "metadata": {},
   "outputs": [],
   "source": [
    "df3 = df3[(df3['tolokers_Yes'] >= 3.0)]"
   ]
  },
  {
   "cell_type": "code",
   "execution_count": 14,
   "id": "a75ad937",
   "metadata": {},
   "outputs": [
    {
     "data": {
      "text/html": [
       "<div>\n",
       "<style scoped>\n",
       "    .dataframe tbody tr th:only-of-type {\n",
       "        vertical-align: middle;\n",
       "    }\n",
       "\n",
       "    .dataframe tbody tr th {\n",
       "        vertical-align: top;\n",
       "    }\n",
       "\n",
       "    .dataframe thead th {\n",
       "        text-align: right;\n",
       "    }\n",
       "</style>\n",
       "<table border=\"1\" class=\"dataframe\">\n",
       "  <thead>\n",
       "    <tr style=\"text-align: right;\">\n",
       "      <th></th>\n",
       "      <th>names</th>\n",
       "      <th>tolokers_Yes</th>\n",
       "    </tr>\n",
       "  </thead>\n",
       "  <tbody>\n",
       "    <tr>\n",
       "      <th>9</th>\n",
       "      <td>https://storage.yandexcloud.net/license-anti-s...</td>\n",
       "      <td>3.0</td>\n",
       "    </tr>\n",
       "    <tr>\n",
       "      <th>10</th>\n",
       "      <td>https://storage.yandexcloud.net/license-anti-s...</td>\n",
       "      <td>3.0</td>\n",
       "    </tr>\n",
       "    <tr>\n",
       "      <th>27</th>\n",
       "      <td>https://storage.yandexcloud.net/license-anti-s...</td>\n",
       "      <td>3.0</td>\n",
       "    </tr>\n",
       "    <tr>\n",
       "      <th>47</th>\n",
       "      <td>https://storage.yandexcloud.net/license-anti-s...</td>\n",
       "      <td>3.0</td>\n",
       "    </tr>\n",
       "    <tr>\n",
       "      <th>95</th>\n",
       "      <td>https://storage.yandexcloud.net/license-anti-s...</td>\n",
       "      <td>4.0</td>\n",
       "    </tr>\n",
       "    <tr>\n",
       "      <th>98</th>\n",
       "      <td>https://storage.yandexcloud.net/license-anti-s...</td>\n",
       "      <td>5.0</td>\n",
       "    </tr>\n",
       "    <tr>\n",
       "      <th>99</th>\n",
       "      <td>https://storage.yandexcloud.net/license-anti-s...</td>\n",
       "      <td>3.0</td>\n",
       "    </tr>\n",
       "    <tr>\n",
       "      <th>104</th>\n",
       "      <td>https://storage.yandexcloud.net/license-anti-s...</td>\n",
       "      <td>7.0</td>\n",
       "    </tr>\n",
       "    <tr>\n",
       "      <th>110</th>\n",
       "      <td>https://storage.yandexcloud.net/license-anti-s...</td>\n",
       "      <td>4.0</td>\n",
       "    </tr>\n",
       "    <tr>\n",
       "      <th>130</th>\n",
       "      <td>https://storage.yandexcloud.net/license-anti-s...</td>\n",
       "      <td>7.0</td>\n",
       "    </tr>\n",
       "  </tbody>\n",
       "</table>\n",
       "</div>"
      ],
      "text/plain": [
       "                                                 names  tolokers_Yes\n",
       "9    https://storage.yandexcloud.net/license-anti-s...           3.0\n",
       "10   https://storage.yandexcloud.net/license-anti-s...           3.0\n",
       "27   https://storage.yandexcloud.net/license-anti-s...           3.0\n",
       "47   https://storage.yandexcloud.net/license-anti-s...           3.0\n",
       "95   https://storage.yandexcloud.net/license-anti-s...           4.0\n",
       "98   https://storage.yandexcloud.net/license-anti-s...           5.0\n",
       "99   https://storage.yandexcloud.net/license-anti-s...           3.0\n",
       "104  https://storage.yandexcloud.net/license-anti-s...           7.0\n",
       "110  https://storage.yandexcloud.net/license-anti-s...           4.0\n",
       "130  https://storage.yandexcloud.net/license-anti-s...           7.0"
      ]
     },
     "execution_count": 14,
     "metadata": {},
     "output_type": "execute_result"
    }
   ],
   "source": [
    "df.drop_duplicates(['names'])\n",
    "df3"
   ]
  },
  {
   "cell_type": "code",
   "execution_count": 15,
   "id": "880bea35",
   "metadata": {},
   "outputs": [],
   "source": [
    "# Отбираем, где по Девиду Скину ответ дубликат\n",
    "#df3 = df3[(df3['OUTPUT:result'] == 'yes')]"
   ]
  },
  {
   "cell_type": "code",
   "execution_count": 16,
   "id": "f7b214d2",
   "metadata": {},
   "outputs": [],
   "source": [
    "df3['INPUT:name_pair_1']=df3['names'].str.split('*').str.get(0)\n",
    "df3['INPUT:name_pair_2']=df3['names'].str.split('*').str.get(1)"
   ]
  },
  {
   "cell_type": "code",
   "execution_count": 17,
   "id": "e71c2268",
   "metadata": {},
   "outputs": [],
   "source": [
    "df3.to_excel('./T_yes.xlsx',  index= False)"
   ]
  },
  {
   "cell_type": "code",
   "execution_count": null,
   "id": "4febb0ed",
   "metadata": {},
   "outputs": [],
   "source": []
  }
 ],
 "metadata": {
  "kernelspec": {
   "display_name": "Python 3 (ipykernel)",
   "language": "python",
   "name": "python3"
  },
  "language_info": {
   "codemirror_mode": {
    "name": "ipython",
    "version": 3
   },
   "file_extension": ".py",
   "mimetype": "text/x-python",
   "name": "python",
   "nbconvert_exporter": "python",
   "pygments_lexer": "ipython3",
   "version": "3.9.13"
  }
 },
 "nbformat": 4,
 "nbformat_minor": 5
}

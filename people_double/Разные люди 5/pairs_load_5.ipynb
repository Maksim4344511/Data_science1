{
 "cells": [
  {
   "cell_type": "code",
   "execution_count": 1,
   "id": "b4d2f172",
   "metadata": {},
   "outputs": [],
   "source": [
    "import pandas as pd\n",
    "import numpy as np\n"
   ]
  },
  {
   "cell_type": "code",
   "execution_count": 2,
   "id": "fc0a5ee0",
   "metadata": {},
   "outputs": [],
   "source": [
    "df = pd.read_csv('./pairs_5.csv', sep=';')\n"
   ]
  },
  {
   "cell_type": "code",
   "execution_count": null,
   "id": "d6f230f7",
   "metadata": {},
   "outputs": [],
   "source": []
  },
  {
   "cell_type": "code",
   "execution_count": 3,
   "id": "fa76ee05",
   "metadata": {},
   "outputs": [],
   "source": [
    "df['INPUT:name_pair_1'] = df['original_photo']"
   ]
  },
  {
   "cell_type": "code",
   "execution_count": 4,
   "id": "c9c49a83",
   "metadata": {},
   "outputs": [],
   "source": [
    "df['INPUT:name_pair_2'] = df['dupl_photo']"
   ]
  },
  {
   "cell_type": "code",
   "execution_count": null,
   "id": "782a9cf4",
   "metadata": {},
   "outputs": [],
   "source": []
  },
  {
   "cell_type": "code",
   "execution_count": null,
   "id": "08634183",
   "metadata": {},
   "outputs": [],
   "source": []
  },
  {
   "cell_type": "code",
   "execution_count": 5,
   "id": "f9cc8e0a",
   "metadata": {},
   "outputs": [],
   "source": [
    "#df.to_excel('./task_5.xlsx')"
   ]
  }
 ],
 "metadata": {
  "kernelspec": {
   "display_name": "Python 3 (ipykernel)",
   "language": "python",
   "name": "python3"
  },
  "language_info": {
   "codemirror_mode": {
    "name": "ipython",
    "version": 3
   },
   "file_extension": ".py",
   "mimetype": "text/x-python",
   "name": "python",
   "nbconvert_exporter": "python",
   "pygments_lexer": "ipython3",
   "version": "3.9.13"
  }
 },
 "nbformat": 4,
 "nbformat_minor": 5
}

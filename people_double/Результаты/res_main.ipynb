{
 "cells": [
  {
   "cell_type": "code",
   "execution_count": 1,
   "id": "b4d2f172",
   "metadata": {},
   "outputs": [],
   "source": [
    "import pandas as pd\n",
    "import numpy as np\n"
   ]
  },
  {
   "cell_type": "code",
   "execution_count": 2,
   "id": "fc0a5ee0",
   "metadata": {},
   "outputs": [],
   "source": [
    "# Все голоса толокеров\n",
    "df_v1 = pd.read_csv('./res_1.tsv', sep='\\t')\n",
    "df_v2 = pd.read_csv('./res_2.tsv', sep='\\t')\n",
    "df_v3 = pd.read_csv('./res_3.tsv', sep='\\t')\n",
    "df_v4 = pd.read_csv('./res_4.tsv', sep='\\t')"
   ]
  },
  {
   "cell_type": "code",
   "execution_count": 3,
   "id": "d6f230f7",
   "metadata": {},
   "outputs": [],
   "source": [
    "df = pd.concat([df_v1, df_v2, df_v3, df_v4], ignore_index=True)\n",
    "df.to_csv('test.csv', sep=\"\\t\", index=False)"
   ]
  },
  {
   "cell_type": "code",
   "execution_count": 4,
   "id": "fa76ee05",
   "metadata": {},
   "outputs": [],
   "source": [
    "# Объединяем навзание фото1 и фото2 (для уникальности)\n",
    "df['OUTPUT:result'].value_counts()\n",
    "\n",
    "# Убираю ссылку перед названием\n",
    "df['INPUT:name_pair_1'] = df['INPUT:name_pair_1'].astype(str).str[66:].replace('', pd.NA)\n",
    "df['INPUT:name_pair_2'] = df['INPUT:name_pair_2'].astype(str).str[66:].replace('', pd.NA) \n",
    "df['name_pair_1'] = df['INPUT:name_pair_1']\n",
    "df['name_pair_2'] = df['INPUT:name_pair_2']\n",
    "df['names'] = df['name_pair_1'] + '*' + df['name_pair_2']\n"
   ]
  },
  {
   "cell_type": "code",
   "execution_count": 5,
   "id": "c9c49a83",
   "metadata": {},
   "outputs": [],
   "source": [
    "# Удаляю лишние столбцы\n",
    "df = df.drop(columns=['GOLDEN:result', 'HINT:text', 'HINT:default_language', 'INPUT:name_pair_1', 'INPUT:name_pair_2'])"
   ]
  },
  {
   "cell_type": "code",
   "execution_count": 6,
   "id": "08634183",
   "metadata": {},
   "outputs": [],
   "source": [
    "# Считаю ответивших \"yes\"\n",
    "x = df['names'][df['OUTPUT:result']=='yes'].value_counts() / df['names'].value_counts()\n",
    "y = df['names'].value_counts()\n",
    "df3 = df[['names']].drop_duplicates()\n",
    "df3['percent_tolokers_Yes'] = df['names'].map(x)\n",
    "df3['count_answer'] = df['names'].map(y)\n",
    "# Заменяю NaN на - 0 = 10 толокеров ответили \"no\"\n",
    "df3['percent_tolokers_Yes'] = df3['percent_tolokers_Yes'].fillna(0)\n"
   ]
  },
  {
   "cell_type": "code",
   "execution_count": 7,
   "id": "f9cc8e0a",
   "metadata": {},
   "outputs": [],
   "source": [
    "df2 = pd.read_csv('./id_rnd_compare1.csv', sep=';')\n",
    "df2['names'] = df2['name_pair_1'] + '*' + df2['name_pair_2']"
   ]
  },
  {
   "cell_type": "code",
   "execution_count": 8,
   "id": "3e4e72e5",
   "metadata": {},
   "outputs": [],
   "source": [
    "df3 = pd.merge(df3, df2, on='names', how='right')"
   ]
  },
  {
   "cell_type": "code",
   "execution_count": 9,
   "id": "b8064f11",
   "metadata": {},
   "outputs": [
    {
     "data": {
      "text/plain": [
       "3683"
      ]
     },
     "execution_count": 9,
     "metadata": {},
     "output_type": "execute_result"
    }
   ],
   "source": [
    "df3['percent_tolokers_Yes'].count()"
   ]
  },
  {
   "cell_type": "code",
   "execution_count": null,
   "id": "59395b7d",
   "metadata": {},
   "outputs": [],
   "source": []
  },
  {
   "cell_type": "code",
   "execution_count": 10,
   "id": "fbcc5c49",
   "metadata": {},
   "outputs": [],
   "source": [
    "df4 = df3[(df3['percent_tolokers_Yes'] >= 0.3) & (df3['percent_tolokers_Yes'] <= 0.7) & (df3['count_answer'] == 10)]"
   ]
  },
  {
   "cell_type": "code",
   "execution_count": 11,
   "id": "692cf07d",
   "metadata": {},
   "outputs": [],
   "source": [
    "#df3.to_csv('id_rnd_compare_2.csv', sep=\"\\t\", index=False)"
   ]
  },
  {
   "cell_type": "code",
   "execution_count": 12,
   "id": "d5dbec62",
   "metadata": {},
   "outputs": [
    {
     "data": {
      "text/html": [
       "<div>\n",
       "<style scoped>\n",
       "    .dataframe tbody tr th:only-of-type {\n",
       "        vertical-align: middle;\n",
       "    }\n",
       "\n",
       "    .dataframe tbody tr th {\n",
       "        vertical-align: top;\n",
       "    }\n",
       "\n",
       "    .dataframe thead th {\n",
       "        text-align: right;\n",
       "    }\n",
       "</style>\n",
       "<table border=\"1\" class=\"dataframe\">\n",
       "  <thead>\n",
       "    <tr style=\"text-align: right;\">\n",
       "      <th></th>\n",
       "      <th>names</th>\n",
       "      <th>percent_tolokers_Yes</th>\n",
       "      <th>count_answer</th>\n",
       "      <th>name_pair_1</th>\n",
       "      <th>name_pair_2</th>\n",
       "      <th>id_rnd_similarity</th>\n",
       "      <th>id_rnd_similarity_score</th>\n",
       "      <th>confidence</th>\n",
       "      <th>above_threshold</th>\n",
       "    </tr>\n",
       "  </thead>\n",
       "  <tbody>\n",
       "    <tr>\n",
       "      <th>44</th>\n",
       "      <td>0001e96803--63031e2bb789b92b1ea0e994.jpg*0001e...</td>\n",
       "      <td>0.5</td>\n",
       "      <td>10.0</td>\n",
       "      <td>0001e96803--63031e2bb789b92b1ea0e994.jpg</td>\n",
       "      <td>0001e96803--62c96450b0ca9e7542102347.jpg</td>\n",
       "      <td>True</td>\n",
       "      <td>0.807341</td>\n",
       "      <td>0.709714</td>\n",
       "      <td>True</td>\n",
       "    </tr>\n",
       "    <tr>\n",
       "      <th>74</th>\n",
       "      <td>0001e96803--6229bd879df18e30cf1fd2db.jpg*0001e...</td>\n",
       "      <td>0.7</td>\n",
       "      <td>10.0</td>\n",
       "      <td>0001e96803--6229bd879df18e30cf1fd2db.jpg</td>\n",
       "      <td>0001e96803--6280d438d7e5fe3a70bbca2a.jpg</td>\n",
       "      <td>True</td>\n",
       "      <td>0.745584</td>\n",
       "      <td>0.741413</td>\n",
       "      <td>True</td>\n",
       "    </tr>\n",
       "    <tr>\n",
       "      <th>75</th>\n",
       "      <td>0001e96803--62c2f0fd90d0047c038b2f24.jpg*0001e...</td>\n",
       "      <td>0.7</td>\n",
       "      <td>10.0</td>\n",
       "      <td>0001e96803--62c2f0fd90d0047c038b2f24.jpg</td>\n",
       "      <td>0001e96803--62af78c7d053cf29e7ef7fc4.jpg</td>\n",
       "      <td>True</td>\n",
       "      <td>0.771033</td>\n",
       "      <td>0.656485</td>\n",
       "      <td>False</td>\n",
       "    </tr>\n",
       "    <tr>\n",
       "      <th>78</th>\n",
       "      <td>0001e96803--6345b514c1f1a52a6485e210.jpg*0001e...</td>\n",
       "      <td>0.5</td>\n",
       "      <td>10.0</td>\n",
       "      <td>0001e96803--6345b514c1f1a52a6485e210.jpg</td>\n",
       "      <td>0001e96803--6368e1cf30180324ab7c01e1.jpg</td>\n",
       "      <td>True</td>\n",
       "      <td>0.804925</td>\n",
       "      <td>0.702497</td>\n",
       "      <td>True</td>\n",
       "    </tr>\n",
       "    <tr>\n",
       "      <th>84</th>\n",
       "      <td>0001e96803--630359b7e49339458916461f.jpg*0001e...</td>\n",
       "      <td>0.7</td>\n",
       "      <td>10.0</td>\n",
       "      <td>0001e96803--630359b7e49339458916461f.jpg</td>\n",
       "      <td>0001e96803--630b0c212c38525b069af130.jpg</td>\n",
       "      <td>True</td>\n",
       "      <td>0.733285</td>\n",
       "      <td>0.654110</td>\n",
       "      <td>False</td>\n",
       "    </tr>\n",
       "    <tr>\n",
       "      <th>...</th>\n",
       "      <td>...</td>\n",
       "      <td>...</td>\n",
       "      <td>...</td>\n",
       "      <td>...</td>\n",
       "      <td>...</td>\n",
       "      <td>...</td>\n",
       "      <td>...</td>\n",
       "      <td>...</td>\n",
       "      <td>...</td>\n",
       "    </tr>\n",
       "    <tr>\n",
       "      <th>34701</th>\n",
       "      <td>0001e96803--622dd5dc9e9b6b3bce9143fd.jpg*0001e...</td>\n",
       "      <td>0.5</td>\n",
       "      <td>10.0</td>\n",
       "      <td>0001e96803--622dd5dc9e9b6b3bce9143fd.jpg</td>\n",
       "      <td>0001e96803--62c39118df3d2d47d357068f.jpg</td>\n",
       "      <td>False</td>\n",
       "      <td>0.489079</td>\n",
       "      <td>0.629311</td>\n",
       "      <td>False</td>\n",
       "    </tr>\n",
       "    <tr>\n",
       "      <th>34709</th>\n",
       "      <td>0001e96803--62c40178559a605e4c2ef677.jpg*0001e...</td>\n",
       "      <td>0.5</td>\n",
       "      <td>10.0</td>\n",
       "      <td>0001e96803--62c40178559a605e4c2ef677.jpg</td>\n",
       "      <td>0001e96803--6288ba39364828132bef9911.jpg</td>\n",
       "      <td>True</td>\n",
       "      <td>0.508828</td>\n",
       "      <td>0.628418</td>\n",
       "      <td>False</td>\n",
       "    </tr>\n",
       "    <tr>\n",
       "      <th>34822</th>\n",
       "      <td>0001e96803--62add458de5921383360e37e.jpg*0001e...</td>\n",
       "      <td>0.6</td>\n",
       "      <td>10.0</td>\n",
       "      <td>0001e96803--62add458de5921383360e37e.jpg</td>\n",
       "      <td>0001e96803--63009a0e43a27c6787268d6a.jpg</td>\n",
       "      <td>True</td>\n",
       "      <td>0.520039</td>\n",
       "      <td>0.601020</td>\n",
       "      <td>False</td>\n",
       "    </tr>\n",
       "    <tr>\n",
       "      <th>35002</th>\n",
       "      <td>0001e96803--62e5d21359b423027d6ed8bc.jpg*0001e...</td>\n",
       "      <td>0.3</td>\n",
       "      <td>10.0</td>\n",
       "      <td>0001e96803--62e5d21359b423027d6ed8bc.jpg</td>\n",
       "      <td>0001e96803--6346b78f2957cc459087a292.jpg</td>\n",
       "      <td>False</td>\n",
       "      <td>0.458823</td>\n",
       "      <td>0.590008</td>\n",
       "      <td>False</td>\n",
       "    </tr>\n",
       "    <tr>\n",
       "      <th>37153</th>\n",
       "      <td>0001e96803--636838bdf9f5367ffa94e6af.jpg*0001e...</td>\n",
       "      <td>0.3</td>\n",
       "      <td>10.0</td>\n",
       "      <td>0001e96803--636838bdf9f5367ffa94e6af.jpg</td>\n",
       "      <td>0001e96803--62752cf666c6597b58bc457b.jpg</td>\n",
       "      <td>True</td>\n",
       "      <td>0.554787</td>\n",
       "      <td>0.609901</td>\n",
       "      <td>False</td>\n",
       "    </tr>\n",
       "  </tbody>\n",
       "</table>\n",
       "<p>310 rows × 9 columns</p>\n",
       "</div>"
      ],
      "text/plain": [
       "                                                   names  \\\n",
       "44     0001e96803--63031e2bb789b92b1ea0e994.jpg*0001e...   \n",
       "74     0001e96803--6229bd879df18e30cf1fd2db.jpg*0001e...   \n",
       "75     0001e96803--62c2f0fd90d0047c038b2f24.jpg*0001e...   \n",
       "78     0001e96803--6345b514c1f1a52a6485e210.jpg*0001e...   \n",
       "84     0001e96803--630359b7e49339458916461f.jpg*0001e...   \n",
       "...                                                  ...   \n",
       "34701  0001e96803--622dd5dc9e9b6b3bce9143fd.jpg*0001e...   \n",
       "34709  0001e96803--62c40178559a605e4c2ef677.jpg*0001e...   \n",
       "34822  0001e96803--62add458de5921383360e37e.jpg*0001e...   \n",
       "35002  0001e96803--62e5d21359b423027d6ed8bc.jpg*0001e...   \n",
       "37153  0001e96803--636838bdf9f5367ffa94e6af.jpg*0001e...   \n",
       "\n",
       "       percent_tolokers_Yes  count_answer  \\\n",
       "44                      0.5          10.0   \n",
       "74                      0.7          10.0   \n",
       "75                      0.7          10.0   \n",
       "78                      0.5          10.0   \n",
       "84                      0.7          10.0   \n",
       "...                     ...           ...   \n",
       "34701                   0.5          10.0   \n",
       "34709                   0.5          10.0   \n",
       "34822                   0.6          10.0   \n",
       "35002                   0.3          10.0   \n",
       "37153                   0.3          10.0   \n",
       "\n",
       "                                    name_pair_1  \\\n",
       "44     0001e96803--63031e2bb789b92b1ea0e994.jpg   \n",
       "74     0001e96803--6229bd879df18e30cf1fd2db.jpg   \n",
       "75     0001e96803--62c2f0fd90d0047c038b2f24.jpg   \n",
       "78     0001e96803--6345b514c1f1a52a6485e210.jpg   \n",
       "84     0001e96803--630359b7e49339458916461f.jpg   \n",
       "...                                         ...   \n",
       "34701  0001e96803--622dd5dc9e9b6b3bce9143fd.jpg   \n",
       "34709  0001e96803--62c40178559a605e4c2ef677.jpg   \n",
       "34822  0001e96803--62add458de5921383360e37e.jpg   \n",
       "35002  0001e96803--62e5d21359b423027d6ed8bc.jpg   \n",
       "37153  0001e96803--636838bdf9f5367ffa94e6af.jpg   \n",
       "\n",
       "                                    name_pair_2 id_rnd_similarity  \\\n",
       "44     0001e96803--62c96450b0ca9e7542102347.jpg              True   \n",
       "74     0001e96803--6280d438d7e5fe3a70bbca2a.jpg              True   \n",
       "75     0001e96803--62af78c7d053cf29e7ef7fc4.jpg              True   \n",
       "78     0001e96803--6368e1cf30180324ab7c01e1.jpg              True   \n",
       "84     0001e96803--630b0c212c38525b069af130.jpg              True   \n",
       "...                                         ...               ...   \n",
       "34701  0001e96803--62c39118df3d2d47d357068f.jpg             False   \n",
       "34709  0001e96803--6288ba39364828132bef9911.jpg              True   \n",
       "34822  0001e96803--63009a0e43a27c6787268d6a.jpg              True   \n",
       "35002  0001e96803--6346b78f2957cc459087a292.jpg             False   \n",
       "37153  0001e96803--62752cf666c6597b58bc457b.jpg              True   \n",
       "\n",
       "       id_rnd_similarity_score  confidence  above_threshold  \n",
       "44                    0.807341    0.709714             True  \n",
       "74                    0.745584    0.741413             True  \n",
       "75                    0.771033    0.656485            False  \n",
       "78                    0.804925    0.702497             True  \n",
       "84                    0.733285    0.654110            False  \n",
       "...                        ...         ...              ...  \n",
       "34701                 0.489079    0.629311            False  \n",
       "34709                 0.508828    0.628418            False  \n",
       "34822                 0.520039    0.601020            False  \n",
       "35002                 0.458823    0.590008            False  \n",
       "37153                 0.554787    0.609901            False  \n",
       "\n",
       "[310 rows x 9 columns]"
      ]
     },
     "execution_count": 12,
     "metadata": {},
     "output_type": "execute_result"
    }
   ],
   "source": [
    "df4"
   ]
  },
  {
   "cell_type": "code",
   "execution_count": null,
   "id": "9e7606e1",
   "metadata": {},
   "outputs": [],
   "source": []
  },
  {
   "cell_type": "code",
   "execution_count": null,
   "id": "880bea35",
   "metadata": {},
   "outputs": [],
   "source": []
  },
  {
   "cell_type": "code",
   "execution_count": 13,
   "id": "f7b214d2",
   "metadata": {},
   "outputs": [],
   "source": [
    "#df2['percent_tolokers_Yes'] = df['names'].map(x)\n",
    "#df2['count'] = df['names'].map(y)\n",
    "# Заменяю NaN на - 0 = 10 толокеров ответили \"no\"\n",
    "#df2['percent_tolokers_Yes'] = df2['percent_tolokers_Yes'].fillna (0)"
   ]
  },
  {
   "cell_type": "code",
   "execution_count": 14,
   "id": "e71c2268",
   "metadata": {},
   "outputs": [],
   "source": [
    "#df2 = df2.drop(columns=['names'])"
   ]
  },
  {
   "cell_type": "code",
   "execution_count": 15,
   "id": "4febb0ed",
   "metadata": {},
   "outputs": [],
   "source": [
    "#df4.to_csv('id_rnd_compare_2.csv', sep=\"\\t\", index=False)\n"
   ]
  },
  {
   "cell_type": "code",
   "execution_count": null,
   "id": "4d87256d",
   "metadata": {},
   "outputs": [],
   "source": []
  },
  {
   "cell_type": "code",
   "execution_count": 16,
   "id": "d5af3a8c",
   "metadata": {},
   "outputs": [],
   "source": [
    "#df2['INPUT:name_pair_1']=df2['names'].str.split('*').str.get(0)\n",
    "#df2['INPUT:name_pair_2']=df2['names'].str.split('*').str.get(1)"
   ]
  },
  {
   "cell_type": "code",
   "execution_count": null,
   "id": "c64a010d",
   "metadata": {},
   "outputs": [],
   "source": []
  },
  {
   "cell_type": "code",
   "execution_count": null,
   "id": "0d60cb0c",
   "metadata": {},
   "outputs": [],
   "source": []
  }
 ],
 "metadata": {
  "kernelspec": {
   "display_name": "Python 3 (ipykernel)",
   "language": "python",
   "name": "python3"
  },
  "language_info": {
   "codemirror_mode": {
    "name": "ipython",
    "version": 3
   },
   "file_extension": ".py",
   "mimetype": "text/x-python",
   "name": "python",
   "nbconvert_exporter": "python",
   "pygments_lexer": "ipython3",
   "version": "3.9.13"
  }
 },
 "nbformat": 4,
 "nbformat_minor": 5
}

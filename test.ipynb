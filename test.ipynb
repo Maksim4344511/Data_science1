{
 "cells": [
  {
   "cell_type": "code",
   "execution_count": 1,
   "id": "a5630724",
   "metadata": {},
   "outputs": [],
   "source": [
    "\n",
    "import pandas as pd\n",
    "\n",
    "%matplotlib inline\n",
    "import matplotlib.pyplot as plt\n",
    "import seaborn as sns\n",
    "import plotly.graph_objs as go\n",
    "import numpy as np\n",
    "import krippendorff\n"
   ]
  },
  {
   "cell_type": "code",
   "execution_count": 2,
   "id": "61592bb3",
   "metadata": {},
   "outputs": [],
   "source": [
    "from krippendorff.krippendorff import alpha"
   ]
  },
  {
   "cell_type": "code",
   "execution_count": 3,
   "id": "49f4359d",
   "metadata": {},
   "outputs": [],
   "source": [
    "df_trash = pd.read_csv('./Trash.tsv', sep=\"\\t\")\n",
    "df_quality = pd.read_csv('./Quality.tsv', sep=\"\\t\")\n",
    "df_quality_plus = pd.read_csv('./Quality++.tsv', sep=\"\\t\")"
   ]
  },
  {
   "cell_type": "code",
   "execution_count": null,
   "id": "b9939fdf",
   "metadata": {},
   "outputs": [],
   "source": []
  },
  {
   "cell_type": "code",
   "execution_count": null,
   "id": "1d25afe1",
   "metadata": {},
   "outputs": [],
   "source": []
  },
  {
   "cell_type": "code",
   "execution_count": null,
   "id": "8fbd4b81",
   "metadata": {},
   "outputs": [],
   "source": []
  },
  {
   "cell_type": "code",
   "execution_count": 13,
   "id": "32d0a496",
   "metadata": {},
   "outputs": [
    {
     "name": "stdout",
     "output_type": "stream",
     "text": [
      "0.17191878397967608\n",
      "0.4653334308956456\n",
      "0.763764980907682\n"
     ]
    }
   ],
   "source": [
    "for x in [df_trash, df_quality, df_quality_plus]:\n",
    "    value_counts  =pd.crosstab(x['INPUT:task-id'], x['OUTPUT:label'])\n",
    "    print(krippendorff.alpha(value_counts=value_counts))"
   ]
  },
  {
   "cell_type": "code",
   "execution_count": null,
   "id": "92c07b81",
   "metadata": {},
   "outputs": [],
   "source": []
  },
  {
   "cell_type": "code",
   "execution_count": null,
   "id": "ff87066d",
   "metadata": {},
   "outputs": [],
   "source": []
  }
 ],
 "metadata": {
  "kernelspec": {
   "display_name": "Python 3 (ipykernel)",
   "language": "python",
   "name": "python3"
  },
  "language_info": {
   "codemirror_mode": {
    "name": "ipython",
    "version": 3
   },
   "file_extension": ".py",
   "mimetype": "text/x-python",
   "name": "python",
   "nbconvert_exporter": "python",
   "pygments_lexer": "ipython3",
   "version": "3.9.13"
  }
 },
 "nbformat": 4,
 "nbformat_minor": 5
}

{
 "cells": [
  {
   "cell_type": "code",
   "execution_count": 1,
   "id": "b4d2f172",
   "metadata": {},
   "outputs": [],
   "source": [
    "import pandas as pd\n",
    "\n",
    "%matplotlib inline\n",
    "import matplotlib.pyplot as plt\n",
    "import seaborn as sns\n",
    "import plotly.graph_objs as go\n",
    "import numpy as np"
   ]
  },
  {
   "cell_type": "code",
   "execution_count": 2,
   "id": "fc0a5ee0",
   "metadata": {},
   "outputs": [],
   "source": [
    "df = pd.read_csv('./assignments_from_pool_Quality_3.tsv', sep=\"\\t\")"
   ]
  },
  {
   "cell_type": "code",
   "execution_count": 3,
   "id": "d6f230f7",
   "metadata": {},
   "outputs": [],
   "source": [
    "df = df.drop(columns=['GOLDEN:ad', 'GOLDEN:not_ad', 'GOLDEN:ban_insult_hard', 'GOLDEN:ban_shock_content', 'GOLDEN:ban_shock_content',\n",
    "'HINT:text', 'HINT:default_language'])\n"
   ]
  },
  {
   "cell_type": "code",
   "execution_count": 4,
   "id": "fa76ee05",
   "metadata": {},
   "outputs": [],
   "source": [
    "df = df.fillna(0)\n",
    "def f(row):\n",
    "    if row['OUTPUT:ad'] == 'yes':\n",
    "        val = 'ad'\n",
    "    elif row['OUTPUT:not_ad'] != 0:\n",
    "        val = 'not_ad'\n",
    "    elif row['OUTPUT:ban_insult_hard'] != 0:\n",
    "        val = 'ban_insult_hard'\n",
    "    elif row['OUTPUT:ban_shock_content'] != 0:\n",
    "        val = 'ban_shock_content'    \n",
    "    else:\n",
    "        val = ' '\n",
    "    return val\n",
    "\n",
    "df['OUTPUT:label'] = df.apply(f, axis=1)\n",
    "\n"
   ]
  },
  {
   "cell_type": "code",
   "execution_count": 5,
   "id": "c9c49a83",
   "metadata": {},
   "outputs": [
    {
     "data": {
      "text/html": [
       "<div>\n",
       "<style scoped>\n",
       "    .dataframe tbody tr th:only-of-type {\n",
       "        vertical-align: middle;\n",
       "    }\n",
       "\n",
       "    .dataframe tbody tr th {\n",
       "        vertical-align: top;\n",
       "    }\n",
       "\n",
       "    .dataframe thead th {\n",
       "        text-align: right;\n",
       "    }\n",
       "</style>\n",
       "<table border=\"1\" class=\"dataframe\">\n",
       "  <thead>\n",
       "    <tr style=\"text-align: right;\">\n",
       "      <th></th>\n",
       "      <th>INPUT:label</th>\n",
       "      <th>INPUT:comment</th>\n",
       "      <th>INPUT:task-id</th>\n",
       "      <th>OUTPUT:ad</th>\n",
       "      <th>OUTPUT:not_ad</th>\n",
       "      <th>OUTPUT:ban_insult_hard</th>\n",
       "      <th>OUTPUT:ban_shock_content</th>\n",
       "      <th>ASSIGNMENT:worker_id</th>\n",
       "      <th>OUTPUT:label</th>\n",
       "    </tr>\n",
       "  </thead>\n",
       "  <tbody>\n",
       "    <tr>\n",
       "      <th>0</th>\n",
       "      <td>not_ad</td>\n",
       "      <td>Почему такие старые автобусы ездят в Казани, о...</td>\n",
       "      <td>487</td>\n",
       "      <td>no</td>\n",
       "      <td>True</td>\n",
       "      <td>0</td>\n",
       "      <td>0</td>\n",
       "      <td>816ea89a07e831e72b3b7c83dbcc6531</td>\n",
       "      <td>not_ad</td>\n",
       "    </tr>\n",
       "    <tr>\n",
       "      <th>1</th>\n",
       "      <td>ad</td>\n",
       "      <td>Скидки на товары для подарков.. ♦️ВНИМАНИЕ♦️ВН...</td>\n",
       "      <td>48</td>\n",
       "      <td>yes</td>\n",
       "      <td>0</td>\n",
       "      <td>0</td>\n",
       "      <td>0</td>\n",
       "      <td>816ea89a07e831e72b3b7c83dbcc6531</td>\n",
       "      <td>ad</td>\n",
       "    </tr>\n",
       "    <tr>\n",
       "      <th>2</th>\n",
       "      <td>ban_shock_content</td>\n",
       "      <td>Разгон протестующих водомётами. 13.09.#. Брест...</td>\n",
       "      <td>300</td>\n",
       "      <td>yes</td>\n",
       "      <td>0</td>\n",
       "      <td>0</td>\n",
       "      <td>0</td>\n",
       "      <td>816ea89a07e831e72b3b7c83dbcc6531</td>\n",
       "      <td>ad</td>\n",
       "    </tr>\n",
       "    <tr>\n",
       "      <th>3</th>\n",
       "      <td>ban_shock_content</td>\n",
       "      <td>В Астрахани в 5 утра на Аэропортовском шоссе п...</td>\n",
       "      <td>310</td>\n",
       "      <td>no</td>\n",
       "      <td>0</td>\n",
       "      <td>0</td>\n",
       "      <td>True</td>\n",
       "      <td>816ea89a07e831e72b3b7c83dbcc6531</td>\n",
       "      <td>ban_shock_content</td>\n",
       "    </tr>\n",
       "    <tr>\n",
       "      <th>4</th>\n",
       "      <td>ad</td>\n",
       "      <td>Приходите к нам в April to you :). Комбо сняти...</td>\n",
       "      <td>33</td>\n",
       "      <td>yes</td>\n",
       "      <td>0</td>\n",
       "      <td>0</td>\n",
       "      <td>0</td>\n",
       "      <td>816ea89a07e831e72b3b7c83dbcc6531</td>\n",
       "      <td>ad</td>\n",
       "    </tr>\n",
       "  </tbody>\n",
       "</table>\n",
       "</div>"
      ],
      "text/plain": [
       "         INPUT:label                                      INPUT:comment  \\\n",
       "0             not_ad  Почему такие старые автобусы ездят в Казани, о...   \n",
       "1                 ad  Скидки на товары для подарков.. ♦️ВНИМАНИЕ♦️ВН...   \n",
       "2  ban_shock_content  Разгон протестующих водомётами. 13.09.#. Брест...   \n",
       "3  ban_shock_content  В Астрахани в 5 утра на Аэропортовском шоссе п...   \n",
       "4                 ad  Приходите к нам в April to you :). Комбо сняти...   \n",
       "\n",
       "   INPUT:task-id OUTPUT:ad OUTPUT:not_ad OUTPUT:ban_insult_hard  \\\n",
       "0            487        no          True                      0   \n",
       "1             48       yes             0                      0   \n",
       "2            300       yes             0                      0   \n",
       "3            310        no             0                      0   \n",
       "4             33       yes             0                      0   \n",
       "\n",
       "  OUTPUT:ban_shock_content              ASSIGNMENT:worker_id  \\\n",
       "0                        0  816ea89a07e831e72b3b7c83dbcc6531   \n",
       "1                        0  816ea89a07e831e72b3b7c83dbcc6531   \n",
       "2                        0  816ea89a07e831e72b3b7c83dbcc6531   \n",
       "3                     True  816ea89a07e831e72b3b7c83dbcc6531   \n",
       "4                        0  816ea89a07e831e72b3b7c83dbcc6531   \n",
       "\n",
       "        OUTPUT:label  \n",
       "0             not_ad  \n",
       "1                 ad  \n",
       "2                 ad  \n",
       "3  ban_shock_content  \n",
       "4                 ad  "
      ]
     },
     "execution_count": 5,
     "metadata": {},
     "output_type": "execute_result"
    }
   ],
   "source": [
    "df.head()"
   ]
  },
  {
   "cell_type": "code",
   "execution_count": null,
   "id": "782a9cf4",
   "metadata": {},
   "outputs": [],
   "source": []
  },
  {
   "cell_type": "code",
   "execution_count": 6,
   "id": "71bf76ef",
   "metadata": {},
   "outputs": [],
   "source": [
    "df = df.drop(columns=['OUTPUT:ad', 'OUTPUT:not_ad', 'OUTPUT:ban_insult_hard', 'OUTPUT:ban_shock_content'])"
   ]
  },
  {
   "cell_type": "code",
   "execution_count": 7,
   "id": "326796d5",
   "metadata": {},
   "outputs": [
    {
     "name": "stdout",
     "output_type": "stream",
     "text": [
      "<class 'pandas.core.frame.DataFrame'>\n",
      "RangeIndex: 1809 entries, 0 to 1808\n",
      "Data columns (total 5 columns):\n",
      " #   Column                Non-Null Count  Dtype \n",
      "---  ------                --------------  ----- \n",
      " 0   INPUT:label           1809 non-null   object\n",
      " 1   INPUT:comment         1809 non-null   object\n",
      " 2   INPUT:task-id         1809 non-null   int64 \n",
      " 3   ASSIGNMENT:worker_id  1809 non-null   object\n",
      " 4   OUTPUT:label          1809 non-null   object\n",
      "dtypes: int64(1), object(4)\n",
      "memory usage: 70.8+ KB\n"
     ]
    }
   ],
   "source": [
    "df.info()"
   ]
  },
  {
   "cell_type": "code",
   "execution_count": 8,
   "id": "530b1b79",
   "metadata": {},
   "outputs": [],
   "source": [
    "#сохранения в tsv\n",
    "df.to_csv('Quality_3.tsv', sep=\"\\t\", index=False)"
   ]
  },
  {
   "cell_type": "code",
   "execution_count": 9,
   "id": "339ecf41",
   "metadata": {},
   "outputs": [
    {
     "data": {
      "text/plain": [
       "1602"
      ]
     },
     "execution_count": 9,
     "metadata": {},
     "output_type": "execute_result"
    }
   ],
   "source": [
    "df[df['INPUT:label'] == df['OUTPUT:label']].count()[0]"
   ]
  },
  {
   "cell_type": "code",
   "execution_count": 10,
   "id": "a347e323",
   "metadata": {},
   "outputs": [
    {
     "data": {
      "text/plain": [
       "207"
      ]
     },
     "execution_count": 10,
     "metadata": {},
     "output_type": "execute_result"
    }
   ],
   "source": [
    "df[df['INPUT:label'] != df['OUTPUT:label']].count()[0]"
   ]
  },
  {
   "cell_type": "code",
   "execution_count": 11,
   "id": "2f23957b",
   "metadata": {},
   "outputs": [
    {
     "data": {
      "text/plain": [
       "0.12921348314606743"
      ]
     },
     "execution_count": 11,
     "metadata": {},
     "output_type": "execute_result"
    }
   ],
   "source": [
    "# 14.5% неправильных ответов\n",
    "df[df['INPUT:label'] != df['OUTPUT:label']].count()[0]/df[df['INPUT:label'] == df['OUTPUT:label']].count()[0]"
   ]
  },
  {
   "cell_type": "code",
   "execution_count": null,
   "id": "bb3863d0",
   "metadata": {},
   "outputs": [],
   "source": []
  },
  {
   "cell_type": "code",
   "execution_count": 12,
   "id": "4a572f28",
   "metadata": {},
   "outputs": [
    {
     "data": {
      "image/png": "[encoded data removed]",
      "text/plain": [
       "<Figure size 1000x500 with 1 Axes>"
      ]
     },
     "metadata": {},
     "output_type": "display_data"
    }
   ],
   "source": [
    "# \n",
    "_, axes = plt.subplots(1, sharey=True, figsize=(10,5))\n",
    "\n",
    "\n",
    "sns.countplot(x='INPUT:label', hue='OUTPUT:label', data=df);"
   ]
  },
  {
   "cell_type": "code",
   "execution_count": 13,
   "id": "b8874068",
   "metadata": {},
   "outputs": [
    {
     "data": {
      "text/html": [
       "<div>\n",
       "<style scoped>\n",
       "    .dataframe tbody tr th:only-of-type {\n",
       "        vertical-align: middle;\n",
       "    }\n",
       "\n",
       "    .dataframe tbody tr th {\n",
       "        vertical-align: top;\n",
       "    }\n",
       "\n",
       "    .dataframe thead th {\n",
       "        text-align: right;\n",
       "    }\n",
       "</style>\n",
       "<table border=\"1\" class=\"dataframe\">\n",
       "  <thead>\n",
       "    <tr style=\"text-align: right;\">\n",
       "      <th></th>\n",
       "      <th>INPUT:label</th>\n",
       "      <th>INPUT:comment</th>\n",
       "      <th>INPUT:task-id</th>\n",
       "      <th>ASSIGNMENT:worker_id</th>\n",
       "      <th>OUTPUT:label</th>\n",
       "    </tr>\n",
       "  </thead>\n",
       "  <tbody>\n",
       "    <tr>\n",
       "      <th>2</th>\n",
       "      <td>ban_shock_content</td>\n",
       "      <td>Разгон протестующих водомётами. 13.09.#. Брест...</td>\n",
       "      <td>300</td>\n",
       "      <td>816ea89a07e831e72b3b7c83dbcc6531</td>\n",
       "      <td>ad</td>\n",
       "    </tr>\n",
       "    <tr>\n",
       "      <th>11</th>\n",
       "      <td>ban_insult_hard</td>\n",
       "      <td>Заправка Лукойл. Заправлялся на лукойле на пер...</td>\n",
       "      <td>213</td>\n",
       "      <td>816ea89a07e831e72b3b7c83dbcc6531</td>\n",
       "      <td>not_ad</td>\n",
       "    </tr>\n",
       "    <tr>\n",
       "      <th>26</th>\n",
       "      <td>not_ad</td>\n",
       "      <td>Почему такие старые автобусы ездят в Казани, о...</td>\n",
       "      <td>487</td>\n",
       "      <td>0713a0890fd7ab152061589bb18c0d6d</td>\n",
       "      <td>ban_shock_content</td>\n",
       "    </tr>\n",
       "    <tr>\n",
       "      <th>33</th>\n",
       "      <td>not_ad</td>\n",
       "      <td>Хорошо что есть дистанционное обучение в школа...</td>\n",
       "      <td>497</td>\n",
       "      <td>816ea89a07e831e72b3b7c83dbcc6531</td>\n",
       "      <td>ad</td>\n",
       "    </tr>\n",
       "    <tr>\n",
       "      <th>34</th>\n",
       "      <td>ban_insult_hard</td>\n",
       "      <td>ПОЧЕМУ МОЛЧАТ РОССИЯНЕ.... Уже ни для кого в Р...</td>\n",
       "      <td>241</td>\n",
       "      <td>816ea89a07e831e72b3b7c83dbcc6531</td>\n",
       "      <td>ban_shock_content</td>\n",
       "    </tr>\n",
       "    <tr>\n",
       "      <th>...</th>\n",
       "      <td>...</td>\n",
       "      <td>...</td>\n",
       "      <td>...</td>\n",
       "      <td>...</td>\n",
       "      <td>...</td>\n",
       "    </tr>\n",
       "    <tr>\n",
       "      <th>1730</th>\n",
       "      <td>not_ad</td>\n",
       "      <td>Хорошо что есть дистанционное обучение в школа...</td>\n",
       "      <td>497</td>\n",
       "      <td>0d4b5165b310a9cc2702ba783740e315</td>\n",
       "      <td>ban_shock_content</td>\n",
       "    </tr>\n",
       "    <tr>\n",
       "      <th>1738</th>\n",
       "      <td>not_ad</td>\n",
       "      <td>В последние дни погода совсем не радует. Лето ...</td>\n",
       "      <td>442</td>\n",
       "      <td>b3760185737229c7076a484057fd7631</td>\n",
       "      <td>ban_shock_content</td>\n",
       "    </tr>\n",
       "    <tr>\n",
       "      <th>1746</th>\n",
       "      <td>ban_shock_content</td>\n",
       "      <td>❗В областном центре прошло первое судебное зас...</td>\n",
       "      <td>395</td>\n",
       "      <td>8457fa89ddc6e4aad907373316a347d1</td>\n",
       "      <td>not_ad</td>\n",
       "    </tr>\n",
       "    <tr>\n",
       "      <th>1762</th>\n",
       "      <td>not_ad</td>\n",
       "      <td>Почему такие старые автобусы ездят в Казани, о...</td>\n",
       "      <td>487</td>\n",
       "      <td>09f1883c3e227ba0bad347ecc3f6fe52</td>\n",
       "      <td>ban_shock_content</td>\n",
       "    </tr>\n",
       "    <tr>\n",
       "      <th>1789</th>\n",
       "      <td>not_ad</td>\n",
       "      <td>вот цоя говорят по телевизору я жду перемен ес...</td>\n",
       "      <td>421</td>\n",
       "      <td>09f1883c3e227ba0bad347ecc3f6fe52</td>\n",
       "      <td>ban_insult_hard</td>\n",
       "    </tr>\n",
       "  </tbody>\n",
       "</table>\n",
       "<p>207 rows × 5 columns</p>\n",
       "</div>"
      ],
      "text/plain": [
       "            INPUT:label                                      INPUT:comment  \\\n",
       "2     ban_shock_content  Разгон протестующих водомётами. 13.09.#. Брест...   \n",
       "11      ban_insult_hard  Заправка Лукойл. Заправлялся на лукойле на пер...   \n",
       "26               not_ad  Почему такие старые автобусы ездят в Казани, о...   \n",
       "33               not_ad  Хорошо что есть дистанционное обучение в школа...   \n",
       "34      ban_insult_hard  ПОЧЕМУ МОЛЧАТ РОССИЯНЕ.... Уже ни для кого в Р...   \n",
       "...                 ...                                                ...   \n",
       "1730             not_ad  Хорошо что есть дистанционное обучение в школа...   \n",
       "1738             not_ad  В последние дни погода совсем не радует. Лето ...   \n",
       "1746  ban_shock_content  ❗В областном центре прошло первое судебное зас...   \n",
       "1762             not_ad  Почему такие старые автобусы ездят в Казани, о...   \n",
       "1789             not_ad  вот цоя говорят по телевизору я жду перемен ес...   \n",
       "\n",
       "      INPUT:task-id              ASSIGNMENT:worker_id       OUTPUT:label  \n",
       "2               300  816ea89a07e831e72b3b7c83dbcc6531                 ad  \n",
       "11              213  816ea89a07e831e72b3b7c83dbcc6531             not_ad  \n",
       "26              487  0713a0890fd7ab152061589bb18c0d6d  ban_shock_content  \n",
       "33              497  816ea89a07e831e72b3b7c83dbcc6531                 ad  \n",
       "34              241  816ea89a07e831e72b3b7c83dbcc6531  ban_shock_content  \n",
       "...             ...                               ...                ...  \n",
       "1730            497  0d4b5165b310a9cc2702ba783740e315  ban_shock_content  \n",
       "1738            442  b3760185737229c7076a484057fd7631  ban_shock_content  \n",
       "1746            395  8457fa89ddc6e4aad907373316a347d1             not_ad  \n",
       "1762            487  09f1883c3e227ba0bad347ecc3f6fe52  ban_shock_content  \n",
       "1789            421  09f1883c3e227ba0bad347ecc3f6fe52    ban_insult_hard  \n",
       "\n",
       "[207 rows x 5 columns]"
      ]
     },
     "execution_count": 13,
     "metadata": {},
     "output_type": "execute_result"
    }
   ],
   "source": [
    "df[df['INPUT:label'] != df['OUTPUT:label']]"
   ]
  },
  {
   "cell_type": "code",
   "execution_count": null,
   "id": "fa1d3f36",
   "metadata": {},
   "outputs": [],
   "source": []
  },
  {
   "cell_type": "code",
   "execution_count": null,
   "id": "7d6317c0",
   "metadata": {},
   "outputs": [],
   "source": []
  },
  {
   "cell_type": "code",
   "execution_count": 14,
   "id": "d9d27327",
   "metadata": {},
   "outputs": [
    {
     "ename": "NameError",
     "evalue": "name 'data' is not defined",
     "output_type": "error",
     "traceback": [
      "\u001b[1;31m---------------------------------------------------------------------------\u001b[0m",
      "\u001b[1;31mNameError\u001b[0m                                 Traceback (most recent call last)",
      "\u001b[1;32m~\\AppData\\Local\\Temp\\ipykernel_17416\\3010485431.py\u001b[0m in \u001b[0;36m<module>\u001b[1;34m\u001b[0m\n\u001b[1;32m----> 1\u001b[1;33m \u001b[0mdata\u001b[0m\u001b[1;33m.\u001b[0m\u001b[0mgroupby\u001b[0m\u001b[1;33m(\u001b[0m\u001b[1;33m[\u001b[0m\u001b[1;34m'race'\u001b[0m\u001b[1;33m,\u001b[0m \u001b[1;34m'sex'\u001b[0m\u001b[1;33m]\u001b[0m\u001b[1;33m)\u001b[0m\u001b[1;33m[\u001b[0m\u001b[1;33m[\u001b[0m\u001b[1;34m'age'\u001b[0m\u001b[1;33m]\u001b[0m\u001b[1;33m]\u001b[0m\u001b[1;33m.\u001b[0m\u001b[0magg\u001b[0m\u001b[1;33m(\u001b[0m\u001b[1;33m[\u001b[0m\u001b[0mnp\u001b[0m\u001b[1;33m.\u001b[0m\u001b[0mmin\u001b[0m\u001b[1;33m,\u001b[0m \u001b[0mnp\u001b[0m\u001b[1;33m.\u001b[0m\u001b[0mmax\u001b[0m\u001b[1;33m,\u001b[0m \u001b[0mnp\u001b[0m\u001b[1;33m.\u001b[0m\u001b[0mmean\u001b[0m\u001b[1;33m,\u001b[0m \u001b[0mnp\u001b[0m\u001b[1;33m.\u001b[0m\u001b[0mstd\u001b[0m\u001b[1;33m,\u001b[0m\u001b[1;33m]\u001b[0m\u001b[1;33m)\u001b[0m\u001b[1;33m\u001b[0m\u001b[1;33m\u001b[0m\u001b[0m\n\u001b[0m",
      "\u001b[1;31mNameError\u001b[0m: name 'data' is not defined"
     ]
    }
   ],
   "source": []
  }
 ],
 "metadata": {
  "kernelspec": {
   "display_name": "Python 3 (ipykernel)",
   "language": "python",
   "name": "python3"
  },
  "language_info": {
   "codemirror_mode": {
    "name": "ipython",
    "version": 3
   },
   "file_extension": ".py",
   "mimetype": "text/x-python",
   "name": "python",
   "nbconvert_exporter": "python",
   "pygments_lexer": "ipython3",
   "version": "3.9.13"
  }
 },
 "nbformat": 4,
 "nbformat_minor": 5
}

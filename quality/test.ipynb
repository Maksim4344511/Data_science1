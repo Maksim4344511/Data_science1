{
 "cells": [
  {
   "cell_type": "code",
   "execution_count": 1,
   "id": "a5630724",
   "metadata": {},
   "outputs": [],
   "source": [
    "\n",
    "import pandas as pd\n",
    "\n",
    "%matplotlib inline\n",
    "import matplotlib.pyplot as plt\n",
    "import seaborn as sns\n",
    "import plotly.graph_objs as go\n",
    "import numpy as np\n",
    "import krippendorff\n"
   ]
  },
  {
   "cell_type": "code",
   "execution_count": 2,
   "id": "61592bb3",
   "metadata": {},
   "outputs": [],
   "source": [
    "from krippendorff.krippendorff import alpha"
   ]
  },
  {
   "cell_type": "code",
   "execution_count": 3,
   "id": "49f4359d",
   "metadata": {},
   "outputs": [],
   "source": [
    "df_trash = pd.read_csv('./Quality_3.tsv', sep=\"\\t\")\n",
    "df_quality = pd.read_csv('./Quality_4.tsv', sep=\"\\t\")\n",
    "df_quality_plus = pd.read_csv('./Quality_6.tsv', sep=\"\\t\")"
   ]
  },
  {
   "cell_type": "code",
   "execution_count": null,
   "id": "b9939fdf",
   "metadata": {},
   "outputs": [],
   "source": []
  },
  {
   "cell_type": "code",
   "execution_count": null,
   "id": "1d25afe1",
   "metadata": {},
   "outputs": [],
   "source": []
  },
  {
   "cell_type": "code",
   "execution_count": null,
   "id": "8fbd4b81",
   "metadata": {},
   "outputs": [],
   "source": []
  },
  {
   "cell_type": "code",
   "execution_count": 4,
   "id": "32d0a496",
   "metadata": {},
   "outputs": [
    {
     "name": "stdout",
     "output_type": "stream",
     "text": [
      "0.8326719879833784\n",
      "0.7899202837357762\n",
      "0.8409949402729187\n"
     ]
    }
   ],
   "source": [
    "for x in [df_trash, df_quality, df_quality_plus]:\n",
    "    value_counts  =pd.crosstab(x['INPUT:task-id'], x['OUTPUT:label'])\n",
    "    print(krippendorff.alpha(value_counts=value_counts))"
   ]
  },
  {
   "cell_type": "code",
   "execution_count": 5,
   "id": "92c07b81",
   "metadata": {},
   "outputs": [],
   "source": [
    "import re"
   ]
  },
  {
   "cell_type": "code",
   "execution_count": 6,
   "id": "ff87066d",
   "metadata": {},
   "outputs": [],
   "source": [
    "df_golden = pd.read_csv('./golden_labels.tsv', sep=\"\\t\")"
   ]
  },
  {
   "cell_type": "code",
   "execution_count": 7,
   "id": "856fcc2c",
   "metadata": {},
   "outputs": [
    {
     "data": {
      "text/html": [
       "<div>\n",
       "<style scoped>\n",
       "    .dataframe tbody tr th:only-of-type {\n",
       "        vertical-align: middle;\n",
       "    }\n",
       "\n",
       "    .dataframe tbody tr th {\n",
       "        vertical-align: top;\n",
       "    }\n",
       "\n",
       "    .dataframe thead th {\n",
       "        text-align: right;\n",
       "    }\n",
       "</style>\n",
       "<table border=\"1\" class=\"dataframe\">\n",
       "  <thead>\n",
       "    <tr style=\"text-align: right;\">\n",
       "      <th></th>\n",
       "      <th>INPUT:task-id</th>\n",
       "      <th>INPUT:comment</th>\n",
       "      <th>INPUT:label</th>\n",
       "    </tr>\n",
       "  </thead>\n",
       "  <tbody>\n",
       "    <tr>\n",
       "      <th>0</th>\n",
       "      <td>0</td>\n",
       "      <td>экскурсии  вторник и четверг 12:15, 13:30, 14:...</td>\n",
       "      <td>ad</td>\n",
       "    </tr>\n",
       "    <tr>\n",
       "      <th>1</th>\n",
       "      <td>1</td>\n",
       "      <td>Мойка самообслуживания 24/7 Аллес Гуд. Работае...</td>\n",
       "      <td>ad</td>\n",
       "    </tr>\n",
       "    <tr>\n",
       "      <th>2</th>\n",
       "      <td>2</td>\n",
       "      <td>Строительные работы, мелкие работы.. Наш сайт ...</td>\n",
       "      <td>ad</td>\n",
       "    </tr>\n",
       "    <tr>\n",
       "      <th>3</th>\n",
       "      <td>3</td>\n",
       "      <td>Приму заказ на парфюм. С ног сшибательны аромат</td>\n",
       "      <td>ad</td>\n",
       "    </tr>\n",
       "    <tr>\n",
       "      <th>4</th>\n",
       "      <td>4</td>\n",
       "      <td>✅Мы предлагаем приобрести б/у технику в нашем ...</td>\n",
       "      <td>ad</td>\n",
       "    </tr>\n",
       "  </tbody>\n",
       "</table>\n",
       "</div>"
      ],
      "text/plain": [
       "   INPUT:task-id                                      INPUT:comment  \\\n",
       "0              0  экскурсии  вторник и четверг 12:15, 13:30, 14:...   \n",
       "1              1  Мойка самообслуживания 24/7 Аллес Гуд. Работае...   \n",
       "2              2  Строительные работы, мелкие работы.. Наш сайт ...   \n",
       "3              3    Приму заказ на парфюм. С ног сшибательны аромат   \n",
       "4              4  ✅Мы предлагаем приобрести б/у технику в нашем ...   \n",
       "\n",
       "  INPUT:label  \n",
       "0          ad  \n",
       "1          ad  \n",
       "2          ad  \n",
       "3          ad  \n",
       "4          ad  "
      ]
     },
     "execution_count": 7,
     "metadata": {},
     "output_type": "execute_result"
    }
   ],
   "source": [
    "df_golden.head()"
   ]
  },
  {
   "cell_type": "code",
   "execution_count": 8,
   "id": "12eda23f",
   "metadata": {},
   "outputs": [],
   "source": [
    "df_golden['INPUT:comment'].replace(regex=True,inplace=True,to_replace=r'[8-9]{1}[0-9]{9}',value=r'#')\n",
    "    "
   ]
  },
  {
   "cell_type": "code",
   "execution_count": 9,
   "id": "9b5958b2",
   "metadata": {},
   "outputs": [],
   "source": [
    "df_golden['INPUT:comment'].replace(regex=True,inplace=True,to_replace=r'[+7]{1}',value=r'#')"
   ]
  },
  {
   "cell_type": "code",
   "execution_count": 10,
   "id": "4e3b45c7",
   "metadata": {},
   "outputs": [],
   "source": [
    "df_golden['INPUT:comment'].replace(regex=True,inplace=True,to_replace=r'(\\d{4})', value=r'#')"
   ]
  },
  {
   "cell_type": "code",
   "execution_count": 11,
   "id": "69ea9706",
   "metadata": {},
   "outputs": [],
   "source": [
    "df_golden.to_csv('golden_not_number.tsv', sep=\"\\t\", index=False)"
   ]
  },
  {
   "cell_type": "code",
   "execution_count": 12,
   "id": "5873c2c1",
   "metadata": {},
   "outputs": [],
   "source": [
    "#(\\d{3})\\D*(\\d{3})\\D*(\\d{4})\\D*(\\d*)$"
   ]
  },
  {
   "cell_type": "code",
   "execution_count": null,
   "id": "572b5ac2",
   "metadata": {},
   "outputs": [],
   "source": []
  }
 ],
 "metadata": {
  "kernelspec": {
   "display_name": "Python 3 (ipykernel)",
   "language": "python",
   "name": "python3"
  },
  "language_info": {
   "codemirror_mode": {
    "name": "ipython",
    "version": 3
   },
   "file_extension": ".py",
   "mimetype": "text/x-python",
   "name": "python",
   "nbconvert_exporter": "python",
   "pygments_lexer": "ipython3",
   "version": "3.9.13"
  }
 },
 "nbformat": 4,
 "nbformat_minor": 5
}

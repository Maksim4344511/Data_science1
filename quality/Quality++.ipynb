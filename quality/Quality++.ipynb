{
 "cells": [
  {
   "cell_type": "code",
   "execution_count": 1,
   "id": "b4d2f172",
   "metadata": {},
   "outputs": [],
   "source": [
    "import pandas as pd\n",
    "\n",
    "%matplotlib inline\n",
    "import matplotlib.pyplot as plt\n",
    "import seaborn as sns\n",
    "import plotly.graph_objs as go\n",
    "import numpy as np"
   ]
  },
  {
   "cell_type": "code",
   "execution_count": 2,
   "id": "fc0a5ee0",
   "metadata": {},
   "outputs": [],
   "source": [
    "df = pd.read_csv('./assignments_from_pool_Quality++.tsv', sep=\"\\t\")"
   ]
  },
  {
   "cell_type": "code",
   "execution_count": 3,
   "id": "d6f230f7",
   "metadata": {},
   "outputs": [],
   "source": [
    "df = df.drop(columns=['GOLDEN:ad', 'GOLDEN:not_ad', 'GOLDEN:ban_insult_hard', 'GOLDEN:ban_shock_content', 'GOLDEN:ban_shock_content',\n",
    "'HINT:text', 'HINT:default_language'])\n"
   ]
  },
  {
   "cell_type": "code",
   "execution_count": 4,
   "id": "fa76ee05",
   "metadata": {},
   "outputs": [],
   "source": [
    "df = df.fillna(0)\n",
    "def f(row):\n",
    "    if row['OUTPUT:ad'] == 'yes':\n",
    "        val = 'ad'\n",
    "    elif row['OUTPUT:not_ad'] != 0:\n",
    "        val = 'not_ad'\n",
    "    elif row['OUTPUT:ban_insult_hard'] != 0:\n",
    "        val = 'ban_insult_hard'\n",
    "    elif row['OUTPUT:ban_shock_content'] != 0:\n",
    "        val = 'ban_shock_content'    \n",
    "    else:\n",
    "        val = ' '\n",
    "    return val\n",
    "\n",
    "df['OUTPUT:label'] = df.apply(f, axis=1)\n",
    "\n"
   ]
  },
  {
   "cell_type": "code",
   "execution_count": 5,
   "id": "c9c49a83",
   "metadata": {},
   "outputs": [
    {
     "data": {
      "text/html": [
       "<div>\n",
       "<style scoped>\n",
       "    .dataframe tbody tr th:only-of-type {\n",
       "        vertical-align: middle;\n",
       "    }\n",
       "\n",
       "    .dataframe tbody tr th {\n",
       "        vertical-align: top;\n",
       "    }\n",
       "\n",
       "    .dataframe thead th {\n",
       "        text-align: right;\n",
       "    }\n",
       "</style>\n",
       "<table border=\"1\" class=\"dataframe\">\n",
       "  <thead>\n",
       "    <tr style=\"text-align: right;\">\n",
       "      <th></th>\n",
       "      <th>INPUT:label</th>\n",
       "      <th>INPUT:comment</th>\n",
       "      <th>INPUT:task-id</th>\n",
       "      <th>OUTPUT:ad</th>\n",
       "      <th>OUTPUT:not_ad</th>\n",
       "      <th>OUTPUT:ban_insult_hard</th>\n",
       "      <th>OUTPUT:ban_shock_content</th>\n",
       "      <th>ASSIGNMENT:worker_id</th>\n",
       "      <th>OUTPUT:label</th>\n",
       "    </tr>\n",
       "  </thead>\n",
       "  <tbody>\n",
       "    <tr>\n",
       "      <th>0</th>\n",
       "      <td>ban_shock_content</td>\n",
       "      <td>Чьи кости нашли строители под Карлинским. След...</td>\n",
       "      <td>351</td>\n",
       "      <td>no</td>\n",
       "      <td>0</td>\n",
       "      <td>0</td>\n",
       "      <td>True</td>\n",
       "      <td>c9ab6876573089328e56f514b0b77f5b</td>\n",
       "      <td>ban_shock_content</td>\n",
       "    </tr>\n",
       "    <tr>\n",
       "      <th>1</th>\n",
       "      <td>ad</td>\n",
       "      <td>ФИЗИОТЕРАПИЯ В ТУЛЕ. Реабилитационный центр ФИ...</td>\n",
       "      <td>111</td>\n",
       "      <td>yes</td>\n",
       "      <td>0</td>\n",
       "      <td>0</td>\n",
       "      <td>0</td>\n",
       "      <td>c9ab6876573089328e56f514b0b77f5b</td>\n",
       "      <td>ad</td>\n",
       "    </tr>\n",
       "    <tr>\n",
       "      <th>2</th>\n",
       "      <td>not_ad</td>\n",
       "      <td>Мэр сегодня посетил насосно-перекачивающую ста...</td>\n",
       "      <td>451</td>\n",
       "      <td>no</td>\n",
       "      <td>True</td>\n",
       "      <td>0</td>\n",
       "      <td>0</td>\n",
       "      <td>c9ab6876573089328e56f514b0b77f5b</td>\n",
       "      <td>not_ad</td>\n",
       "    </tr>\n",
       "    <tr>\n",
       "      <th>3</th>\n",
       "      <td>not_ad</td>\n",
       "      <td>На сев-востоке ост.охотничья с воскресенье упа...</td>\n",
       "      <td>495</td>\n",
       "      <td>no</td>\n",
       "      <td>True</td>\n",
       "      <td>0</td>\n",
       "      <td>0</td>\n",
       "      <td>c9ab6876573089328e56f514b0b77f5b</td>\n",
       "      <td>not_ad</td>\n",
       "    </tr>\n",
       "    <tr>\n",
       "      <th>4</th>\n",
       "      <td>ad</td>\n",
       "      <td>Снижение цен на мебельный щит. Успейте восполь...</td>\n",
       "      <td>35</td>\n",
       "      <td>yes</td>\n",
       "      <td>0</td>\n",
       "      <td>0</td>\n",
       "      <td>0</td>\n",
       "      <td>c9ab6876573089328e56f514b0b77f5b</td>\n",
       "      <td>ad</td>\n",
       "    </tr>\n",
       "  </tbody>\n",
       "</table>\n",
       "</div>"
      ],
      "text/plain": [
       "         INPUT:label                                      INPUT:comment  \\\n",
       "0  ban_shock_content  Чьи кости нашли строители под Карлинским. След...   \n",
       "1                 ad  ФИЗИОТЕРАПИЯ В ТУЛЕ. Реабилитационный центр ФИ...   \n",
       "2             not_ad  Мэр сегодня посетил насосно-перекачивающую ста...   \n",
       "3             not_ad  На сев-востоке ост.охотничья с воскресенье упа...   \n",
       "4                 ad  Снижение цен на мебельный щит. Успейте восполь...   \n",
       "\n",
       "   INPUT:task-id OUTPUT:ad OUTPUT:not_ad OUTPUT:ban_insult_hard  \\\n",
       "0            351        no             0                      0   \n",
       "1            111       yes             0                      0   \n",
       "2            451        no          True                      0   \n",
       "3            495        no          True                      0   \n",
       "4             35       yes             0                      0   \n",
       "\n",
       "  OUTPUT:ban_shock_content              ASSIGNMENT:worker_id  \\\n",
       "0                     True  c9ab6876573089328e56f514b0b77f5b   \n",
       "1                        0  c9ab6876573089328e56f514b0b77f5b   \n",
       "2                        0  c9ab6876573089328e56f514b0b77f5b   \n",
       "3                        0  c9ab6876573089328e56f514b0b77f5b   \n",
       "4                        0  c9ab6876573089328e56f514b0b77f5b   \n",
       "\n",
       "        OUTPUT:label  \n",
       "0  ban_shock_content  \n",
       "1                 ad  \n",
       "2             not_ad  \n",
       "3             not_ad  \n",
       "4                 ad  "
      ]
     },
     "execution_count": 5,
     "metadata": {},
     "output_type": "execute_result"
    }
   ],
   "source": [
    "df.head()"
   ]
  },
  {
   "cell_type": "code",
   "execution_count": null,
   "id": "782a9cf4",
   "metadata": {},
   "outputs": [],
   "source": []
  },
  {
   "cell_type": "code",
   "execution_count": 6,
   "id": "71bf76ef",
   "metadata": {},
   "outputs": [],
   "source": [
    "df = df.drop(columns=['OUTPUT:ad', 'OUTPUT:not_ad', 'OUTPUT:ban_insult_hard', 'OUTPUT:ban_shock_content'])"
   ]
  },
  {
   "cell_type": "code",
   "execution_count": 7,
   "id": "326796d5",
   "metadata": {},
   "outputs": [
    {
     "name": "stdout",
     "output_type": "stream",
     "text": [
      "<class 'pandas.core.frame.DataFrame'>\n",
      "RangeIndex: 1610 entries, 0 to 1609\n",
      "Data columns (total 5 columns):\n",
      " #   Column                Non-Null Count  Dtype \n",
      "---  ------                --------------  ----- \n",
      " 0   INPUT:label           1610 non-null   object\n",
      " 1   INPUT:comment         1610 non-null   object\n",
      " 2   INPUT:task-id         1610 non-null   int64 \n",
      " 3   ASSIGNMENT:worker_id  1610 non-null   object\n",
      " 4   OUTPUT:label          1610 non-null   object\n",
      "dtypes: int64(1), object(4)\n",
      "memory usage: 63.0+ KB\n"
     ]
    }
   ],
   "source": [
    "df.info()"
   ]
  },
  {
   "cell_type": "code",
   "execution_count": 8,
   "id": "530b1b79",
   "metadata": {},
   "outputs": [],
   "source": [
    "#сохранения в tsv\n",
    "df.to_csv('Quality++.tsv', sep=\"\\t\", index=False)"
   ]
  },
  {
   "cell_type": "code",
   "execution_count": 9,
   "id": "339ecf41",
   "metadata": {},
   "outputs": [
    {
     "data": {
      "text/plain": [
       "1390"
      ]
     },
     "execution_count": 9,
     "metadata": {},
     "output_type": "execute_result"
    }
   ],
   "source": [
    "df[df['INPUT:label'] == df['OUTPUT:label']].count()[0]"
   ]
  },
  {
   "cell_type": "code",
   "execution_count": 10,
   "id": "a347e323",
   "metadata": {},
   "outputs": [
    {
     "data": {
      "text/plain": [
       "220"
      ]
     },
     "execution_count": 10,
     "metadata": {},
     "output_type": "execute_result"
    }
   ],
   "source": [
    "df[df['INPUT:label'] != df['OUTPUT:label']].count()[0]"
   ]
  },
  {
   "cell_type": "code",
   "execution_count": 11,
   "id": "2f23957b",
   "metadata": {},
   "outputs": [
    {
     "data": {
      "text/plain": [
       "0.14666666666666667"
      ]
     },
     "execution_count": 11,
     "metadata": {},
     "output_type": "execute_result"
    }
   ],
   "source": [
    "# 14.5% неправильных ответов\n",
    "df[df['INPUT:label'] != df['OUTPUT:label']].count()[0] / 1500"
   ]
  },
  {
   "cell_type": "code",
   "execution_count": null,
   "id": "bb3863d0",
   "metadata": {},
   "outputs": [],
   "source": []
  },
  {
   "cell_type": "code",
   "execution_count": 12,
   "id": "4a572f28",
   "metadata": {},
   "outputs": [
    {
     "data": {
      "image/png": "[encoded data removed]",
      "text/plain": [
       "<Figure size 1000x500 with 1 Axes>"
      ]
     },
     "metadata": {},
     "output_type": "display_data"
    }
   ],
   "source": [
    "# \n",
    "_, axes = plt.subplots(1, sharey=True, figsize=(10,5))\n",
    "\n",
    "\n",
    "sns.countplot(x='INPUT:label', hue='OUTPUT:label', data=df);"
   ]
  },
  {
   "cell_type": "code",
   "execution_count": null,
   "id": "b8874068",
   "metadata": {},
   "outputs": [],
   "source": []
  },
  {
   "cell_type": "code",
   "execution_count": null,
   "id": "fa1d3f36",
   "metadata": {},
   "outputs": [],
   "source": []
  }
 ],
 "metadata": {
  "kernelspec": {
   "display_name": "Python 3 (ipykernel)",
   "language": "python",
   "name": "python3"
  },
  "language_info": {
   "codemirror_mode": {
    "name": "ipython",
    "version": 3
   },
   "file_extension": ".py",
   "mimetype": "text/x-python",
   "name": "python",
   "nbconvert_exporter": "python",
   "pygments_lexer": "ipython3",
   "version": "3.9.13"
  }
 },
 "nbformat": 4,
 "nbformat_minor": 5
}
